{
 "cells": [
  {
   "cell_type": "markdown",
   "metadata": {},
   "source": [
    "# Linear regression model"
   ]
  },
  {
   "cell_type": "markdown",
   "metadata": {},
   "source": [
    "## Answer the questions\n",
    "   "
   ]
  },
  {
   "cell_type": "markdown",
   "metadata": {},
   "source": [
    "> Derive an analytical solution to the regression problem. Use a vector form of the equation."
   ]
  },
  {
   "cell_type": "markdown",
   "metadata": {},
   "source": [
    "$w=(X^TX)^{-1}X^Ty$ "
   ]
  },
  {
   "cell_type": "markdown",
   "metadata": {},
   "source": [
    "> What changes in the solution when L1 and L2 regularizations are added to the loss function."
   ]
  },
  {
   "cell_type": "markdown",
   "metadata": {},
   "source": [
    "Ridge regression\n",
    "$w=(X^TX+λI)^{-1} X^Ty$\n",
    "Lasso is non differentiable need to use gradient decent for optimization"
   ]
  },
  {
   "cell_type": "markdown",
   "metadata": {},
   "source": [
    "> Explain why L1 regularization is often used to select features. Why are there many weights equal to 0 after the model is fit?"
   ]
  },
  {
   "cell_type": "markdown",
   "metadata": {},
   "source": [
    "L1 is used as it is able to select the most important features by shrinking, meaning reducing coffients to 0. The level of feature selection is based on the lambda. This could be due to low impact or multicollinearity."
   ]
  },
  {
   "cell_type": "markdown",
   "metadata": {},
   "source": [
    "> Explain how you can use the same models (Linear regression, Ridge, etc.) but make it possible to fit nonlinear dependencies."
   ]
  },
  {
   "cell_type": "markdown",
   "metadata": {},
   "source": [
    "It is possible to fit but it is not optimal as it will assume linearity and the model will not be accurate. To imprve accuracy it is possible to make the regresion quadratic or normalizing it using logarithms or any other forms of altering x."
   ]
  },
  {
   "cell_type": "markdown",
   "metadata": {},
   "source": [
    "## Introduction — make all the preprocessing staff from the previous lesson\n",
    ">Import libraries. "
   ]
  },
  {
   "cell_type": "code",
   "execution_count": 61,
   "metadata": {},
   "outputs": [],
   "source": [
    "import pandas as pd\n",
    "import numpy as np\n",
    "import matplotlib.pyplot as plt\n",
    "import seaborn as sns\n",
    "from collections import Counter\n",
    "from sklearn.model_selection import train_test_split\n",
    "from numpy import random\n",
    "from sklearn.linear_model import LinearRegression, Ridge, Lasso, ElasticNet\n",
    "from sklearn.metrics import r2_score, mean_absolute_error, root_mean_squared_error\n",
    "from sklearn.preprocessing import MinMaxScaler, StandardScaler, PolynomialFeatures"
   ]
  },
  {
   "cell_type": "markdown",
   "metadata": {},
   "source": [
    ">Read Train and Test Parts."
   ]
  },
  {
   "cell_type": "code",
   "execution_count": 62,
   "metadata": {},
   "outputs": [],
   "source": [
    "data = pd.read_json('data/train.json')\n",
    "upper_perc = np.percentile(data['price'], 99)\n",
    "lower_perc = np.percentile(data['price'], 1)\n",
    "\n",
    "data = data[(data['price'] < upper_perc) & (data['price'] > lower_perc)]\n",
    "data = data.reset_index(drop=True)"
   ]
  },
  {
   "cell_type": "markdown",
   "metadata": {},
   "source": [
    ">Preprocess \"Interest Level\" feature."
   ]
  },
  {
   "cell_type": "code",
   "execution_count": 63,
   "metadata": {},
   "outputs": [
    {
     "name": "stdout",
     "output_type": "stream",
     "text": [
      "interest_level\n",
      "low       33672\n",
      "medium    11114\n",
      "high       3557\n",
      "Name: count, dtype: int64\n",
      "interest_level\n",
      "0    33672\n",
      "1    11114\n",
      "2     3557\n",
      "Name: count, dtype: int64\n"
     ]
    }
   ],
   "source": [
    "print(data['interest_level'].value_counts())\n",
    "data['interest_level'] = data['interest_level'].map({'low': 0, 'medium': 1, 'high': 2})\n",
    "print(data['interest_level'].value_counts())"
   ]
  },
  {
   "cell_type": "markdown",
   "metadata": {},
   "source": [
    "## Intro data analysis part 2\n",
    "> Let's generate additional features for better model quality. Consider a column called \"Features\". It consists of a list of highlights of the current flat. \n"
   ]
  },
  {
   "cell_type": "markdown",
   "metadata": {},
   "source": [
    "> Remove unused symbols ([,], ', \", and space) from the column.\n"
   ]
  },
  {
   "cell_type": "code",
   "execution_count": 64,
   "metadata": {},
   "outputs": [],
   "source": [
    "data['features'] = data['features'].astype(str).str.replace(r\"[\\[\\]'\\\"\\s]\", \"\", regex=True)\n"
   ]
  },
  {
   "cell_type": "code",
   "execution_count": 65,
   "metadata": {},
   "outputs": [
    {
     "data": {
      "text/plain": [
       "0        DiningRoom,Pre-War,LaundryinBuilding,Dishwashe...\n",
       "1        Doorman,Elevator,LaundryinBuilding,Dishwasher,...\n",
       "2        Doorman,Elevator,LaundryinBuilding,LaundryinUn...\n",
       "3                                                         \n",
       "4         Doorman,Elevator,FitnessCenter,LaundryinBuilding\n",
       "                               ...                        \n",
       "48338                   Elevator,Dishwasher,HardwoodFloors\n",
       "48339    CommonOutdoorSpace,CatsAllowed,DogsAllowed,NoF...\n",
       "48340    DiningRoom,Elevator,Pre-War,LaundryinBuilding,...\n",
       "48341    Pre-War,LaundryinUnit,Dishwasher,NoFee,Outdoor...\n",
       "48342    DiningRoom,Elevator,LaundryinBuilding,Dishwash...\n",
       "Name: features, Length: 48343, dtype: object"
      ]
     },
     "execution_count": 65,
     "metadata": {},
     "output_type": "execute_result"
    }
   ],
   "source": [
    "data['features']"
   ]
  },
  {
   "cell_type": "markdown",
   "metadata": {},
   "source": [
    "> Split values in each row with the separator \",\" and collect the result in one huge list for the whole dataset. You can use DataFrame.iterrows().\n"
   ]
  },
  {
   "cell_type": "code",
   "execution_count": 66,
   "metadata": {},
   "outputs": [],
   "source": [
    "all_features = []\n",
    "for index, row in data.iterrows():\n",
    "    features = row['features'].split(',')\n",
    "    all_features.extend(features)"
   ]
  },
  {
   "cell_type": "markdown",
   "metadata": {},
   "source": [
    "> How many unique values does a result list contain?\n"
   ]
  },
  {
   "cell_type": "code",
   "execution_count": 67,
   "metadata": {},
   "outputs": [
    {
     "name": "stdout",
     "output_type": "stream",
     "text": [
      "1530\n"
     ]
    }
   ],
   "source": [
    "print(len(set(all_features)))"
   ]
  },
  {
   "cell_type": "markdown",
   "metadata": {},
   "source": [
    "> Let's get acquainted with the new library — Collections. With this package you could effectively get quantity statistics about your data. \n"
   ]
  },
  {
   "cell_type": "markdown",
   "metadata": {},
   "source": [
    "> Count the most popular functions from our huge list and take the top 20 for this moment.\n"
   ]
  },
  {
   "cell_type": "code",
   "execution_count": 68,
   "metadata": {},
   "outputs": [
    {
     "name": "stdout",
     "output_type": "stream",
     "text": [
      "[('Elevator', 25375), ('HardwoodFloors', 23146), ('CatsAllowed', 23135), ('DogsAllowed', 21652), ('Doorman', 20479), ('Dishwasher', 20081), ('NoFee', 17793), ('LaundryinBuilding', 16082), ('FitnessCenter', 12989), ('Pre-War', 8971), ('LaundryinUnit', 8437), ('RoofDeck', 6417), ('OutdoorSpace', 5132), ('DiningRoom', 4890), ('HighSpeedInternet', 4223), ('', 3106), ('Balcony', 2898), ('SwimmingPool', 2643), ('LaundryInBuilding', 2564), ('NewConstruction', 2504), ('Terrace', 2177)]\n"
     ]
    }
   ],
   "source": [
    "print(Counter(all_features).most_common(21))"
   ]
  },
  {
   "cell_type": "markdown",
   "metadata": {},
   "source": [
    "> If everything is correct, you should get next values:  'Elevator', 'HardwoodFloors', 'CatsAllowed', 'DogsAllowed', 'Doorman', 'Dishwasher', 'NoFee', 'LaundryinBuilding', 'FitnessCenter', 'Pre-War', 'LaundryinUnit', 'RoofDeck', 'OutdoorSpace', 'DiningRoom', 'HighSpeedInternet', 'Balcony', 'SwimmingPool', 'LaundryInBuilding', 'NewConstruction', 'Terrace'.\n"
   ]
  },
  {
   "cell_type": "markdown",
   "metadata": {},
   "source": [
    "> Now create 20 new features based on the top 20 values: 1 if the value is in the \"Feature\" column, otherwise 0.\n"
   ]
  },
  {
   "cell_type": "code",
   "execution_count": 69,
   "metadata": {},
   "outputs": [],
   "source": [
    "top20_features = ['Elevator', 'HardwoodFloors', 'CatsAllowed', 'DogsAllowed', 'Doorman', 'Dishwasher', 'NoFee', 'LaundryinBuilding', 'FitnessCenter', 'Pre-War', 'LaundryinUnit', 'RoofDeck', 'OutdoorSpace', 'DiningRoom', 'HighSpeedInternet', 'Balcony', 'SwimmingPool', 'LaundryInBuilding', 'NewConstruction', 'Terrace']"
   ]
  },
  {
   "cell_type": "code",
   "execution_count": 70,
   "metadata": {},
   "outputs": [],
   "source": [
    "def create_binary_features(features, top_features):\n",
    "    feature_set = set(features.split(','))\n",
    "    return [1 if feature in feature_set else 0 for feature in top_features]\n",
    "\n",
    "for feature in top20_features:\n",
    "    data[feature] = data['features'].apply(lambda x: create_binary_features(x, [feature])[0])"
   ]
  },
  {
   "cell_type": "markdown",
   "metadata": {},
   "source": [
    "> Extend our feature set with 'bathrooms', 'bedrooms', 'interest_level' and create a special variable feature_list with all feature names. Now we have 23 values. All models should be trained on these 23 features.\n",
    "\n"
   ]
  },
  {
   "cell_type": "code",
   "execution_count": 71,
   "metadata": {},
   "outputs": [],
   "source": [
    "X = data[['bathrooms', 'bedrooms', 'interest_level', 'Elevator', 'HardwoodFloors', 'CatsAllowed', 'DogsAllowed', 'Doorman', 'Dishwasher', 'NoFee', 'LaundryinBuilding', 'FitnessCenter', 'Pre-War', 'LaundryinUnit', 'RoofDeck', 'OutdoorSpace', 'DiningRoom', 'HighSpeedInternet', 'Balcony', 'SwimmingPool', 'LaundryInBuilding', 'NewConstruction', 'Terrace']]\n",
    "y = data['price']\n",
    "\n",
    "X_train, X_test, y_train, y_test = train_test_split(X, y, test_size=0.2, random_state=21)"
   ]
  },
  {
   "cell_type": "code",
   "execution_count": 72,
   "metadata": {},
   "outputs": [
    {
     "data": {
      "text/html": [
       "<div>\n",
       "<style scoped>\n",
       "    .dataframe tbody tr th:only-of-type {\n",
       "        vertical-align: middle;\n",
       "    }\n",
       "\n",
       "    .dataframe tbody tr th {\n",
       "        vertical-align: top;\n",
       "    }\n",
       "\n",
       "    .dataframe thead th {\n",
       "        text-align: right;\n",
       "    }\n",
       "</style>\n",
       "<table border=\"1\" class=\"dataframe\">\n",
       "  <thead>\n",
       "    <tr style=\"text-align: right;\">\n",
       "      <th></th>\n",
       "      <th>bathrooms</th>\n",
       "      <th>bedrooms</th>\n",
       "      <th>interest_level</th>\n",
       "      <th>Elevator</th>\n",
       "      <th>HardwoodFloors</th>\n",
       "      <th>CatsAllowed</th>\n",
       "      <th>DogsAllowed</th>\n",
       "      <th>Doorman</th>\n",
       "      <th>Dishwasher</th>\n",
       "      <th>NoFee</th>\n",
       "      <th>...</th>\n",
       "      <th>LaundryinUnit</th>\n",
       "      <th>RoofDeck</th>\n",
       "      <th>OutdoorSpace</th>\n",
       "      <th>DiningRoom</th>\n",
       "      <th>HighSpeedInternet</th>\n",
       "      <th>Balcony</th>\n",
       "      <th>SwimmingPool</th>\n",
       "      <th>LaundryInBuilding</th>\n",
       "      <th>NewConstruction</th>\n",
       "      <th>Terrace</th>\n",
       "    </tr>\n",
       "  </thead>\n",
       "  <tbody>\n",
       "    <tr>\n",
       "      <th>43187</th>\n",
       "      <td>1.0</td>\n",
       "      <td>1</td>\n",
       "      <td>0</td>\n",
       "      <td>1</td>\n",
       "      <td>1</td>\n",
       "      <td>1</td>\n",
       "      <td>1</td>\n",
       "      <td>0</td>\n",
       "      <td>1</td>\n",
       "      <td>0</td>\n",
       "      <td>...</td>\n",
       "      <td>0</td>\n",
       "      <td>0</td>\n",
       "      <td>0</td>\n",
       "      <td>0</td>\n",
       "      <td>0</td>\n",
       "      <td>0</td>\n",
       "      <td>0</td>\n",
       "      <td>0</td>\n",
       "      <td>0</td>\n",
       "      <td>0</td>\n",
       "    </tr>\n",
       "    <tr>\n",
       "      <th>26391</th>\n",
       "      <td>1.0</td>\n",
       "      <td>1</td>\n",
       "      <td>0</td>\n",
       "      <td>0</td>\n",
       "      <td>0</td>\n",
       "      <td>1</td>\n",
       "      <td>1</td>\n",
       "      <td>1</td>\n",
       "      <td>0</td>\n",
       "      <td>0</td>\n",
       "      <td>...</td>\n",
       "      <td>0</td>\n",
       "      <td>0</td>\n",
       "      <td>0</td>\n",
       "      <td>0</td>\n",
       "      <td>0</td>\n",
       "      <td>0</td>\n",
       "      <td>0</td>\n",
       "      <td>0</td>\n",
       "      <td>0</td>\n",
       "      <td>0</td>\n",
       "    </tr>\n",
       "    <tr>\n",
       "      <th>38916</th>\n",
       "      <td>1.0</td>\n",
       "      <td>2</td>\n",
       "      <td>0</td>\n",
       "      <td>1</td>\n",
       "      <td>0</td>\n",
       "      <td>1</td>\n",
       "      <td>1</td>\n",
       "      <td>1</td>\n",
       "      <td>0</td>\n",
       "      <td>0</td>\n",
       "      <td>...</td>\n",
       "      <td>0</td>\n",
       "      <td>0</td>\n",
       "      <td>1</td>\n",
       "      <td>0</td>\n",
       "      <td>0</td>\n",
       "      <td>0</td>\n",
       "      <td>0</td>\n",
       "      <td>0</td>\n",
       "      <td>0</td>\n",
       "      <td>1</td>\n",
       "    </tr>\n",
       "    <tr>\n",
       "      <th>3760</th>\n",
       "      <td>2.0</td>\n",
       "      <td>2</td>\n",
       "      <td>0</td>\n",
       "      <td>1</td>\n",
       "      <td>1</td>\n",
       "      <td>0</td>\n",
       "      <td>0</td>\n",
       "      <td>1</td>\n",
       "      <td>1</td>\n",
       "      <td>1</td>\n",
       "      <td>...</td>\n",
       "      <td>0</td>\n",
       "      <td>1</td>\n",
       "      <td>0</td>\n",
       "      <td>1</td>\n",
       "      <td>0</td>\n",
       "      <td>0</td>\n",
       "      <td>1</td>\n",
       "      <td>0</td>\n",
       "      <td>0</td>\n",
       "      <td>1</td>\n",
       "    </tr>\n",
       "    <tr>\n",
       "      <th>19124</th>\n",
       "      <td>1.0</td>\n",
       "      <td>2</td>\n",
       "      <td>1</td>\n",
       "      <td>1</td>\n",
       "      <td>0</td>\n",
       "      <td>0</td>\n",
       "      <td>0</td>\n",
       "      <td>0</td>\n",
       "      <td>0</td>\n",
       "      <td>0</td>\n",
       "      <td>...</td>\n",
       "      <td>0</td>\n",
       "      <td>0</td>\n",
       "      <td>0</td>\n",
       "      <td>0</td>\n",
       "      <td>0</td>\n",
       "      <td>0</td>\n",
       "      <td>0</td>\n",
       "      <td>0</td>\n",
       "      <td>0</td>\n",
       "      <td>0</td>\n",
       "    </tr>\n",
       "  </tbody>\n",
       "</table>\n",
       "<p>5 rows × 23 columns</p>\n",
       "</div>"
      ],
      "text/plain": [
       "       bathrooms  bedrooms  interest_level  Elevator  HardwoodFloors  \\\n",
       "43187        1.0         1               0         1               1   \n",
       "26391        1.0         1               0         0               0   \n",
       "38916        1.0         2               0         1               0   \n",
       "3760         2.0         2               0         1               1   \n",
       "19124        1.0         2               1         1               0   \n",
       "\n",
       "       CatsAllowed  DogsAllowed  Doorman  Dishwasher  NoFee  ...  \\\n",
       "43187            1            1        0           1      0  ...   \n",
       "26391            1            1        1           0      0  ...   \n",
       "38916            1            1        1           0      0  ...   \n",
       "3760             0            0        1           1      1  ...   \n",
       "19124            0            0        0           0      0  ...   \n",
       "\n",
       "       LaundryinUnit  RoofDeck  OutdoorSpace  DiningRoom  HighSpeedInternet  \\\n",
       "43187              0         0             0           0                  0   \n",
       "26391              0         0             0           0                  0   \n",
       "38916              0         0             1           0                  0   \n",
       "3760               0         1             0           1                  0   \n",
       "19124              0         0             0           0                  0   \n",
       "\n",
       "       Balcony  SwimmingPool  LaundryInBuilding  NewConstruction  Terrace  \n",
       "43187        0             0                  0                0        0  \n",
       "26391        0             0                  0                0        0  \n",
       "38916        0             0                  0                0        1  \n",
       "3760         0             1                  0                0        1  \n",
       "19124        0             0                  0                0        0  \n",
       "\n",
       "[5 rows x 23 columns]"
      ]
     },
     "execution_count": 72,
     "metadata": {},
     "output_type": "execute_result"
    }
   ],
   "source": [
    "X_train.head()"
   ]
  },
  {
   "cell_type": "markdown",
   "metadata": {},
   "source": [
    "## Models implementation — Linear regression\n",
    "   > Implement a Python class for a linear regression algorithm with two basic methods — fit and predict. Use stochastic gradient descent to find optimal model weights. For better understanding, we recommend implementing separate versions of the algorithm with the analytical solution and non-stochastic gradient descent under the hood.\n"
   ]
  },
  {
   "cell_type": "code",
   "execution_count": 73,
   "metadata": {},
   "outputs": [],
   "source": [
    "class AnalytLinReg():\n",
    "    def __init__(self):\n",
    "        pass\n",
    "\n",
    "    def fit(self, X, y):\n",
    "        x_matrix = X.values\n",
    "        y_matrix = y.values\n",
    "\n",
    "        x_matrix = np.c_[np.ones((x_matrix.shape[0], 1)), x_matrix]\n",
    "        weight = np.dot(np.linalg.inv(np.dot(x_matrix.T, x_matrix)), np.dot(x_matrix.T ,y_matrix))\n",
    "        self.w = weight[1:]\n",
    "        self.b = weight[0]\n",
    "        \n",
    "    def predict(self, X):\n",
    "        X = X.values\n",
    "        return np.dot(X, self.w) +self.b"
   ]
  },
  {
   "cell_type": "code",
   "execution_count": 74,
   "metadata": {},
   "outputs": [],
   "source": [
    "class GradDescLinReg():\n",
    "    def __init__(self):\n",
    "        pass\n",
    "\n",
    "    def fit(self, X, y, learning_rate = 0.01, iter = 100000):\n",
    "        x_matrix = X_train.values\n",
    "        y_matrix  = y_train.values\n",
    "        n_samples, n_features = x_matrix.shape\n",
    "\n",
    "        self.w = np.zeros(n_features)\n",
    "        self.b = 0\n",
    "\n",
    "        for _ in range(iter):\n",
    "            rand = random.randint(0, n_samples - 1)\n",
    "\n",
    "            pred = np.dot(x_matrix[rand], self.w) + self.b \n",
    "            error = y_matrix[rand] - pred\n",
    "            \n",
    "            rss_w = -2 * x_matrix[rand] * error\n",
    "            rss_b = -2 * error\n",
    "\n",
    "            self.w -= learning_rate * rss_w\n",
    "            self.b -= learning_rate * rss_b  \n",
    "                \n",
    "    def predict(self, X):\n",
    "        X = X.values\n",
    "        return np.dot(X, self.w) + self.b\n",
    "    "
   ]
  },
  {
   "cell_type": "markdown",
   "metadata": {},
   "source": [
    "> Define the R squared (R2) coefficient and implement a function to calculate it.\n"
   ]
  },
  {
   "cell_type": "markdown",
   "metadata": {},
   "source": [
    "R squared coefficient is a measure to see the varience in the Y based on the X. It ranges from 0 to 1, with 1 meaning perfect fit of the model to the data.<br>\n",
    "It is calculated using $1-RSS/TSS$"
   ]
  },
  {
   "cell_type": "code",
   "execution_count": 75,
   "metadata": {},
   "outputs": [],
   "source": [
    "def Rsquared(y, pred):\n",
    "    rss = np.sum((y - pred)**2)\n",
    "    tss = np.sum((y - np.mean(y))**2)\n",
    "\n",
    "    return 1 - (rss/tss)"
   ]
  },
  {
   "cell_type": "markdown",
   "metadata": {},
   "source": [
    "> Make predictions with your algorithm and estimate the model with MAE, RMSE and R2 metrics.\n"
   ]
  },
  {
   "cell_type": "code",
   "execution_count": 76,
   "metadata": {},
   "outputs": [],
   "source": [
    "my_reg = AnalytLinReg()\n",
    "my_reg.fit(X_train, y_train)\n",
    "my_train_pred = my_reg.predict(X_train)\n",
    "my_test_pred = my_reg.predict(X_test)"
   ]
  },
  {
   "cell_type": "code",
   "execution_count": 77,
   "metadata": {},
   "outputs": [],
   "source": [
    "my_rsq_train = Rsquared(y_train, my_train_pred)\n",
    "my_mae_train = mean_absolute_error(y_train, my_train_pred)\n",
    "my_rmse_train = root_mean_squared_error(y_train, my_train_pred)\n",
    "\n",
    "my_rsq_test = Rsquared(y_test, my_test_pred)\n",
    "my_mae_test = mean_absolute_error(y_test, my_test_pred)\n",
    "my_rmse_test = root_mean_squared_error(y_test, my_test_pred)"
   ]
  },
  {
   "cell_type": "markdown",
   "metadata": {},
   "source": [
    "\n",
    "> Initialize LinearRegression() from sklearn.linear_model, fit the model, and predict the training and test parts as in the previous lesson.\n"
   ]
  },
  {
   "cell_type": "code",
   "execution_count": 78,
   "metadata": {},
   "outputs": [],
   "source": [
    "reg = LinearRegression()\n",
    "reg.fit(X_train, y_train)\n",
    "train_pred = reg.predict(X_train)\n",
    "test_pred = reg.predict(X_test)"
   ]
  },
  {
   "cell_type": "markdown",
   "metadata": {},
   "source": [
    "> Compare the quality metrics and make sure the difference is small (between your implementations and sklearn).\n"
   ]
  },
  {
   "cell_type": "code",
   "execution_count": 79,
   "metadata": {},
   "outputs": [],
   "source": [
    "rsq_train = Rsquared(y_train, train_pred)\n",
    "mae_train = mean_absolute_error(y_train, train_pred)\n",
    "rmse_train = root_mean_squared_error(y_train, train_pred)\n",
    "\n",
    "rsq_test = Rsquared(y_test, test_pred)\n",
    "mae_test = mean_absolute_error(y_test, test_pred)\n",
    "rmse_test = root_mean_squared_error(y_test, test_pred)\n"
   ]
  },
  {
   "cell_type": "code",
   "execution_count": 80,
   "metadata": {},
   "outputs": [
    {
     "name": "stdout",
     "output_type": "stream",
     "text": [
      "My implementation of Linear regression train metrics: R2 0.60206, MAE 687.03, RMSE 996.99\n",
      "My implementation of Linear regression test metrics: R2 0.61650, MAE 689.01, RMSE 994.58\n",
      "Linear regression train metrics: R2 0.60206, MAE 687.03, RMSE 996.99\n",
      "Linear regression test metrics: R2 0.61650, MAE 689.01, RMSE 994.58\n"
     ]
    }
   ],
   "source": [
    "print(f'My implementation of Linear regression train metrics: R2 {my_rsq_train:.5f}, MAE {my_mae_train:.2f}, RMSE {my_rmse_train:.2f}')\n",
    "print(f'My implementation of Linear regression test metrics: R2 {my_rsq_test:.5f}, MAE {my_mae_test:.2f}, RMSE {my_rmse_test:.2f}')\n",
    "print(f'Linear regression train metrics: R2 {rsq_train:.5f}, MAE {mae_train:.2f}, RMSE {rmse_train:.2f}')\n",
    "print(f'Linear regression test metrics: R2 {rsq_test:.5f}, MAE {mae_test:.2f}, RMSE {rmse_test:.2f}')"
   ]
  },
  {
   "cell_type": "markdown",
   "metadata": {},
   "source": [
    "> Store the metrics as in the previous lesson in a table with columns model, train, test for MAE table, RMSE table, and R2 coefficient.\n",
    "\n"
   ]
  },
  {
   "cell_type": "code",
   "execution_count": 81,
   "metadata": {},
   "outputs": [],
   "source": [
    "result_R2 = pd.DataFrame(columns=['model', 'train', 'test'])\n",
    "result_MAE = pd.DataFrame(columns=['model', 'train', 'test'])\n",
    "result_RMSE = pd.DataFrame(columns=['model', 'train', 'test'])"
   ]
  },
  {
   "cell_type": "code",
   "execution_count": 82,
   "metadata": {},
   "outputs": [],
   "source": [
    "def metrics(model, model_name, X_train = X_train, y_train = y_train, X_test = X_test, y_test = y_test):\n",
    "    model.fit(X_train, y_train)\n",
    "    train_pred = model.predict(X_train)\n",
    "    test_pred = model.predict(X_test)\n",
    "\n",
    "    rsq_train = Rsquared(y_train, train_pred)\n",
    "    mae_train = mean_absolute_error(y_train, train_pred)\n",
    "    rmse_train = root_mean_squared_error(y_train, train_pred)\n",
    "\n",
    "    rsq_test = Rsquared(y_test, test_pred)\n",
    "    mae_test = mean_absolute_error(y_test, test_pred)\n",
    "    rmse_test = root_mean_squared_error(y_test, test_pred)\n",
    "\n",
    "    result_R2.loc[len(result_R2)] = [model_name, rsq_train, rsq_test]\n",
    "    result_MAE.loc[len(result_MAE)] = [model_name, mae_train, mae_test]\n",
    "    result_RMSE.loc[len(result_RMSE)] = [model_name, rmse_train, rmse_test]\n",
    "\n",
    "    return rsq_train, mae_train, rmse_train, rsq_test, mae_test, rmse_test"
   ]
  },
  {
   "cell_type": "code",
   "execution_count": 83,
   "metadata": {},
   "outputs": [
    {
     "data": {
      "text/plain": [
       "(0.6020619693126079,\n",
       " 687.0304713287287,\n",
       " 996.9914127231038,\n",
       " 0.616495015905854,\n",
       " 689.0101553085179,\n",
       " 994.5812050999856)"
      ]
     },
     "execution_count": 83,
     "metadata": {},
     "output_type": "execute_result"
    }
   ],
   "source": [
    "metrics(my_reg, 'My Linear Regression')\n",
    "metrics(reg, 'Linear Regression')"
   ]
  },
  {
   "cell_type": "code",
   "execution_count": 84,
   "metadata": {},
   "outputs": [
    {
     "name": "stdout",
     "output_type": "stream",
     "text": [
      "                  model     train      test\n",
      "0  My Linear Regression  0.602062  0.616495\n",
      "1     Linear Regression  0.602062  0.616495\n"
     ]
    }
   ],
   "source": [
    "print(result_R2)"
   ]
  },
  {
   "cell_type": "markdown",
   "metadata": {},
   "source": [
    "## Regularized models implementation — Ridge, Lasso, ElasticNet    \n",
    "> Implement Ridge, Lasso, ElasticNet algorithms: extend the loss function with L2, L1 and both regularizations accordingly.\n"
   ]
  },
  {
   "cell_type": "code",
   "execution_count": 85,
   "metadata": {},
   "outputs": [],
   "source": [
    "class myRidge():\n",
    "    def __init__(self, alpha):\n",
    "        self.alpha = alpha\n",
    "\n",
    "    def fit(self, X, y):\n",
    "        x_matrix = X.values\n",
    "        y_matrix  = y.values\n",
    "        x_matrix = np.c_[np.ones((x_matrix.shape[0], 1)), x_matrix]\n",
    "        I_matrix = np.identity(x_matrix.shape[1])\n",
    "        weight = np.dot(np.linalg.inv(np.dot(x_matrix.T, x_matrix) + np.dot(self.alpha, I_matrix)), np.dot(x_matrix.T ,y_matrix))\n",
    "        self.w = weight[1:]\n",
    "        self.b = weight[0]\n",
    "                \n",
    "    def predict(self, X):\n",
    "        X = X.values\n",
    "        return np.dot(X, self.w) +self.b"
   ]
  },
  {
   "cell_type": "code",
   "execution_count": 86,
   "metadata": {},
   "outputs": [],
   "source": [
    "class myLasso():\n",
    "    def __init__(self, alpha):\n",
    "        self.alpha = alpha\n",
    "\n",
    "    def fit(self, X, y, learning_rate = 0.01, iter = 100000):\n",
    "        x_matrix = X_train.values\n",
    "        y_matrix  = y_train.values\n",
    "        n_samples, n_features = x_matrix.shape\n",
    "\n",
    "        self.w = np.zeros(n_features)\n",
    "        self.b = 0\n",
    "\n",
    "        for _ in range(iter):\n",
    "            rand = random.randint(0, n_samples - 1)\n",
    "\n",
    "            pred = np.dot(x_matrix[rand], self.w) + self.b \n",
    "            error = y_matrix[rand] - pred\n",
    "            \n",
    "            rss_w = -2 * x_matrix[rand] * error + self.alpha * np.sign(self.w)\n",
    "            rss_b = -2 * error\n",
    "\n",
    "            self.w -= learning_rate * rss_w\n",
    "            self.b -= learning_rate * rss_b  \n",
    "                \n",
    "    def predict(self, X):\n",
    "        X = X.values\n",
    "        return np.dot(X, self.w) + self.b"
   ]
  },
  {
   "cell_type": "code",
   "execution_count": 87,
   "metadata": {},
   "outputs": [],
   "source": [
    "class myElasticNet():\n",
    "    def __init__(self, alpha, l1_ratio):\n",
    "        self.alpha = alpha\n",
    "        self.l1_ratio = l1_ratio\n",
    "\n",
    "    def fit(self, X, y, learning_rate = 0.01, iter = 100000):\n",
    "        x_matrix = X_train.values\n",
    "        y_matrix  = y_train.values\n",
    "        n_samples, n_features = x_matrix.shape\n",
    "\n",
    "        self.w = np.zeros(n_features)\n",
    "        self.b = 0\n",
    "\n",
    "        for _ in range(iter):\n",
    "            rand = random.randint(0, n_samples - 1)\n",
    "\n",
    "            pred = np.dot(x_matrix[rand], self.w) + self.b\n",
    "            error = y_matrix[rand] - pred\n",
    "            \n",
    "            rss_w = (-2 * x_matrix[rand] * error) + (self.alpha * self.l1_ratio * np.sign(self.w)) + \\\n",
    "                (self.alpha * (1 - self.l1_ratio) * self.w)\n",
    "            rss_b = -2 * error\n",
    "\n",
    "            self.w -= learning_rate * rss_w\n",
    "            self.b -= learning_rate * rss_b\n",
    "\n",
    "    def predict(self, X):\n",
    "        X = X.values\n",
    "        return np.dot(X, self.w) + self.b"
   ]
  },
  {
   "cell_type": "markdown",
   "metadata": {},
   "source": [
    "> Make predictions with your algorithm and estimate the model with MAE, RMSE and R2 metrics.\n"
   ]
  },
  {
   "cell_type": "code",
   "execution_count": 88,
   "metadata": {},
   "outputs": [],
   "source": [
    "my_ridge = myRidge(alpha = 1)\n",
    "my_ridge_r2_train, my_ridge_mae_train, my_ridge_rmse_train, \\\n",
    "    my_ridge_r2_test, my_ridge_mae_test, my_ridge_rmse_test = metrics(my_ridge, 'My Ridge')"
   ]
  },
  {
   "cell_type": "code",
   "execution_count": 89,
   "metadata": {},
   "outputs": [],
   "source": [
    "my_lasso = myLasso(alpha = 0.1)\n",
    "my_lasso_r2_train, my_lasso_mae_train, my_lasso_rmse_train, \\\n",
    "    my_lasso_r2_test, my_lasso_mae_test, my_lasso_rmse_test = metrics(my_lasso, 'My Lasso')"
   ]
  },
  {
   "cell_type": "code",
   "execution_count": 90,
   "metadata": {},
   "outputs": [],
   "source": [
    "my_elastic_net = myElasticNet(alpha=0.1, l1_ratio=0.5)\n",
    "my_elastic_net_r2_train, my_elastic_net_mae_train, my_elastic_net_rmse_train, \\\n",
    "    my_elastic_net_r2_test, my_elastic_net_mae_test, my_elastic_net_rmse_test = metrics(my_elastic_net, 'My Elastic Net')"
   ]
  },
  {
   "cell_type": "markdown",
   "metadata": {},
   "source": [
    "> Initialize Ridge(), Lasso(), and ElasticNet() from sklearn.linear_model, fit the model, and make predictions for the training and test samples as in the previous lesson.\n"
   ]
  },
  {
   "cell_type": "code",
   "execution_count": 91,
   "metadata": {},
   "outputs": [],
   "source": [
    "ridge = Ridge(alpha = 1)\n",
    "ridge_r2_train, ridge_mae_train, ridge_rmse_train, \\\n",
    "    ridge_r2_test, ridge_mae_test, ridge_rmse_test = metrics(ridge, 'Ridge')"
   ]
  },
  {
   "cell_type": "code",
   "execution_count": 92,
   "metadata": {},
   "outputs": [],
   "source": [
    "# 1.89 is alpha with lowest MAE\n",
    "lasso = Lasso(alpha = 0.1)\n",
    "lasso_r2_train, lasso_mae_train, lasso_rmse_train, \\\n",
    "    lasso_r2_test, lasso_mae_test, lasso_rmse_test = metrics(lasso, 'Lasso')"
   ]
  },
  {
   "cell_type": "code",
   "execution_count": 93,
   "metadata": {},
   "outputs": [],
   "source": [
    "elastic_net = ElasticNet(alpha=0.1, l1_ratio=0.5)\n",
    "elastic_net_r2_train, elastic_net_mae_train, elastic_net_rmse_train, \\\n",
    "    elastic_net_r2_test, elastic_net_mae_test, elastic_net_rmse_test = metrics(elastic_net, 'Elastic Net')"
   ]
  },
  {
   "cell_type": "markdown",
   "metadata": {},
   "source": [
    "> Compare quality metrics and make sure the difference is small (between your implementations and sklearn).\n"
   ]
  },
  {
   "cell_type": "code",
   "execution_count": 94,
   "metadata": {},
   "outputs": [
    {
     "name": "stdout",
     "output_type": "stream",
     "text": [
      "My implementation of Ridge train metrics: R2 0.60206, MAE 687.02, RMSE 996.99\n",
      "My implementation of Ridge test metrics: R2 0.61649, MAE 689.00, RMSE 994.58\n",
      "Ridge train metrics: R2 0.60206, MAE 687.03, RMSE 996.99\n",
      "Ridge test metrics: R2 0.61649, MAE 689.01, RMSE 994.58\n"
     ]
    }
   ],
   "source": [
    "print(f'My implementation of Ridge train metrics: R2 {my_ridge_r2_train:.5f}, MAE {my_ridge_mae_train:.2f}, RMSE {my_ridge_rmse_train:.2f}')\n",
    "print(f'My implementation of Ridge test metrics: R2 {my_ridge_r2_test:.5f}, MAE {my_ridge_mae_test:.2f}, RMSE {my_ridge_rmse_test:.2f}')\n",
    "print(f'Ridge train metrics: R2 {ridge_r2_train:.5f}, MAE {ridge_mae_train:.2f}, RMSE {ridge_rmse_train:.2f}')\n",
    "print(f'Ridge test metrics: R2 {ridge_r2_test:.5f}, MAE {ridge_mae_test:.2f}, RMSE {ridge_rmse_test:.2f}')"
   ]
  },
  {
   "cell_type": "code",
   "execution_count": 95,
   "metadata": {},
   "outputs": [
    {
     "name": "stdout",
     "output_type": "stream",
     "text": [
      "My implementation of Lasso train metrics: R2 0.39467, MAE 956.41, RMSE 1229.64\n",
      "My implementation of Lasso test metrics: R2 0.41179, MAE 965.51, RMSE 1231.75\n",
      "Lasso train metrics: R2 0.60206, MAE 686.95, RMSE 996.99\n",
      "Lasso test metrics: R2 0.61648, MAE 688.96, RMSE 994.60\n"
     ]
    }
   ],
   "source": [
    "print(f'My implementation of Lasso train metrics: R2 {my_lasso_r2_train:.5f}, MAE {my_lasso_mae_train:.2f}, RMSE {my_lasso_rmse_train:.2f}')\n",
    "print(f'My implementation of Lasso test metrics: R2 {my_lasso_r2_test:.5f}, MAE {my_lasso_mae_test:.2f}, RMSE {my_lasso_rmse_test:.2f}')\n",
    "print(f'Lasso train metrics: R2 {lasso_r2_train:.5f}, MAE {lasso_mae_train:.2f}, RMSE {lasso_rmse_train:.2f}')\n",
    "print(f'Lasso test metrics: R2 {lasso_r2_test:.5f}, MAE {lasso_mae_test:.2f}, RMSE {lasso_rmse_test:.2f}')"
   ]
  },
  {
   "cell_type": "code",
   "execution_count": 96,
   "metadata": {},
   "outputs": [
    {
     "name": "stdout",
     "output_type": "stream",
     "text": [
      "My implementation of Elastic Net train metrics: R2 0.55936, MAE 717.82, RMSE 1049.12\n",
      "My implementation of Elastic Net test metrics: R2 0.57191, MAE 719.56, RMSE 1050.80\n",
      "Elastic Net train metrics: R2 0.59212, MAE 689.40, RMSE 1009.37\n",
      "Elastic Net test metrics: R2 0.60360, MAE 693.18, RMSE 1011.17\n"
     ]
    }
   ],
   "source": [
    "print(f'My implementation of Elastic Net train metrics: R2 {my_elastic_net_r2_train:.5f}, MAE {my_elastic_net_mae_train:.2f}, RMSE {my_elastic_net_rmse_train:.2f}')\n",
    "print(f'My implementation of Elastic Net test metrics: R2 {my_elastic_net_r2_test:.5f}, MAE {my_elastic_net_mae_test:.2f}, RMSE {my_elastic_net_rmse_test:.2f}')\n",
    "print(f'Elastic Net train metrics: R2 {elastic_net_r2_train:.5f}, MAE {elastic_net_mae_train:.2f}, RMSE {elastic_net_rmse_train:.2f}')\n",
    "print(f'Elastic Net test metrics: R2 {elastic_net_r2_test:.5f}, MAE {elastic_net_mae_test:.2f}, RMSE {elastic_net_rmse_test:.2f}')"
   ]
  },
  {
   "cell_type": "markdown",
   "metadata": {},
   "source": [
    "## Feature normalization\n"
   ]
  },
  {
   "cell_type": "markdown",
   "metadata": {},
   "source": [
    "> First, write several examples of why and where feature normalization is mandatory and vice versa.\n"
   ]
  },
  {
   "cell_type": "markdown",
   "metadata": {},
   "source": [
    "1. The variance of the feature data is high, feature with higher scales dominate feature with lower scales\n",
    "2. different scales \n",
    "3. It is not needed for binary data as scales are the same"
   ]
  },
  {
   "cell_type": "markdown",
   "metadata": {},
   "source": [
    "> Let's consider the first of the classical normalization methods — MinMaxScaler. Write a mathematical formula for this method.\n"
   ]
  },
  {
   "cell_type": "markdown",
   "metadata": {},
   "source": [
    "$X = \\frac{X - min(X)}{max(X)-min(X)}$"
   ]
  },
  {
   "cell_type": "markdown",
   "metadata": {},
   "source": [
    "> Implement your own function for MinMaxScaler feature normalization.\n"
   ]
  },
  {
   "cell_type": "code",
   "execution_count": 97,
   "metadata": {},
   "outputs": [],
   "source": [
    "def myMinMaxScaler(X, feature_range = (0, 1), axis = None):\n",
    "    X = X.values\n",
    "    a, b = feature_range\n",
    "    maxval = np.max(X, axis=0)\n",
    "    minval = np.min(X, axis=0)\n",
    "\n",
    "    scaled_X = a + (X - minval) * (b - a) / (maxval - minval)\n",
    "\n",
    "    return scaled_X"
   ]
  },
  {
   "cell_type": "markdown",
   "metadata": {},
   "source": [
    "> Initialize MinMaxScaler() from sklearn.preprocessing.\n"
   ]
  },
  {
   "cell_type": "code",
   "execution_count": 98,
   "metadata": {},
   "outputs": [],
   "source": [
    "minmax_scaler = MinMaxScaler()"
   ]
  },
  {
   "cell_type": "markdown",
   "metadata": {},
   "source": [
    "> Compare the feature normalization with your own method and with sklearn.\n"
   ]
  },
  {
   "cell_type": "code",
   "execution_count": 99,
   "metadata": {},
   "outputs": [
    {
     "data": {
      "text/plain": [
       "array([[0.1  , 0.125, 0.   , ..., 0.   , 0.   , 0.   ],\n",
       "       [0.1  , 0.125, 0.   , ..., 0.   , 0.   , 0.   ],\n",
       "       [0.1  , 0.25 , 0.   , ..., 0.   , 0.   , 1.   ],\n",
       "       ...,\n",
       "       [0.1  , 0.25 , 0.   , ..., 0.   , 0.   , 0.   ],\n",
       "       [0.1  , 0.125, 0.   , ..., 0.   , 0.   , 0.   ],\n",
       "       [0.1  , 0.   , 0.   , ..., 0.   , 0.   , 0.   ]])"
      ]
     },
     "execution_count": 99,
     "metadata": {},
     "output_type": "execute_result"
    }
   ],
   "source": [
    "minmax_scaler.fit_transform(X_train)"
   ]
  },
  {
   "cell_type": "code",
   "execution_count": 100,
   "metadata": {},
   "outputs": [
    {
     "data": {
      "text/plain": [
       "array([[0.1  , 0.125, 0.   , ..., 0.   , 0.   , 0.   ],\n",
       "       [0.1  , 0.125, 0.   , ..., 0.   , 0.   , 0.   ],\n",
       "       [0.1  , 0.25 , 0.   , ..., 0.   , 0.   , 1.   ],\n",
       "       ...,\n",
       "       [0.1  , 0.25 , 0.   , ..., 0.   , 0.   , 0.   ],\n",
       "       [0.1  , 0.125, 0.   , ..., 0.   , 0.   , 0.   ],\n",
       "       [0.1  , 0.   , 0.   , ..., 0.   , 0.   , 0.   ]])"
      ]
     },
     "execution_count": 100,
     "metadata": {},
     "output_type": "execute_result"
    }
   ],
   "source": [
    "myMinMaxScaler(X_train)"
   ]
  },
  {
   "cell_type": "markdown",
   "metadata": {},
   "source": [
    "> Repeat the steps from b to e for another normalization method StandardScaler.\n",
    "\n"
   ]
  },
  {
   "cell_type": "markdown",
   "metadata": {},
   "source": [
    "$X = \\frac{X - m}{std}$"
   ]
  },
  {
   "cell_type": "code",
   "execution_count": 101,
   "metadata": {},
   "outputs": [],
   "source": [
    "def myStandardScaler(X):\n",
    "    X = X.values\n",
    "    m = np.mean(X, axis=0)\n",
    "    std = np.std(X, axis=0)\n",
    "\n",
    "    scaled_X = (X - m)/std\n",
    "\n",
    "    return scaled_X"
   ]
  },
  {
   "cell_type": "code",
   "execution_count": 102,
   "metadata": {},
   "outputs": [
    {
     "data": {
      "text/plain": [
       "array([[-0.42709754, -0.48664247, -0.61022649, ..., -0.23377249,\n",
       "        -0.23475508, -0.21815877],\n",
       "       [-0.42709754, -0.48664247, -0.61022649, ..., -0.23377249,\n",
       "        -0.23475508, -0.21815877],\n",
       "       [-0.42709754,  0.42436052, -0.61022649, ..., -0.23377249,\n",
       "        -0.23475508,  4.58381752],\n",
       "       ...,\n",
       "       [-0.42709754,  0.42436052, -0.61022649, ..., -0.23377249,\n",
       "        -0.23475508, -0.21815877],\n",
       "       [-0.42709754, -0.48664247, -0.61022649, ..., -0.23377249,\n",
       "        -0.23475508, -0.21815877],\n",
       "       [-0.42709754, -1.39764546, -0.61022649, ..., -0.23377249,\n",
       "        -0.23475508, -0.21815877]])"
      ]
     },
     "execution_count": 102,
     "metadata": {},
     "output_type": "execute_result"
    }
   ],
   "source": [
    "SS = StandardScaler()\n",
    "SS.fit_transform(X_train)"
   ]
  },
  {
   "cell_type": "code",
   "execution_count": 103,
   "metadata": {},
   "outputs": [
    {
     "data": {
      "text/plain": [
       "array([[-0.42709754, -0.48664247, -0.61022649, ..., -0.23377249,\n",
       "        -0.23475508, -0.21815877],\n",
       "       [-0.42709754, -0.48664247, -0.61022649, ..., -0.23377249,\n",
       "        -0.23475508, -0.21815877],\n",
       "       [-0.42709754,  0.42436052, -0.61022649, ..., -0.23377249,\n",
       "        -0.23475508,  4.58381752],\n",
       "       ...,\n",
       "       [-0.42709754,  0.42436052, -0.61022649, ..., -0.23377249,\n",
       "        -0.23475508, -0.21815877],\n",
       "       [-0.42709754, -0.48664247, -0.61022649, ..., -0.23377249,\n",
       "        -0.23475508, -0.21815877],\n",
       "       [-0.42709754, -1.39764546, -0.61022649, ..., -0.23377249,\n",
       "        -0.23475508, -0.21815877]])"
      ]
     },
     "execution_count": 103,
     "metadata": {},
     "output_type": "execute_result"
    }
   ],
   "source": [
    "myStandardScaler(X_train)"
   ]
  },
  {
   "cell_type": "markdown",
   "metadata": {},
   "source": [
    "## Fit models with normalization\n"
   ]
  },
  {
   "cell_type": "markdown",
   "metadata": {},
   "source": [
    "> Fit all models — Linear Regression, Ridge, Lasso, and ElasticNet — with MinMaxScaler.\n"
   ]
  },
  {
   "cell_type": "code",
   "execution_count": 104,
   "metadata": {},
   "outputs": [
    {
     "data": {
      "text/plain": [
       "(0.33370615159549954,\n",
       " 894.606791001895,\n",
       " 1290.0798628820205,\n",
       " 0.33845432858818636,\n",
       " 906.6991178397658,\n",
       " 1306.2751280506643)"
      ]
     },
     "execution_count": 104,
     "metadata": {},
     "output_type": "execute_result"
    }
   ],
   "source": [
    "minmax_X_train = minmax_scaler.fit_transform(X_train)\n",
    "minmax_X_test = minmax_scaler.transform(X_test)\n",
    "\n",
    "metrics(reg, 'Linear Regression MinMaxScaler', minmax_X_train, y_train, minmax_X_test, y_test)\n",
    "metrics(ridge, 'Ridge MinMaxScaler', X_train=minmax_X_train, y_train=y_train, X_test = minmax_X_test, y_test = y_test)\n",
    "metrics(lasso, 'Lasso MinMaxScaler', X_train=minmax_X_train, y_train=y_train, X_test=minmax_X_test, y_test=y_test)\n",
    "metrics(elastic_net, 'Elastic Net MinMaxScaler', minmax_X_train, y_train, minmax_X_test, y_test)"
   ]
  },
  {
   "cell_type": "code",
   "execution_count": 105,
   "metadata": {},
   "outputs": [
    {
     "data": {
      "text/html": [
       "<div>\n",
       "<style scoped>\n",
       "    .dataframe tbody tr th:only-of-type {\n",
       "        vertical-align: middle;\n",
       "    }\n",
       "\n",
       "    .dataframe tbody tr th {\n",
       "        vertical-align: top;\n",
       "    }\n",
       "\n",
       "    .dataframe thead th {\n",
       "        text-align: right;\n",
       "    }\n",
       "</style>\n",
       "<table border=\"1\" class=\"dataframe\">\n",
       "  <thead>\n",
       "    <tr style=\"text-align: right;\">\n",
       "      <th></th>\n",
       "      <th>model</th>\n",
       "      <th>train</th>\n",
       "      <th>test</th>\n",
       "    </tr>\n",
       "  </thead>\n",
       "  <tbody>\n",
       "    <tr>\n",
       "      <th>0</th>\n",
       "      <td>My Linear Regression</td>\n",
       "      <td>687.030471</td>\n",
       "      <td>689.010155</td>\n",
       "    </tr>\n",
       "    <tr>\n",
       "      <th>1</th>\n",
       "      <td>Linear Regression</td>\n",
       "      <td>687.030471</td>\n",
       "      <td>689.010155</td>\n",
       "    </tr>\n",
       "    <tr>\n",
       "      <th>2</th>\n",
       "      <td>My Ridge</td>\n",
       "      <td>687.022686</td>\n",
       "      <td>689.004305</td>\n",
       "    </tr>\n",
       "    <tr>\n",
       "      <th>3</th>\n",
       "      <td>My Lasso</td>\n",
       "      <td>956.407200</td>\n",
       "      <td>965.507767</td>\n",
       "    </tr>\n",
       "    <tr>\n",
       "      <th>4</th>\n",
       "      <td>My Elastic Net</td>\n",
       "      <td>717.818027</td>\n",
       "      <td>719.555826</td>\n",
       "    </tr>\n",
       "    <tr>\n",
       "      <th>5</th>\n",
       "      <td>Ridge</td>\n",
       "      <td>687.026383</td>\n",
       "      <td>689.007983</td>\n",
       "    </tr>\n",
       "    <tr>\n",
       "      <th>6</th>\n",
       "      <td>Lasso</td>\n",
       "      <td>686.954576</td>\n",
       "      <td>688.960619</td>\n",
       "    </tr>\n",
       "    <tr>\n",
       "      <th>7</th>\n",
       "      <td>Elastic Net</td>\n",
       "      <td>689.400127</td>\n",
       "      <td>693.175419</td>\n",
       "    </tr>\n",
       "    <tr>\n",
       "      <th>8</th>\n",
       "      <td>Linear Regression MinMaxScaler</td>\n",
       "      <td>687.030471</td>\n",
       "      <td>689.010155</td>\n",
       "    </tr>\n",
       "    <tr>\n",
       "      <th>9</th>\n",
       "      <td>Ridge MinMaxScaler</td>\n",
       "      <td>687.156337</td>\n",
       "      <td>689.224459</td>\n",
       "    </tr>\n",
       "    <tr>\n",
       "      <th>10</th>\n",
       "      <td>Lasso MinMaxScaler</td>\n",
       "      <td>686.961494</td>\n",
       "      <td>688.985984</td>\n",
       "    </tr>\n",
       "    <tr>\n",
       "      <th>11</th>\n",
       "      <td>Elastic Net MinMaxScaler</td>\n",
       "      <td>894.606791</td>\n",
       "      <td>906.699118</td>\n",
       "    </tr>\n",
       "  </tbody>\n",
       "</table>\n",
       "</div>"
      ],
      "text/plain": [
       "                             model       train        test\n",
       "0             My Linear Regression  687.030471  689.010155\n",
       "1                Linear Regression  687.030471  689.010155\n",
       "2                         My Ridge  687.022686  689.004305\n",
       "3                         My Lasso  956.407200  965.507767\n",
       "4                   My Elastic Net  717.818027  719.555826\n",
       "5                            Ridge  687.026383  689.007983\n",
       "6                            Lasso  686.954576  688.960619\n",
       "7                      Elastic Net  689.400127  693.175419\n",
       "8   Linear Regression MinMaxScaler  687.030471  689.010155\n",
       "9               Ridge MinMaxScaler  687.156337  689.224459\n",
       "10              Lasso MinMaxScaler  686.961494  688.985984\n",
       "11        Elastic Net MinMaxScaler  894.606791  906.699118"
      ]
     },
     "execution_count": 105,
     "metadata": {},
     "output_type": "execute_result"
    }
   ],
   "source": [
    "result_MAE"
   ]
  },
  {
   "cell_type": "markdown",
   "metadata": {},
   "source": [
    "> Fit all models — Linear Regression, Ridge, Lasso, and ElasticNet — with StandardScaler.\n"
   ]
  },
  {
   "cell_type": "code",
   "execution_count": 106,
   "metadata": {},
   "outputs": [
    {
     "data": {
      "text/plain": [
       "(0.6013633493931274,\n",
       " 685.5754624907606,\n",
       " 997.8661879055473,\n",
       " 0.6153043411400323,\n",
       " 688.1740607793716,\n",
       " 996.1239555821163)"
      ]
     },
     "execution_count": 106,
     "metadata": {},
     "output_type": "execute_result"
    }
   ],
   "source": [
    "SS_X_train = SS.fit_transform(X_train)\n",
    "SS_X_test = SS.transform(X_test)\n",
    "\n",
    "metrics(reg, 'Linear Regression StandardScaler', SS_X_train, y_train, SS_X_test, y_test)\n",
    "metrics(ridge, 'Ridge StandardScaler', SS_X_train, y_train, SS_X_test, y_test)\n",
    "metrics(lasso, 'Lasso StandardScaler', SS_X_train, y_train, SS_X_test, y_test)\n",
    "metrics(elastic_net, 'Elastic Net StandardScaler', SS_X_train, y_train, SS_X_test, y_test)"
   ]
  },
  {
   "cell_type": "markdown",
   "metadata": {},
   "source": [
    "## Overfit models\n",
    "> Let's look at an overfitted model in practice. From theory, you know that polynomial regression is easy to overfit. So let's create a toy example and see how regularization works in real life.<br>\n",
    "> In the previous lesson, we created polynomial features with degree 10. Here we repeat these steps from the previous lesson, remembering that we have only 3 basic features — 'bathrooms', 'bedrooms', ''interest_level'."
   ]
  },
  {
   "cell_type": "code",
   "execution_count": 107,
   "metadata": {},
   "outputs": [],
   "source": [
    "poly = PolynomialFeatures(degree=10)\n",
    "basic_X_train = X_train[['bathrooms', 'bedrooms', 'interest_level']]\n",
    "basic_X_test = X_test[['bathrooms', 'bedrooms', 'interest_level']]"
   ]
  },
  {
   "cell_type": "code",
   "execution_count": 108,
   "metadata": {},
   "outputs": [],
   "source": [
    "poly_X_train = poly.fit_transform(basic_X_train)\n",
    "poly_X_test = poly.transform(basic_X_test)"
   ]
  },
  {
   "cell_type": "markdown",
   "metadata": {},
   "source": [
    "> And train and fit all our implemented algorithms — Linear Regression, Ridge, Lasso, and ElasticNet — on a set of polynomial features.\n"
   ]
  },
  {
   "cell_type": "code",
   "execution_count": 109,
   "metadata": {},
   "outputs": [
    {
     "name": "stderr",
     "output_type": "stream",
     "text": [
      "c:\\Users\\ashot\\anaconda3\\Lib\\site-packages\\sklearn\\linear_model\\_coordinate_descent.py:695: ConvergenceWarning: Objective did not converge. You might want to increase the number of iterations, check the scale of the features or consider increasing regularisation. Duality gap: 2.067e+10, tolerance: 9.660e+06\n",
      "  model = cd_fast.enet_coordinate_descent(\n",
      "c:\\Users\\ashot\\anaconda3\\Lib\\site-packages\\sklearn\\linear_model\\_coordinate_descent.py:695: ConvergenceWarning: Objective did not converge. You might want to increase the number of iterations, check the scale of the features or consider increasing regularisation. Duality gap: 2.089e+10, tolerance: 9.660e+06\n",
      "  model = cd_fast.enet_coordinate_descent(\n"
     ]
    },
    {
     "data": {
      "text/plain": [
       "(0.5708453266841035,\n",
       " 725.2751966443968,\n",
       " 1035.3581764404166,\n",
       " 0.5405532141567237,\n",
       " 736.6915405476283,\n",
       " 1088.6100780446063)"
      ]
     },
     "execution_count": 109,
     "metadata": {},
     "output_type": "execute_result"
    }
   ],
   "source": [
    "metrics(reg, 'Linear Regression PolynomialFeatures', poly_X_train, y_train, poly_X_test, y_test)\n",
    "metrics(ridge, 'Ridge PolynomialFeatures', poly_X_train, y_train, poly_X_test, y_test)\n",
    "metrics(lasso, 'Lasso PolynomialFeatures', poly_X_train, y_train, poly_X_test, y_test)\n",
    "metrics(elastic_net, 'Elastic Net PolynomialFeatures', poly_X_train, y_train, poly_X_test, y_test)"
   ]
  },
  {
   "cell_type": "markdown",
   "metadata": {},
   "source": [
    "> Analyze the results and select the best model according to your opinion.\n"
   ]
  },
  {
   "cell_type": "code",
   "execution_count": 110,
   "metadata": {},
   "outputs": [
    {
     "data": {
      "text/html": [
       "<div>\n",
       "<style scoped>\n",
       "    .dataframe tbody tr th:only-of-type {\n",
       "        vertical-align: middle;\n",
       "    }\n",
       "\n",
       "    .dataframe tbody tr th {\n",
       "        vertical-align: top;\n",
       "    }\n",
       "\n",
       "    .dataframe thead th {\n",
       "        text-align: right;\n",
       "    }\n",
       "</style>\n",
       "<table border=\"1\" class=\"dataframe\">\n",
       "  <thead>\n",
       "    <tr style=\"text-align: right;\">\n",
       "      <th></th>\n",
       "      <th>model</th>\n",
       "      <th>train</th>\n",
       "      <th>test</th>\n",
       "    </tr>\n",
       "  </thead>\n",
       "  <tbody>\n",
       "    <tr>\n",
       "      <th>0</th>\n",
       "      <td>My Linear Regression</td>\n",
       "      <td>0.602062</td>\n",
       "      <td>0.616495</td>\n",
       "    </tr>\n",
       "    <tr>\n",
       "      <th>1</th>\n",
       "      <td>Linear Regression</td>\n",
       "      <td>0.602062</td>\n",
       "      <td>0.616495</td>\n",
       "    </tr>\n",
       "    <tr>\n",
       "      <th>2</th>\n",
       "      <td>My Ridge</td>\n",
       "      <td>0.602062</td>\n",
       "      <td>0.616493</td>\n",
       "    </tr>\n",
       "    <tr>\n",
       "      <th>3</th>\n",
       "      <td>My Lasso</td>\n",
       "      <td>0.394672</td>\n",
       "      <td>0.411789</td>\n",
       "    </tr>\n",
       "    <tr>\n",
       "      <th>4</th>\n",
       "      <td>My Elastic Net</td>\n",
       "      <td>0.559362</td>\n",
       "      <td>0.571913</td>\n",
       "    </tr>\n",
       "    <tr>\n",
       "      <th>5</th>\n",
       "      <td>Ridge</td>\n",
       "      <td>0.602062</td>\n",
       "      <td>0.616493</td>\n",
       "    </tr>\n",
       "    <tr>\n",
       "      <th>6</th>\n",
       "      <td>Lasso</td>\n",
       "      <td>0.602060</td>\n",
       "      <td>0.616477</td>\n",
       "    </tr>\n",
       "    <tr>\n",
       "      <th>7</th>\n",
       "      <td>Elastic Net</td>\n",
       "      <td>0.592117</td>\n",
       "      <td>0.603598</td>\n",
       "    </tr>\n",
       "    <tr>\n",
       "      <th>8</th>\n",
       "      <td>Linear Regression MinMaxScaler</td>\n",
       "      <td>0.602062</td>\n",
       "      <td>0.616495</td>\n",
       "    </tr>\n",
       "    <tr>\n",
       "      <th>9</th>\n",
       "      <td>Ridge MinMaxScaler</td>\n",
       "      <td>0.602024</td>\n",
       "      <td>0.616333</td>\n",
       "    </tr>\n",
       "    <tr>\n",
       "      <th>10</th>\n",
       "      <td>Lasso MinMaxScaler</td>\n",
       "      <td>0.602058</td>\n",
       "      <td>0.616451</td>\n",
       "    </tr>\n",
       "    <tr>\n",
       "      <th>11</th>\n",
       "      <td>Elastic Net MinMaxScaler</td>\n",
       "      <td>0.333706</td>\n",
       "      <td>0.338454</td>\n",
       "    </tr>\n",
       "    <tr>\n",
       "      <th>12</th>\n",
       "      <td>Linear Regression StandardScaler</td>\n",
       "      <td>0.602062</td>\n",
       "      <td>0.616495</td>\n",
       "    </tr>\n",
       "    <tr>\n",
       "      <th>13</th>\n",
       "      <td>Ridge StandardScaler</td>\n",
       "      <td>0.602062</td>\n",
       "      <td>0.616495</td>\n",
       "    </tr>\n",
       "    <tr>\n",
       "      <th>14</th>\n",
       "      <td>Lasso StandardScaler</td>\n",
       "      <td>0.602062</td>\n",
       "      <td>0.616488</td>\n",
       "    </tr>\n",
       "    <tr>\n",
       "      <th>15</th>\n",
       "      <td>Elastic Net StandardScaler</td>\n",
       "      <td>0.601363</td>\n",
       "      <td>0.615304</td>\n",
       "    </tr>\n",
       "    <tr>\n",
       "      <th>16</th>\n",
       "      <td>Linear Regression PolynomialFeatures</td>\n",
       "      <td>0.578902</td>\n",
       "      <td>-1010.940839</td>\n",
       "    </tr>\n",
       "    <tr>\n",
       "      <th>17</th>\n",
       "      <td>Ridge PolynomialFeatures</td>\n",
       "      <td>0.578694</td>\n",
       "      <td>-407.782791</td>\n",
       "    </tr>\n",
       "    <tr>\n",
       "      <th>18</th>\n",
       "      <td>Lasso PolynomialFeatures</td>\n",
       "      <td>0.572560</td>\n",
       "      <td>0.556742</td>\n",
       "    </tr>\n",
       "    <tr>\n",
       "      <th>19</th>\n",
       "      <td>Elastic Net PolynomialFeatures</td>\n",
       "      <td>0.570845</td>\n",
       "      <td>0.540553</td>\n",
       "    </tr>\n",
       "  </tbody>\n",
       "</table>\n",
       "</div>"
      ],
      "text/plain": [
       "                                   model     train         test\n",
       "0                   My Linear Regression  0.602062     0.616495\n",
       "1                      Linear Regression  0.602062     0.616495\n",
       "2                               My Ridge  0.602062     0.616493\n",
       "3                               My Lasso  0.394672     0.411789\n",
       "4                         My Elastic Net  0.559362     0.571913\n",
       "5                                  Ridge  0.602062     0.616493\n",
       "6                                  Lasso  0.602060     0.616477\n",
       "7                            Elastic Net  0.592117     0.603598\n",
       "8         Linear Regression MinMaxScaler  0.602062     0.616495\n",
       "9                     Ridge MinMaxScaler  0.602024     0.616333\n",
       "10                    Lasso MinMaxScaler  0.602058     0.616451\n",
       "11              Elastic Net MinMaxScaler  0.333706     0.338454\n",
       "12      Linear Regression StandardScaler  0.602062     0.616495\n",
       "13                  Ridge StandardScaler  0.602062     0.616495\n",
       "14                  Lasso StandardScaler  0.602062     0.616488\n",
       "15            Elastic Net StandardScaler  0.601363     0.615304\n",
       "16  Linear Regression PolynomialFeatures  0.578902 -1010.940839\n",
       "17              Ridge PolynomialFeatures  0.578694  -407.782791\n",
       "18              Lasso PolynomialFeatures  0.572560     0.556742\n",
       "19        Elastic Net PolynomialFeatures  0.570845     0.540553"
      ]
     },
     "execution_count": 110,
     "metadata": {},
     "output_type": "execute_result"
    }
   ],
   "source": [
    "result_R2"
   ]
  },
  {
   "cell_type": "code",
   "execution_count": 111,
   "metadata": {},
   "outputs": [
    {
     "data": {
      "text/html": [
       "<div>\n",
       "<style scoped>\n",
       "    .dataframe tbody tr th:only-of-type {\n",
       "        vertical-align: middle;\n",
       "    }\n",
       "\n",
       "    .dataframe tbody tr th {\n",
       "        vertical-align: top;\n",
       "    }\n",
       "\n",
       "    .dataframe thead th {\n",
       "        text-align: right;\n",
       "    }\n",
       "</style>\n",
       "<table border=\"1\" class=\"dataframe\">\n",
       "  <thead>\n",
       "    <tr style=\"text-align: right;\">\n",
       "      <th></th>\n",
       "      <th>model</th>\n",
       "      <th>train</th>\n",
       "      <th>test</th>\n",
       "    </tr>\n",
       "  </thead>\n",
       "  <tbody>\n",
       "    <tr>\n",
       "      <th>0</th>\n",
       "      <td>My Linear Regression</td>\n",
       "      <td>687.030471</td>\n",
       "      <td>689.010155</td>\n",
       "    </tr>\n",
       "    <tr>\n",
       "      <th>1</th>\n",
       "      <td>Linear Regression</td>\n",
       "      <td>687.030471</td>\n",
       "      <td>689.010155</td>\n",
       "    </tr>\n",
       "    <tr>\n",
       "      <th>2</th>\n",
       "      <td>My Ridge</td>\n",
       "      <td>687.022686</td>\n",
       "      <td>689.004305</td>\n",
       "    </tr>\n",
       "    <tr>\n",
       "      <th>3</th>\n",
       "      <td>My Lasso</td>\n",
       "      <td>956.407200</td>\n",
       "      <td>965.507767</td>\n",
       "    </tr>\n",
       "    <tr>\n",
       "      <th>4</th>\n",
       "      <td>My Elastic Net</td>\n",
       "      <td>717.818027</td>\n",
       "      <td>719.555826</td>\n",
       "    </tr>\n",
       "    <tr>\n",
       "      <th>5</th>\n",
       "      <td>Ridge</td>\n",
       "      <td>687.026383</td>\n",
       "      <td>689.007983</td>\n",
       "    </tr>\n",
       "    <tr>\n",
       "      <th>6</th>\n",
       "      <td>Lasso</td>\n",
       "      <td>686.954576</td>\n",
       "      <td>688.960619</td>\n",
       "    </tr>\n",
       "    <tr>\n",
       "      <th>7</th>\n",
       "      <td>Elastic Net</td>\n",
       "      <td>689.400127</td>\n",
       "      <td>693.175419</td>\n",
       "    </tr>\n",
       "    <tr>\n",
       "      <th>8</th>\n",
       "      <td>Linear Regression MinMaxScaler</td>\n",
       "      <td>687.030471</td>\n",
       "      <td>689.010155</td>\n",
       "    </tr>\n",
       "    <tr>\n",
       "      <th>9</th>\n",
       "      <td>Ridge MinMaxScaler</td>\n",
       "      <td>687.156337</td>\n",
       "      <td>689.224459</td>\n",
       "    </tr>\n",
       "    <tr>\n",
       "      <th>10</th>\n",
       "      <td>Lasso MinMaxScaler</td>\n",
       "      <td>686.961494</td>\n",
       "      <td>688.985984</td>\n",
       "    </tr>\n",
       "    <tr>\n",
       "      <th>11</th>\n",
       "      <td>Elastic Net MinMaxScaler</td>\n",
       "      <td>894.606791</td>\n",
       "      <td>906.699118</td>\n",
       "    </tr>\n",
       "    <tr>\n",
       "      <th>12</th>\n",
       "      <td>Linear Regression StandardScaler</td>\n",
       "      <td>687.030471</td>\n",
       "      <td>689.010155</td>\n",
       "    </tr>\n",
       "    <tr>\n",
       "      <th>13</th>\n",
       "      <td>Ridge StandardScaler</td>\n",
       "      <td>687.029272</td>\n",
       "      <td>689.009310</td>\n",
       "    </tr>\n",
       "    <tr>\n",
       "      <th>14</th>\n",
       "      <td>Lasso StandardScaler</td>\n",
       "      <td>686.998394</td>\n",
       "      <td>688.990385</td>\n",
       "    </tr>\n",
       "    <tr>\n",
       "      <th>15</th>\n",
       "      <td>Elastic Net StandardScaler</td>\n",
       "      <td>685.575462</td>\n",
       "      <td>688.174061</td>\n",
       "    </tr>\n",
       "    <tr>\n",
       "      <th>16</th>\n",
       "      <td>Linear Regression PolynomialFeatures</td>\n",
       "      <td>718.833479</td>\n",
       "      <td>1249.726544</td>\n",
       "    </tr>\n",
       "    <tr>\n",
       "      <th>17</th>\n",
       "      <td>Ridge PolynomialFeatures</td>\n",
       "      <td>719.011002</td>\n",
       "      <td>1060.819913</td>\n",
       "    </tr>\n",
       "    <tr>\n",
       "      <th>18</th>\n",
       "      <td>Lasso PolynomialFeatures</td>\n",
       "      <td>723.906876</td>\n",
       "      <td>733.375339</td>\n",
       "    </tr>\n",
       "    <tr>\n",
       "      <th>19</th>\n",
       "      <td>Elastic Net PolynomialFeatures</td>\n",
       "      <td>725.275197</td>\n",
       "      <td>736.691541</td>\n",
       "    </tr>\n",
       "  </tbody>\n",
       "</table>\n",
       "</div>"
      ],
      "text/plain": [
       "                                   model       train         test\n",
       "0                   My Linear Regression  687.030471   689.010155\n",
       "1                      Linear Regression  687.030471   689.010155\n",
       "2                               My Ridge  687.022686   689.004305\n",
       "3                               My Lasso  956.407200   965.507767\n",
       "4                         My Elastic Net  717.818027   719.555826\n",
       "5                                  Ridge  687.026383   689.007983\n",
       "6                                  Lasso  686.954576   688.960619\n",
       "7                            Elastic Net  689.400127   693.175419\n",
       "8         Linear Regression MinMaxScaler  687.030471   689.010155\n",
       "9                     Ridge MinMaxScaler  687.156337   689.224459\n",
       "10                    Lasso MinMaxScaler  686.961494   688.985984\n",
       "11              Elastic Net MinMaxScaler  894.606791   906.699118\n",
       "12      Linear Regression StandardScaler  687.030471   689.010155\n",
       "13                  Ridge StandardScaler  687.029272   689.009310\n",
       "14                  Lasso StandardScaler  686.998394   688.990385\n",
       "15            Elastic Net StandardScaler  685.575462   688.174061\n",
       "16  Linear Regression PolynomialFeatures  718.833479  1249.726544\n",
       "17              Ridge PolynomialFeatures  719.011002  1060.819913\n",
       "18              Lasso PolynomialFeatures  723.906876   733.375339\n",
       "19        Elastic Net PolynomialFeatures  725.275197   736.691541"
      ]
     },
     "execution_count": 111,
     "metadata": {},
     "output_type": "execute_result"
    }
   ],
   "source": [
    "result_MAE"
   ]
  },
  {
   "cell_type": "code",
   "execution_count": 112,
   "metadata": {},
   "outputs": [
    {
     "data": {
      "text/html": [
       "<div>\n",
       "<style scoped>\n",
       "    .dataframe tbody tr th:only-of-type {\n",
       "        vertical-align: middle;\n",
       "    }\n",
       "\n",
       "    .dataframe tbody tr th {\n",
       "        vertical-align: top;\n",
       "    }\n",
       "\n",
       "    .dataframe thead th {\n",
       "        text-align: right;\n",
       "    }\n",
       "</style>\n",
       "<table border=\"1\" class=\"dataframe\">\n",
       "  <thead>\n",
       "    <tr style=\"text-align: right;\">\n",
       "      <th></th>\n",
       "      <th>model</th>\n",
       "      <th>train</th>\n",
       "      <th>test</th>\n",
       "    </tr>\n",
       "  </thead>\n",
       "  <tbody>\n",
       "    <tr>\n",
       "      <th>0</th>\n",
       "      <td>My Linear Regression</td>\n",
       "      <td>996.991413</td>\n",
       "      <td>994.581205</td>\n",
       "    </tr>\n",
       "    <tr>\n",
       "      <th>1</th>\n",
       "      <td>Linear Regression</td>\n",
       "      <td>996.991413</td>\n",
       "      <td>994.581205</td>\n",
       "    </tr>\n",
       "    <tr>\n",
       "      <th>2</th>\n",
       "      <td>My Ridge</td>\n",
       "      <td>996.991418</td>\n",
       "      <td>994.583214</td>\n",
       "    </tr>\n",
       "    <tr>\n",
       "      <th>3</th>\n",
       "      <td>My Lasso</td>\n",
       "      <td>1229.643580</td>\n",
       "      <td>1231.746481</td>\n",
       "    </tr>\n",
       "    <tr>\n",
       "      <th>4</th>\n",
       "      <td>My Elastic Net</td>\n",
       "      <td>1049.118881</td>\n",
       "      <td>1050.801738</td>\n",
       "    </tr>\n",
       "    <tr>\n",
       "      <th>5</th>\n",
       "      <td>Ridge</td>\n",
       "      <td>996.991419</td>\n",
       "      <td>994.584120</td>\n",
       "    </tr>\n",
       "    <tr>\n",
       "      <th>6</th>\n",
       "      <td>Lasso</td>\n",
       "      <td>996.993471</td>\n",
       "      <td>994.604735</td>\n",
       "    </tr>\n",
       "    <tr>\n",
       "      <th>7</th>\n",
       "      <td>Elastic Net</td>\n",
       "      <td>1009.372018</td>\n",
       "      <td>1011.165845</td>\n",
       "    </tr>\n",
       "    <tr>\n",
       "      <th>8</th>\n",
       "      <td>Linear Regression MinMaxScaler</td>\n",
       "      <td>996.991413</td>\n",
       "      <td>994.581205</td>\n",
       "    </tr>\n",
       "    <tr>\n",
       "      <th>9</th>\n",
       "      <td>Ridge MinMaxScaler</td>\n",
       "      <td>997.038846</td>\n",
       "      <td>994.791755</td>\n",
       "    </tr>\n",
       "    <tr>\n",
       "      <th>10</th>\n",
       "      <td>Lasso MinMaxScaler</td>\n",
       "      <td>996.995862</td>\n",
       "      <td>994.637879</td>\n",
       "    </tr>\n",
       "    <tr>\n",
       "      <th>11</th>\n",
       "      <td>Elastic Net MinMaxScaler</td>\n",
       "      <td>1290.079863</td>\n",
       "      <td>1306.275128</td>\n",
       "    </tr>\n",
       "    <tr>\n",
       "      <th>12</th>\n",
       "      <td>Linear Regression StandardScaler</td>\n",
       "      <td>996.991413</td>\n",
       "      <td>994.581205</td>\n",
       "    </tr>\n",
       "    <tr>\n",
       "      <th>13</th>\n",
       "      <td>Ridge StandardScaler</td>\n",
       "      <td>996.991413</td>\n",
       "      <td>994.581590</td>\n",
       "    </tr>\n",
       "    <tr>\n",
       "      <th>14</th>\n",
       "      <td>Lasso StandardScaler</td>\n",
       "      <td>996.991719</td>\n",
       "      <td>994.590742</td>\n",
       "    </tr>\n",
       "    <tr>\n",
       "      <th>15</th>\n",
       "      <td>Elastic Net StandardScaler</td>\n",
       "      <td>997.866188</td>\n",
       "      <td>996.123956</td>\n",
       "    </tr>\n",
       "    <tr>\n",
       "      <th>16</th>\n",
       "      <td>Linear Regression PolynomialFeatures</td>\n",
       "      <td>1025.592951</td>\n",
       "      <td>51089.576570</td>\n",
       "    </tr>\n",
       "    <tr>\n",
       "      <th>17</th>\n",
       "      <td>Ridge PolynomialFeatures</td>\n",
       "      <td>1025.846220</td>\n",
       "      <td>32471.402278</td>\n",
       "    </tr>\n",
       "    <tr>\n",
       "      <th>18</th>\n",
       "      <td>Lasso PolynomialFeatures</td>\n",
       "      <td>1033.287461</td>\n",
       "      <td>1069.258768</td>\n",
       "    </tr>\n",
       "    <tr>\n",
       "      <th>19</th>\n",
       "      <td>Elastic Net PolynomialFeatures</td>\n",
       "      <td>1035.358176</td>\n",
       "      <td>1088.610078</td>\n",
       "    </tr>\n",
       "  </tbody>\n",
       "</table>\n",
       "</div>"
      ],
      "text/plain": [
       "                                   model        train          test\n",
       "0                   My Linear Regression   996.991413    994.581205\n",
       "1                      Linear Regression   996.991413    994.581205\n",
       "2                               My Ridge   996.991418    994.583214\n",
       "3                               My Lasso  1229.643580   1231.746481\n",
       "4                         My Elastic Net  1049.118881   1050.801738\n",
       "5                                  Ridge   996.991419    994.584120\n",
       "6                                  Lasso   996.993471    994.604735\n",
       "7                            Elastic Net  1009.372018   1011.165845\n",
       "8         Linear Regression MinMaxScaler   996.991413    994.581205\n",
       "9                     Ridge MinMaxScaler   997.038846    994.791755\n",
       "10                    Lasso MinMaxScaler   996.995862    994.637879\n",
       "11              Elastic Net MinMaxScaler  1290.079863   1306.275128\n",
       "12      Linear Regression StandardScaler   996.991413    994.581205\n",
       "13                  Ridge StandardScaler   996.991413    994.581590\n",
       "14                  Lasso StandardScaler   996.991719    994.590742\n",
       "15            Elastic Net StandardScaler   997.866188    996.123956\n",
       "16  Linear Regression PolynomialFeatures  1025.592951  51089.576570\n",
       "17              Ridge PolynomialFeatures  1025.846220  32471.402278\n",
       "18              Lasso PolynomialFeatures  1033.287461   1069.258768\n",
       "19        Elastic Net PolynomialFeatures  1035.358176   1088.610078"
      ]
     },
     "execution_count": 112,
     "metadata": {},
     "output_type": "execute_result"
    }
   ],
   "source": [
    "result_RMSE"
   ]
  },
  {
   "cell_type": "markdown",
   "metadata": {},
   "source": [
    "Lasso MinMaxScaler seems to be the best model as on average shows the best results on test dataset"
   ]
  },
  {
   "cell_type": "markdown",
   "metadata": {},
   "source": [
    "## Native models\n",
    "> Calculate the mean and median metrics from the previous lesson and add the results to the final dataframe.\n",
    "\n"
   ]
  },
  {
   "cell_type": "code",
   "execution_count": 113,
   "metadata": {},
   "outputs": [],
   "source": [
    "mean_train = [y_train.mean()]*len(y_train)\n",
    "mean_test =[y_test.mean()]*len(y_test)\n",
    "median_train = [y_train.median()]*len(y_train)\n",
    "median_test = [y_test.median()]*len(y_test)\n",
    "\n",
    "r2_train_mean = r2_score(y_train, mean_train)\n",
    "r2_test_mean = r2_score(y_test, mean_test)\n",
    "r2_train_median = r2_score(y_train, median_train)\n",
    "r2_test_median = r2_score(y_test, median_test)\n",
    "\n",
    "mae_train_mean = mean_absolute_error(y_train, mean_train)\n",
    "mae_test_mean = mean_absolute_error(y_test, mean_test)\n",
    "mae_train_median = mean_absolute_error(y_train, median_train)\n",
    "mae_test_median = mean_absolute_error(y_test, median_test)\n",
    "\n",
    "rmse_train_median = root_mean_squared_error(y_train, median_train)\n",
    "rmse_train_mean = root_mean_squared_error(y_train, mean_train)\n",
    "rmse_test_median = root_mean_squared_error(y_test, median_test)\n",
    "rmse_test_mean = root_mean_squared_error(y_test, mean_test)\n",
    "\n",
    "result_R2.loc[len(result_R2)] = ['Native_Median', r2_train_mean, r2_test_mean]\n",
    "result_MAE.loc[len(result_MAE)] = ['Native_Mean', mae_train_mean, mae_test_mean]\n",
    "result_RMSE.loc[len(result_RMSE)] = ['Native_Mean', rmse_train_mean, rmse_test_mean]\n",
    "result_R2.loc[len(result_R2)] = ['Native_Median', r2_train_median, r2_test_median]\n",
    "result_MAE.loc[len(result_MAE)] = ['Native_Median', mae_train_median, mae_test_median]\n",
    "result_RMSE.loc[len(result_RMSE)] = ['Native_Median', rmse_train_median, rmse_test_median]"
   ]
  },
  {
   "cell_type": "markdown",
   "metadata": {},
   "source": [
    "## Compare results\n",
    "> Print your final tables\n"
   ]
  },
  {
   "cell_type": "code",
   "execution_count": 114,
   "metadata": {},
   "outputs": [
    {
     "data": {
      "text/html": [
       "<div>\n",
       "<style scoped>\n",
       "    .dataframe tbody tr th:only-of-type {\n",
       "        vertical-align: middle;\n",
       "    }\n",
       "\n",
       "    .dataframe tbody tr th {\n",
       "        vertical-align: top;\n",
       "    }\n",
       "\n",
       "    .dataframe thead th {\n",
       "        text-align: right;\n",
       "    }\n",
       "</style>\n",
       "<table border=\"1\" class=\"dataframe\">\n",
       "  <thead>\n",
       "    <tr style=\"text-align: right;\">\n",
       "      <th></th>\n",
       "      <th>model</th>\n",
       "      <th>train</th>\n",
       "      <th>test</th>\n",
       "    </tr>\n",
       "  </thead>\n",
       "  <tbody>\n",
       "    <tr>\n",
       "      <th>0</th>\n",
       "      <td>My Linear Regression</td>\n",
       "      <td>0.602062</td>\n",
       "      <td>0.616495</td>\n",
       "    </tr>\n",
       "    <tr>\n",
       "      <th>1</th>\n",
       "      <td>Linear Regression</td>\n",
       "      <td>0.602062</td>\n",
       "      <td>0.616495</td>\n",
       "    </tr>\n",
       "    <tr>\n",
       "      <th>2</th>\n",
       "      <td>My Ridge</td>\n",
       "      <td>0.602062</td>\n",
       "      <td>0.616493</td>\n",
       "    </tr>\n",
       "    <tr>\n",
       "      <th>3</th>\n",
       "      <td>My Lasso</td>\n",
       "      <td>0.394672</td>\n",
       "      <td>0.411789</td>\n",
       "    </tr>\n",
       "    <tr>\n",
       "      <th>4</th>\n",
       "      <td>My Elastic Net</td>\n",
       "      <td>0.559362</td>\n",
       "      <td>0.571913</td>\n",
       "    </tr>\n",
       "    <tr>\n",
       "      <th>5</th>\n",
       "      <td>Ridge</td>\n",
       "      <td>0.602062</td>\n",
       "      <td>0.616493</td>\n",
       "    </tr>\n",
       "    <tr>\n",
       "      <th>6</th>\n",
       "      <td>Lasso</td>\n",
       "      <td>0.602060</td>\n",
       "      <td>0.616477</td>\n",
       "    </tr>\n",
       "    <tr>\n",
       "      <th>7</th>\n",
       "      <td>Elastic Net</td>\n",
       "      <td>0.592117</td>\n",
       "      <td>0.603598</td>\n",
       "    </tr>\n",
       "    <tr>\n",
       "      <th>8</th>\n",
       "      <td>Linear Regression MinMaxScaler</td>\n",
       "      <td>0.602062</td>\n",
       "      <td>0.616495</td>\n",
       "    </tr>\n",
       "    <tr>\n",
       "      <th>9</th>\n",
       "      <td>Ridge MinMaxScaler</td>\n",
       "      <td>0.602024</td>\n",
       "      <td>0.616333</td>\n",
       "    </tr>\n",
       "    <tr>\n",
       "      <th>10</th>\n",
       "      <td>Lasso MinMaxScaler</td>\n",
       "      <td>0.602058</td>\n",
       "      <td>0.616451</td>\n",
       "    </tr>\n",
       "    <tr>\n",
       "      <th>11</th>\n",
       "      <td>Elastic Net MinMaxScaler</td>\n",
       "      <td>0.333706</td>\n",
       "      <td>0.338454</td>\n",
       "    </tr>\n",
       "    <tr>\n",
       "      <th>12</th>\n",
       "      <td>Linear Regression StandardScaler</td>\n",
       "      <td>0.602062</td>\n",
       "      <td>0.616495</td>\n",
       "    </tr>\n",
       "    <tr>\n",
       "      <th>13</th>\n",
       "      <td>Ridge StandardScaler</td>\n",
       "      <td>0.602062</td>\n",
       "      <td>0.616495</td>\n",
       "    </tr>\n",
       "    <tr>\n",
       "      <th>14</th>\n",
       "      <td>Lasso StandardScaler</td>\n",
       "      <td>0.602062</td>\n",
       "      <td>0.616488</td>\n",
       "    </tr>\n",
       "    <tr>\n",
       "      <th>15</th>\n",
       "      <td>Elastic Net StandardScaler</td>\n",
       "      <td>0.601363</td>\n",
       "      <td>0.615304</td>\n",
       "    </tr>\n",
       "    <tr>\n",
       "      <th>16</th>\n",
       "      <td>Linear Regression PolynomialFeatures</td>\n",
       "      <td>0.578902</td>\n",
       "      <td>-1010.940839</td>\n",
       "    </tr>\n",
       "    <tr>\n",
       "      <th>17</th>\n",
       "      <td>Ridge PolynomialFeatures</td>\n",
       "      <td>0.578694</td>\n",
       "      <td>-407.782791</td>\n",
       "    </tr>\n",
       "    <tr>\n",
       "      <th>18</th>\n",
       "      <td>Lasso PolynomialFeatures</td>\n",
       "      <td>0.572560</td>\n",
       "      <td>0.556742</td>\n",
       "    </tr>\n",
       "    <tr>\n",
       "      <th>19</th>\n",
       "      <td>Elastic Net PolynomialFeatures</td>\n",
       "      <td>0.570845</td>\n",
       "      <td>0.540553</td>\n",
       "    </tr>\n",
       "    <tr>\n",
       "      <th>20</th>\n",
       "      <td>Native_Median</td>\n",
       "      <td>0.000000</td>\n",
       "      <td>0.000000</td>\n",
       "    </tr>\n",
       "    <tr>\n",
       "      <th>21</th>\n",
       "      <td>Native_Median</td>\n",
       "      <td>-0.059595</td>\n",
       "      <td>-0.057628</td>\n",
       "    </tr>\n",
       "  </tbody>\n",
       "</table>\n",
       "</div>"
      ],
      "text/plain": [
       "                                   model     train         test\n",
       "0                   My Linear Regression  0.602062     0.616495\n",
       "1                      Linear Regression  0.602062     0.616495\n",
       "2                               My Ridge  0.602062     0.616493\n",
       "3                               My Lasso  0.394672     0.411789\n",
       "4                         My Elastic Net  0.559362     0.571913\n",
       "5                                  Ridge  0.602062     0.616493\n",
       "6                                  Lasso  0.602060     0.616477\n",
       "7                            Elastic Net  0.592117     0.603598\n",
       "8         Linear Regression MinMaxScaler  0.602062     0.616495\n",
       "9                     Ridge MinMaxScaler  0.602024     0.616333\n",
       "10                    Lasso MinMaxScaler  0.602058     0.616451\n",
       "11              Elastic Net MinMaxScaler  0.333706     0.338454\n",
       "12      Linear Regression StandardScaler  0.602062     0.616495\n",
       "13                  Ridge StandardScaler  0.602062     0.616495\n",
       "14                  Lasso StandardScaler  0.602062     0.616488\n",
       "15            Elastic Net StandardScaler  0.601363     0.615304\n",
       "16  Linear Regression PolynomialFeatures  0.578902 -1010.940839\n",
       "17              Ridge PolynomialFeatures  0.578694  -407.782791\n",
       "18              Lasso PolynomialFeatures  0.572560     0.556742\n",
       "19        Elastic Net PolynomialFeatures  0.570845     0.540553\n",
       "20                         Native_Median  0.000000     0.000000\n",
       "21                         Native_Median -0.059595    -0.057628"
      ]
     },
     "execution_count": 114,
     "metadata": {},
     "output_type": "execute_result"
    }
   ],
   "source": [
    "result_R2"
   ]
  },
  {
   "cell_type": "code",
   "execution_count": 115,
   "metadata": {},
   "outputs": [
    {
     "data": {
      "text/html": [
       "<div>\n",
       "<style scoped>\n",
       "    .dataframe tbody tr th:only-of-type {\n",
       "        vertical-align: middle;\n",
       "    }\n",
       "\n",
       "    .dataframe tbody tr th {\n",
       "        vertical-align: top;\n",
       "    }\n",
       "\n",
       "    .dataframe thead th {\n",
       "        text-align: right;\n",
       "    }\n",
       "</style>\n",
       "<table border=\"1\" class=\"dataframe\">\n",
       "  <thead>\n",
       "    <tr style=\"text-align: right;\">\n",
       "      <th></th>\n",
       "      <th>model</th>\n",
       "      <th>train</th>\n",
       "      <th>test</th>\n",
       "    </tr>\n",
       "  </thead>\n",
       "  <tbody>\n",
       "    <tr>\n",
       "      <th>0</th>\n",
       "      <td>My Linear Regression</td>\n",
       "      <td>687.030471</td>\n",
       "      <td>689.010155</td>\n",
       "    </tr>\n",
       "    <tr>\n",
       "      <th>1</th>\n",
       "      <td>Linear Regression</td>\n",
       "      <td>687.030471</td>\n",
       "      <td>689.010155</td>\n",
       "    </tr>\n",
       "    <tr>\n",
       "      <th>2</th>\n",
       "      <td>My Ridge</td>\n",
       "      <td>687.022686</td>\n",
       "      <td>689.004305</td>\n",
       "    </tr>\n",
       "    <tr>\n",
       "      <th>3</th>\n",
       "      <td>My Lasso</td>\n",
       "      <td>956.407200</td>\n",
       "      <td>965.507767</td>\n",
       "    </tr>\n",
       "    <tr>\n",
       "      <th>4</th>\n",
       "      <td>My Elastic Net</td>\n",
       "      <td>717.818027</td>\n",
       "      <td>719.555826</td>\n",
       "    </tr>\n",
       "    <tr>\n",
       "      <th>5</th>\n",
       "      <td>Ridge</td>\n",
       "      <td>687.026383</td>\n",
       "      <td>689.007983</td>\n",
       "    </tr>\n",
       "    <tr>\n",
       "      <th>6</th>\n",
       "      <td>Lasso</td>\n",
       "      <td>686.954576</td>\n",
       "      <td>688.960619</td>\n",
       "    </tr>\n",
       "    <tr>\n",
       "      <th>7</th>\n",
       "      <td>Elastic Net</td>\n",
       "      <td>689.400127</td>\n",
       "      <td>693.175419</td>\n",
       "    </tr>\n",
       "    <tr>\n",
       "      <th>8</th>\n",
       "      <td>Linear Regression MinMaxScaler</td>\n",
       "      <td>687.030471</td>\n",
       "      <td>689.010155</td>\n",
       "    </tr>\n",
       "    <tr>\n",
       "      <th>9</th>\n",
       "      <td>Ridge MinMaxScaler</td>\n",
       "      <td>687.156337</td>\n",
       "      <td>689.224459</td>\n",
       "    </tr>\n",
       "    <tr>\n",
       "      <th>10</th>\n",
       "      <td>Lasso MinMaxScaler</td>\n",
       "      <td>686.961494</td>\n",
       "      <td>688.985984</td>\n",
       "    </tr>\n",
       "    <tr>\n",
       "      <th>11</th>\n",
       "      <td>Elastic Net MinMaxScaler</td>\n",
       "      <td>894.606791</td>\n",
       "      <td>906.699118</td>\n",
       "    </tr>\n",
       "    <tr>\n",
       "      <th>12</th>\n",
       "      <td>Linear Regression StandardScaler</td>\n",
       "      <td>687.030471</td>\n",
       "      <td>689.010155</td>\n",
       "    </tr>\n",
       "    <tr>\n",
       "      <th>13</th>\n",
       "      <td>Ridge StandardScaler</td>\n",
       "      <td>687.029272</td>\n",
       "      <td>689.009310</td>\n",
       "    </tr>\n",
       "    <tr>\n",
       "      <th>14</th>\n",
       "      <td>Lasso StandardScaler</td>\n",
       "      <td>686.998394</td>\n",
       "      <td>688.990385</td>\n",
       "    </tr>\n",
       "    <tr>\n",
       "      <th>15</th>\n",
       "      <td>Elastic Net StandardScaler</td>\n",
       "      <td>685.575462</td>\n",
       "      <td>688.174061</td>\n",
       "    </tr>\n",
       "    <tr>\n",
       "      <th>16</th>\n",
       "      <td>Linear Regression PolynomialFeatures</td>\n",
       "      <td>718.833479</td>\n",
       "      <td>1249.726544</td>\n",
       "    </tr>\n",
       "    <tr>\n",
       "      <th>17</th>\n",
       "      <td>Ridge PolynomialFeatures</td>\n",
       "      <td>719.011002</td>\n",
       "      <td>1060.819913</td>\n",
       "    </tr>\n",
       "    <tr>\n",
       "      <th>18</th>\n",
       "      <td>Lasso PolynomialFeatures</td>\n",
       "      <td>723.906876</td>\n",
       "      <td>733.375339</td>\n",
       "    </tr>\n",
       "    <tr>\n",
       "      <th>19</th>\n",
       "      <td>Elastic Net PolynomialFeatures</td>\n",
       "      <td>725.275197</td>\n",
       "      <td>736.691541</td>\n",
       "    </tr>\n",
       "    <tr>\n",
       "      <th>20</th>\n",
       "      <td>Native_Mean</td>\n",
       "      <td>1131.815443</td>\n",
       "      <td>1144.533690</td>\n",
       "    </tr>\n",
       "    <tr>\n",
       "      <th>21</th>\n",
       "      <td>Native_Median</td>\n",
       "      <td>1079.734162</td>\n",
       "      <td>1092.166408</td>\n",
       "    </tr>\n",
       "  </tbody>\n",
       "</table>\n",
       "</div>"
      ],
      "text/plain": [
       "                                   model        train         test\n",
       "0                   My Linear Regression   687.030471   689.010155\n",
       "1                      Linear Regression   687.030471   689.010155\n",
       "2                               My Ridge   687.022686   689.004305\n",
       "3                               My Lasso   956.407200   965.507767\n",
       "4                         My Elastic Net   717.818027   719.555826\n",
       "5                                  Ridge   687.026383   689.007983\n",
       "6                                  Lasso   686.954576   688.960619\n",
       "7                            Elastic Net   689.400127   693.175419\n",
       "8         Linear Regression MinMaxScaler   687.030471   689.010155\n",
       "9                     Ridge MinMaxScaler   687.156337   689.224459\n",
       "10                    Lasso MinMaxScaler   686.961494   688.985984\n",
       "11              Elastic Net MinMaxScaler   894.606791   906.699118\n",
       "12      Linear Regression StandardScaler   687.030471   689.010155\n",
       "13                  Ridge StandardScaler   687.029272   689.009310\n",
       "14                  Lasso StandardScaler   686.998394   688.990385\n",
       "15            Elastic Net StandardScaler   685.575462   688.174061\n",
       "16  Linear Regression PolynomialFeatures   718.833479  1249.726544\n",
       "17              Ridge PolynomialFeatures   719.011002  1060.819913\n",
       "18              Lasso PolynomialFeatures   723.906876   733.375339\n",
       "19        Elastic Net PolynomialFeatures   725.275197   736.691541\n",
       "20                           Native_Mean  1131.815443  1144.533690\n",
       "21                         Native_Median  1079.734162  1092.166408"
      ]
     },
     "execution_count": 115,
     "metadata": {},
     "output_type": "execute_result"
    }
   ],
   "source": [
    "result_MAE"
   ]
  },
  {
   "cell_type": "code",
   "execution_count": 116,
   "metadata": {},
   "outputs": [
    {
     "data": {
      "text/html": [
       "<div>\n",
       "<style scoped>\n",
       "    .dataframe tbody tr th:only-of-type {\n",
       "        vertical-align: middle;\n",
       "    }\n",
       "\n",
       "    .dataframe tbody tr th {\n",
       "        vertical-align: top;\n",
       "    }\n",
       "\n",
       "    .dataframe thead th {\n",
       "        text-align: right;\n",
       "    }\n",
       "</style>\n",
       "<table border=\"1\" class=\"dataframe\">\n",
       "  <thead>\n",
       "    <tr style=\"text-align: right;\">\n",
       "      <th></th>\n",
       "      <th>model</th>\n",
       "      <th>train</th>\n",
       "      <th>test</th>\n",
       "    </tr>\n",
       "  </thead>\n",
       "  <tbody>\n",
       "    <tr>\n",
       "      <th>0</th>\n",
       "      <td>My Linear Regression</td>\n",
       "      <td>996.991413</td>\n",
       "      <td>994.581205</td>\n",
       "    </tr>\n",
       "    <tr>\n",
       "      <th>1</th>\n",
       "      <td>Linear Regression</td>\n",
       "      <td>996.991413</td>\n",
       "      <td>994.581205</td>\n",
       "    </tr>\n",
       "    <tr>\n",
       "      <th>2</th>\n",
       "      <td>My Ridge</td>\n",
       "      <td>996.991418</td>\n",
       "      <td>994.583214</td>\n",
       "    </tr>\n",
       "    <tr>\n",
       "      <th>3</th>\n",
       "      <td>My Lasso</td>\n",
       "      <td>1229.643580</td>\n",
       "      <td>1231.746481</td>\n",
       "    </tr>\n",
       "    <tr>\n",
       "      <th>4</th>\n",
       "      <td>My Elastic Net</td>\n",
       "      <td>1049.118881</td>\n",
       "      <td>1050.801738</td>\n",
       "    </tr>\n",
       "    <tr>\n",
       "      <th>5</th>\n",
       "      <td>Ridge</td>\n",
       "      <td>996.991419</td>\n",
       "      <td>994.584120</td>\n",
       "    </tr>\n",
       "    <tr>\n",
       "      <th>6</th>\n",
       "      <td>Lasso</td>\n",
       "      <td>996.993471</td>\n",
       "      <td>994.604735</td>\n",
       "    </tr>\n",
       "    <tr>\n",
       "      <th>7</th>\n",
       "      <td>Elastic Net</td>\n",
       "      <td>1009.372018</td>\n",
       "      <td>1011.165845</td>\n",
       "    </tr>\n",
       "    <tr>\n",
       "      <th>8</th>\n",
       "      <td>Linear Regression MinMaxScaler</td>\n",
       "      <td>996.991413</td>\n",
       "      <td>994.581205</td>\n",
       "    </tr>\n",
       "    <tr>\n",
       "      <th>9</th>\n",
       "      <td>Ridge MinMaxScaler</td>\n",
       "      <td>997.038846</td>\n",
       "      <td>994.791755</td>\n",
       "    </tr>\n",
       "    <tr>\n",
       "      <th>10</th>\n",
       "      <td>Lasso MinMaxScaler</td>\n",
       "      <td>996.995862</td>\n",
       "      <td>994.637879</td>\n",
       "    </tr>\n",
       "    <tr>\n",
       "      <th>11</th>\n",
       "      <td>Elastic Net MinMaxScaler</td>\n",
       "      <td>1290.079863</td>\n",
       "      <td>1306.275128</td>\n",
       "    </tr>\n",
       "    <tr>\n",
       "      <th>12</th>\n",
       "      <td>Linear Regression StandardScaler</td>\n",
       "      <td>996.991413</td>\n",
       "      <td>994.581205</td>\n",
       "    </tr>\n",
       "    <tr>\n",
       "      <th>13</th>\n",
       "      <td>Ridge StandardScaler</td>\n",
       "      <td>996.991413</td>\n",
       "      <td>994.581590</td>\n",
       "    </tr>\n",
       "    <tr>\n",
       "      <th>14</th>\n",
       "      <td>Lasso StandardScaler</td>\n",
       "      <td>996.991719</td>\n",
       "      <td>994.590742</td>\n",
       "    </tr>\n",
       "    <tr>\n",
       "      <th>15</th>\n",
       "      <td>Elastic Net StandardScaler</td>\n",
       "      <td>997.866188</td>\n",
       "      <td>996.123956</td>\n",
       "    </tr>\n",
       "    <tr>\n",
       "      <th>16</th>\n",
       "      <td>Linear Regression PolynomialFeatures</td>\n",
       "      <td>1025.592951</td>\n",
       "      <td>51089.576570</td>\n",
       "    </tr>\n",
       "    <tr>\n",
       "      <th>17</th>\n",
       "      <td>Ridge PolynomialFeatures</td>\n",
       "      <td>1025.846220</td>\n",
       "      <td>32471.402278</td>\n",
       "    </tr>\n",
       "    <tr>\n",
       "      <th>18</th>\n",
       "      <td>Lasso PolynomialFeatures</td>\n",
       "      <td>1033.287461</td>\n",
       "      <td>1069.258768</td>\n",
       "    </tr>\n",
       "    <tr>\n",
       "      <th>19</th>\n",
       "      <td>Elastic Net PolynomialFeatures</td>\n",
       "      <td>1035.358176</td>\n",
       "      <td>1088.610078</td>\n",
       "    </tr>\n",
       "    <tr>\n",
       "      <th>20</th>\n",
       "      <td>Native_Mean</td>\n",
       "      <td>1580.460676</td>\n",
       "      <td>1606.034024</td>\n",
       "    </tr>\n",
       "    <tr>\n",
       "      <th>21</th>\n",
       "      <td>Native_Median</td>\n",
       "      <td>1626.873056</td>\n",
       "      <td>1651.661962</td>\n",
       "    </tr>\n",
       "  </tbody>\n",
       "</table>\n",
       "</div>"
      ],
      "text/plain": [
       "                                   model        train          test\n",
       "0                   My Linear Regression   996.991413    994.581205\n",
       "1                      Linear Regression   996.991413    994.581205\n",
       "2                               My Ridge   996.991418    994.583214\n",
       "3                               My Lasso  1229.643580   1231.746481\n",
       "4                         My Elastic Net  1049.118881   1050.801738\n",
       "5                                  Ridge   996.991419    994.584120\n",
       "6                                  Lasso   996.993471    994.604735\n",
       "7                            Elastic Net  1009.372018   1011.165845\n",
       "8         Linear Regression MinMaxScaler   996.991413    994.581205\n",
       "9                     Ridge MinMaxScaler   997.038846    994.791755\n",
       "10                    Lasso MinMaxScaler   996.995862    994.637879\n",
       "11              Elastic Net MinMaxScaler  1290.079863   1306.275128\n",
       "12      Linear Regression StandardScaler   996.991413    994.581205\n",
       "13                  Ridge StandardScaler   996.991413    994.581590\n",
       "14                  Lasso StandardScaler   996.991719    994.590742\n",
       "15            Elastic Net StandardScaler   997.866188    996.123956\n",
       "16  Linear Regression PolynomialFeatures  1025.592951  51089.576570\n",
       "17              Ridge PolynomialFeatures  1025.846220  32471.402278\n",
       "18              Lasso PolynomialFeatures  1033.287461   1069.258768\n",
       "19        Elastic Net PolynomialFeatures  1035.358176   1088.610078\n",
       "20                           Native_Mean  1580.460676   1606.034024\n",
       "21                         Native_Median  1626.873056   1651.661962"
      ]
     },
     "execution_count": 116,
     "metadata": {},
     "output_type": "execute_result"
    }
   ],
   "source": [
    "result_RMSE"
   ]
  },
  {
   "cell_type": "markdown",
   "metadata": {},
   "source": [
    "> What is the best model?\n"
   ]
  },
  {
   "cell_type": "markdown",
   "metadata": {},
   "source": [
    "Lasso MinMaxScaler is the best model"
   ]
  },
  {
   "cell_type": "markdown",
   "metadata": {},
   "source": [
    "> Which is the most stable model?\n",
    "\n"
   ]
  },
  {
   "cell_type": "markdown",
   "metadata": {},
   "source": [
    "Lasso MinMaxScaler is also very stable showing good results on all metrics"
   ]
  }
 ],
 "metadata": {
  "kernelspec": {
   "display_name": "base",
   "language": "python",
   "name": "python3"
  },
  "language_info": {
   "codemirror_mode": {
    "name": "ipython",
    "version": 3
   },
   "file_extension": ".py",
   "mimetype": "text/x-python",
   "name": "python",
   "nbconvert_exporter": "python",
   "pygments_lexer": "ipython3",
   "version": "3.12.4"
  }
 },
 "nbformat": 4,
 "nbformat_minor": 2
}
