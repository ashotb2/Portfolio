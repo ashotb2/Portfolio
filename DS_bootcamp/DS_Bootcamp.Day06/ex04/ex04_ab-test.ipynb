{
 "cells": [
  {
   "cell_type": "markdown",
   "metadata": {},
   "source": [
    "# Ex04"
   ]
  },
  {
   "cell_type": "markdown",
   "metadata": {},
   "source": [
    "## create a connection to the database using the library sqlite3"
   ]
  },
  {
   "cell_type": "code",
   "execution_count": 1,
   "metadata": {},
   "outputs": [],
   "source": [
    "import sqlite3\n",
    "import pandas as pd\n",
    "\n",
    "connection = sqlite3.connect('../data/logs.db')\n",
    "cursor = connection.cursor()\n",
    "\n",
    "cursor.execute(\"ATTACH DATABASE '../data/checking-logs.sqlite' AS logs\")\n",
    "\n",
    "connection.commit()"
   ]
  },
  {
   "cell_type": "markdown",
   "metadata": {},
   "source": [
    "## using only one query for each of the groups, create two dataframes: test_results and control_results with the columns time and avg_diff and only two rows\n",
    "## we still are not using the lab ’project1’\n"
   ]
  },
  {
   "cell_type": "code",
   "execution_count": 73,
   "metadata": {},
   "outputs": [
    {
     "name": "stdout",
     "output_type": "stream",
     "text": [
      "Test Results:\n",
      "     time    avg_diff\n",
      "0   after  105.229241\n",
      "1  before   61.156632\n",
      "\n",
      "Control Results:\n",
      "     time    avg_diff\n",
      "0   after  118.144571\n",
      "1  before   99.901448\n"
     ]
    }
   ],
   "source": [
    "test_query = \"\"\"\n",
    "WITH user_times AS (\n",
    "    SELECT\n",
    "        t.uid,\n",
    "        CASE\n",
    "            WHEN strftime('%s', t.first_commit_ts) < strftime('%s', t.first_view_ts) THEN 'before'\n",
    "            ELSE 'after'\n",
    "        END AS time,\n",
    "        (d.deadlines - strftime('%s', t.first_commit_ts)) / 3600.0 AS delta_hours \n",
    "    FROM test AS t\n",
    "    JOIN deadlines AS d ON t.labname = d.labs\n",
    "    WHERE t.labname != 'project1'\n",
    "),\n",
    "filtered_users AS (\n",
    "    SELECT uid\n",
    "    FROM user_times\n",
    "    GROUP BY uid\n",
    "    HAVING COUNT(DISTINCT time) = 2\n",
    ")\n",
    "SELECT\n",
    "    ut.time,\n",
    "    AVG(ut.delta_hours) AS avg_diff\n",
    "FROM user_times ut\n",
    "INNER JOIN filtered_users fu ON ut.uid = fu.uid\n",
    "GROUP BY ut.time\n",
    ";\n",
    "\"\"\"\n",
    "\n",
    "control_query = \"\"\"\n",
    "WITH user_times AS (\n",
    "    SELECT\n",
    "        t.uid,\n",
    "        CASE\n",
    "            WHEN strftime('%s', t.first_commit_ts) < strftime('%s', t.first_view_ts) THEN 'before'\n",
    "            ELSE 'after'\n",
    "        END AS time,\n",
    "        (d.deadlines - strftime('%s', t.first_commit_ts)) / 3600.0 AS delta_hours \n",
    "    FROM control AS t\n",
    "    JOIN deadlines AS d ON t.labname = d.labs\n",
    "    WHERE t.labname != 'project1'\n",
    "),\n",
    "filtered_users AS (\n",
    "    SELECT uid\n",
    "    FROM user_times\n",
    "    GROUP BY uid\n",
    "    HAVING COUNT(DISTINCT time) = 2\n",
    ")\n",
    "SELECT\n",
    "    ut.time,\n",
    "    AVG(ut.delta_hours) AS avg_diff\n",
    "FROM user_times ut\n",
    "INNER JOIN filtered_users fu ON ut.uid = fu.uid\n",
    "GROUP BY ut.time\n",
    ";\n",
    "\"\"\"\n",
    "test_results = pd.read_sql(test_query, connection)\n",
    "control_results = pd.read_sql(control_query, connection)\n",
    "\n",
    "\n",
    "print(\"Test Results:\")\n",
    "print(test_results)\n",
    "print(\"\\nControl Results:\")\n",
    "print(control_results)\n",
    "\n",
    "connection.close()"
   ]
  },
  {
   "cell_type": "markdown",
   "metadata": {},
   "source": [
    "## have the answer: did the hypothesis turn out to be true and the page does affect the students’ behavior?"
   ]
  },
  {
   "cell_type": "markdown",
   "metadata": {},
   "source": [
    "The results come back inconclusive as in both cases after has a higher avg delta than before. The deltas are even higher in the control meaning that on average assignments were submitted earlier before the page was introduced. therefor it could be concluded that the page does not make them submit earlier but only delays the submition. Making the Hypothesis false."
   ]
  }
 ],
 "metadata": {
  "kernelspec": {
   "display_name": "Python 3",
   "language": "python",
   "name": "python3"
  },
  "language_info": {
   "codemirror_mode": {
    "name": "ipython",
    "version": 3
   },
   "file_extension": ".py",
   "mimetype": "text/x-python",
   "name": "python",
   "nbconvert_exporter": "python",
   "pygments_lexer": "ipython3",
   "version": "3.13.0"
  }
 },
 "nbformat": 4,
 "nbformat_minor": 2
}
