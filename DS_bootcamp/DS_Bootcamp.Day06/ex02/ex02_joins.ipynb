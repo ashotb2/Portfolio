{
 "cells": [
  {
   "cell_type": "markdown",
   "metadata": {},
   "source": [
    "# Ex02"
   ]
  },
  {
   "cell_type": "markdown",
   "metadata": {},
   "source": [
    "## create a connection to the database using the library sqlite3"
   ]
  },
  {
   "cell_type": "code",
   "execution_count": 1,
   "metadata": {},
   "outputs": [],
   "source": [
    "import sqlite3\n",
    "import pandas as pd\n",
    "\n",
    "connection = sqlite3.connect('../data/logs.db')\n",
    "cursor = connection.cursor()\n",
    "\n",
    "cursor.execute(\"ATTACH DATABASE '../data/checking-logs.sqlite' AS logs\")\n",
    "\n",
    "connection.commit()"
   ]
  },
  {
   "cell_type": "markdown",
   "metadata": {},
   "source": [
    "## create a new table datamart in the database by joining the tables pageviews and checker using only one query"
   ]
  },
  {
   "cell_type": "code",
   "execution_count": 67,
   "metadata": {},
   "outputs": [
    {
     "name": "stdout",
     "output_type": "stream",
     "text": [
      "        uid   labname            first_commit_ts              first_view_ts\n",
      "0    user_1    laba04 2020-04-26 17:06:18.462708 2020-04-26 21:53:59.624136\n",
      "1    user_1   laba04s 2020-04-26 17:12:11.843671 2020-04-26 21:53:59.624136\n",
      "2    user_1    laba05 2020-05-02 19:15:18.540185 2020-04-26 21:53:59.624136\n",
      "3    user_1    laba06 2020-05-17 16:26:35.268534 2020-04-26 21:53:59.624136\n",
      "4    user_1   laba06s 2020-05-20 12:23:37.289724 2020-04-26 21:53:59.624136\n",
      "..      ...       ...                        ...                        ...\n",
      "135  user_8   laba04s 2020-04-19 10:22:35.761944                        NaT\n",
      "136  user_8    laba05 2020-05-02 13:28:07.705193                        NaT\n",
      "137  user_8    laba06 2020-05-16 17:56:15.755553                        NaT\n",
      "138  user_8   laba06s 2020-05-16 20:01:07.900727                        NaT\n",
      "139  user_8  project1 2020-05-14 15:42:04.002981                        NaT\n",
      "\n",
      "[140 rows x 4 columns]\n"
     ]
    }
   ],
   "source": [
    "query_drop = \"DROP TABLE IF EXISTS datamart;\"\n",
    "cursor.execute(query_drop)\n",
    "\n",
    "query = \"\"\"\n",
    "    CREATE TABLE datamart AS\n",
    "    SELECT \n",
    "        c.uid,\n",
    "        c.labname, \n",
    "        MIN(c.timestamp) AS first_commit_ts, \n",
    "        MIN(p.datetime) AS first_view_ts  \n",
    "    FROM checker AS c\n",
    "    FULL OUTER JOIN pageviews AS P\n",
    "    ON c.uid = p.uid\n",
    "    WHERE\n",
    "        c.status = 'ready'\n",
    "        AND c.uid LIKE 'user_%' \n",
    "        AND c.numTrials = 1\n",
    "        AND c.labname IN ('laba04', 'laba04s', 'laba05', 'laba06', 'laba06s', 'project1')\n",
    "    GROUP BY \n",
    "        c.uid, c.labname;\n",
    "\"\"\"\n",
    "cursor.execute(query)\n",
    "\n",
    "datamart = pd.io.sql.read_sql(\"SELECT * FROM datamart\", connection)\n",
    "datamart['first_commit_ts'] = pd.to_datetime(df['first_commit_ts'])\n",
    "datamart['first_view_ts'] = pd.to_datetime(df['first_view_ts'])\n",
    "\n",
    "print(datamart)\n",
    "\n",
    "connection.commit() "
   ]
  },
  {
   "cell_type": "markdown",
   "metadata": {},
   "source": [
    "## using Pandas methods, create two dataframes: test and control\n"
   ]
  },
  {
   "cell_type": "code",
   "execution_count": 74,
   "metadata": {},
   "outputs": [],
   "source": [
    "test = datamart.dropna(subset=['first_view_ts'])\n",
    "control = datamart[datamart['first_view_ts'].isna()]\n",
    "\n",
    "average_first_view_ts = test['first_view_ts'].mean()\n",
    "control.loc[control['first_view_ts'].isna(), 'first_view_ts'] = average_first_view_ts\n",
    "\n",
    "test.to_sql('test',con=connection, if_exists='replace', index=False)\n",
    "control.to_sql('control',con=connection, if_exists='replace', index=False)\n",
    "\n",
    "connection.commit()"
   ]
  },
  {
   "cell_type": "markdown",
   "metadata": {},
   "source": [
    "## close the connection\n"
   ]
  },
  {
   "cell_type": "code",
   "execution_count": 75,
   "metadata": {},
   "outputs": [],
   "source": [
    "connection.close()"
   ]
  }
 ],
 "metadata": {
  "kernelspec": {
   "display_name": "Python 3",
   "language": "python",
   "name": "python3"
  },
  "language_info": {
   "codemirror_mode": {
    "name": "ipython",
    "version": 3
   },
   "file_extension": ".py",
   "mimetype": "text/x-python",
   "name": "python",
   "nbconvert_exporter": "python",
   "pygments_lexer": "ipython3",
   "version": "3.13.0"
  }
 },
 "nbformat": 4,
 "nbformat_minor": 2
}
