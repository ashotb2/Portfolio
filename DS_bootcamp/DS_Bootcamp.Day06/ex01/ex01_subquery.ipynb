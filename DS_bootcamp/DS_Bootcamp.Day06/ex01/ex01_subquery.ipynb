{
 "cells": [
  {
   "cell_type": "markdown",
   "metadata": {},
   "source": [
    "# Ex01"
   ]
  },
  {
   "cell_type": "markdown",
   "metadata": {},
   "source": [
    "## create a connection to the database using the library sqlite3\n"
   ]
  },
  {
   "cell_type": "code",
   "execution_count": 46,
   "metadata": {},
   "outputs": [],
   "source": [
    "import sqlite3\n",
    "import pandas as pd\n",
    "\n",
    "connection = sqlite3.connect('../data/logs.db')\n",
    "cursor = connection.cursor()\n",
    "\n",
    "cursor.execute(\"ATTACH DATABASE '../data/checking-logs.sqlite' AS logs\")\n",
    "\n",
    "connection.commit()"
   ]
  },
  {
   "cell_type": "markdown",
   "metadata": {},
   "source": [
    "## get the schema of the table checker\n"
   ]
  },
  {
   "cell_type": "code",
   "execution_count": 47,
   "metadata": {},
   "outputs": [
    {
     "name": "stdout",
     "output_type": "stream",
     "text": [
      "   cid       name       type  notnull dflt_value  pk\n",
      "0    0      index    INTEGER        0       None   0\n",
      "1    1     status       TEXT        0       None   0\n",
      "2    2    success    INTEGER        0       None   0\n",
      "3    3  timestamp  TIMESTAMP        0       None   0\n",
      "4    4  numTrials    INTEGER        0       None   0\n",
      "5    5    labname       TEXT        0       None   0\n",
      "6    6        uid       TEXT        0       None   0\n"
     ]
    }
   ],
   "source": [
    "query = \"PRAGMA table_info(checker);\"\n",
    "schema = pd.io.sql.read_sql(query, connection)\n",
    "print(schema)"
   ]
  },
  {
   "cell_type": "markdown",
   "metadata": {},
   "source": [
    "## get only the first 10 rows of the table checker to check what the table looks like\n"
   ]
  },
  {
   "cell_type": "code",
   "execution_count": 48,
   "metadata": {},
   "outputs": [
    {
     "name": "stdout",
     "output_type": "stream",
     "text": [
      "   index    status  success                   timestamp  numTrials   labname  \\\n",
      "0      0  checking        0  2020-04-16 21:12:50.740474          5      None   \n",
      "1      1     ready        0  2020-04-16 21:12:54.708365          5  code_rvw   \n",
      "2      2  checking        0  2020-04-16 21:46:47.769088          7      None   \n",
      "3      3     ready        0  2020-04-16 21:46:48.121217          7     lab02   \n",
      "4      4  checking        0  2020-04-16 21:53:01.862637          6  code_rvw   \n",
      "5      5     ready        0  2020-04-16 21:53:05.373389          6  code_rvw   \n",
      "6      6  checking        0  2020-04-17 05:18:51.965864          1      None   \n",
      "7      7     ready        0  2020-04-17 05:19:02.744528          1  project1   \n",
      "8      8  checking        0  2020-04-17 05:22:35.249331          2  project1   \n",
      "9      9     ready        1  2020-04-17 05:22:45.549397          2  project1   \n",
      "\n",
      "       uid  \n",
      "0  admin_1  \n",
      "1  admin_1  \n",
      "2  admin_1  \n",
      "3  admin_1  \n",
      "4  admin_1  \n",
      "5  admin_1  \n",
      "6     None  \n",
      "7   user_4  \n",
      "8   user_4  \n",
      "9   user_4  \n"
     ]
    }
   ],
   "source": [
    "query = \"SELECT * FROM checker LIMIT 10;\"\n",
    "head = pd.io.sql.read_sql(query, connection)\n",
    "print(head)"
   ]
  },
  {
   "cell_type": "markdown",
   "metadata": {},
   "source": [
    "## count how many rows satisfy the following conditions using only one query with any number of subqueries:"
   ]
  },
  {
   "cell_type": "code",
   "execution_count": 49,
   "metadata": {},
   "outputs": [
    {
     "name": "stdout",
     "output_type": "stream",
     "text": [
      "     index      uid                    datetime\n",
      "0       12  user_30  2020-04-17 22:46:26.785035\n",
      "1       14  user_14  2020-04-18 10:53:52.623447\n",
      "2       15  user_17  2020-04-18 10:56:55.833899\n",
      "3       16  user_14  2020-04-18 10:57:37.331258\n",
      "4       18  user_17  2020-04-18 12:05:48.200144\n",
      "..     ...      ...                         ...\n",
      "980   1072  user_19  2020-05-21 17:49:36.429237\n",
      "981   1073  user_28  2020-05-21 18:45:20.441142\n",
      "982   1074  user_19  2020-05-21 23:03:06.457819\n",
      "983   1075  user_25  2020-05-21 23:23:49.995349\n",
      "984   1079  user_17  2020-05-22 18:22:22.847815\n",
      "\n",
      "[985 rows x 3 columns]\n"
     ]
    }
   ],
   "source": [
    "query = \"\"\"\n",
    "SELECT *\n",
    "FROM pageviews\n",
    "WHERE uid IN (\n",
    "    SELECT uid\n",
    "    FROM checker\n",
    "    WHERE status = 'ready'\n",
    "    AND numTrials = 1\n",
    "    AND labname IN ('laba04', 'laba04s', 'laba05', 'laba06', 'laba06s', 'project1')\n",
    "    GROUP BY uid\n",
    ")\n",
    ";\n",
    "\"\"\"\n",
    "checkers = pd.io.sql.read_sql(query, connection)\n",
    "print(checkers)"
   ]
  },
  {
   "cell_type": "markdown",
   "metadata": {},
   "source": [
    "## close the connection\n"
   ]
  },
  {
   "cell_type": "code",
   "execution_count": 50,
   "metadata": {},
   "outputs": [],
   "source": [
    "connection.close()"
   ]
  }
 ],
 "metadata": {
  "kernelspec": {
   "display_name": "Python 3",
   "language": "python",
   "name": "python3"
  },
  "language_info": {
   "codemirror_mode": {
    "name": "ipython",
    "version": 3
   },
   "file_extension": ".py",
   "mimetype": "text/x-python",
   "name": "python",
   "nbconvert_exporter": "python",
   "pygments_lexer": "ipython3",
   "version": "3.13.0"
  }
 },
 "nbformat": 4,
 "nbformat_minor": 2
}
