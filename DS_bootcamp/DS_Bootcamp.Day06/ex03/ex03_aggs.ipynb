{
 "cells": [
  {
   "cell_type": "markdown",
   "metadata": {},
   "source": [
    "# Ex03"
   ]
  },
  {
   "cell_type": "markdown",
   "metadata": {},
   "source": [
    "## create a connection to the database using the library sqlite3"
   ]
  },
  {
   "cell_type": "code",
   "execution_count": 27,
   "metadata": {},
   "outputs": [],
   "source": [
    "import sqlite3\n",
    "import pandas as pd\n",
    "\n",
    "connection = sqlite3.connect('../data/logs.db')\n",
    "cursor = connection.cursor()\n",
    "\n",
    "cursor.execute(\"ATTACH DATABASE '../data/checking-logs.sqlite' AS logs\")\n",
    "\n",
    "connection.commit()"
   ]
  },
  {
   "cell_type": "markdown",
   "metadata": {},
   "source": [
    "## get the schema of the table test"
   ]
  },
  {
   "cell_type": "code",
   "execution_count": 28,
   "metadata": {},
   "outputs": [
    {
     "name": "stdout",
     "output_type": "stream",
     "text": [
      "   cid             name       type  notnull dflt_value  pk\n",
      "0    0              uid       TEXT        0       None   0\n",
      "1    1          labname       TEXT        0       None   0\n",
      "2    2  first_commit_ts  TIMESTAMP        0       None   0\n",
      "3    3    first_view_ts  TIMESTAMP        0       None   0\n"
     ]
    }
   ],
   "source": [
    "query = \"PRAGMA table_info(test);\"\n",
    "schema = pd.io.sql.read_sql(query, connection)\n",
    "\n",
    "print(schema)"
   ]
  },
  {
   "cell_type": "markdown",
   "metadata": {},
   "source": [
    "## get only the first 10 rows of the table test to check what the table looks like\n"
   ]
  },
  {
   "cell_type": "code",
   "execution_count": 29,
   "metadata": {},
   "outputs": [
    {
     "name": "stdout",
     "output_type": "stream",
     "text": [
      "       uid   labname             first_commit_ts               first_view_ts\n",
      "0   user_1    laba04  2020-04-26 17:06:18.462708  2020-04-26 21:53:59.624136\n",
      "1   user_1   laba04s  2020-04-26 17:12:11.843671  2020-04-26 21:53:59.624136\n",
      "2   user_1    laba05  2020-05-02 19:15:18.540185  2020-04-26 21:53:59.624136\n",
      "3   user_1    laba06  2020-05-17 16:26:35.268534  2020-04-26 21:53:59.624136\n",
      "4   user_1   laba06s  2020-05-20 12:23:37.289724  2020-04-26 21:53:59.624136\n",
      "5   user_1  project1  2020-05-14 20:56:08.898880  2020-04-26 21:53:59.624136\n",
      "6  user_10    laba04  2020-04-25 08:24:52.696624  2020-04-18 12:19:50.182714\n",
      "7  user_10   laba04s  2020-04-25 08:37:54.604222  2020-04-18 12:19:50.182714\n",
      "8  user_10    laba05  2020-05-01 19:27:26.063245  2020-04-18 12:19:50.182714\n",
      "9  user_10    laba06  2020-05-19 11:39:28.885637  2020-04-18 12:19:50.182714\n"
     ]
    }
   ],
   "source": [
    "head = pd.io.sql.read_sql(\"SELECT * FROM test LIMIT 10\", connection)\n",
    "print(head)"
   ]
  },
  {
   "cell_type": "markdown",
   "metadata": {},
   "source": [
    "## find among all the users the minimum value of the delta between the first commit of the user and the deadline of the corresponding lab using only one query"
   ]
  },
  {
   "cell_type": "code",
   "execution_count": 32,
   "metadata": {},
   "outputs": [
    {
     "name": "stdout",
     "output_type": "stream",
     "text": [
      "       uid  delta_hours\n",
      "0  user_25            2\n"
     ]
    }
   ],
   "source": [
    "query = \"\"\"\n",
    "SELECT\n",
    "    t.uid,\n",
    "    MIN((d.deadlines - strftime('%s',t.first_commit_ts))/3600) AS delta_hours\n",
    "FROM test t\n",
    "JOIN deadlines d\n",
    "ON t.labname = d.labs\n",
    "WHERE t.labname != 'project1'\n",
    "GROUP BY uid\n",
    "ORDER BY delta_hours ASC\n",
    "LIMIT 1\n",
    "\"\"\"\n",
    "df_min = pd.io.sql.read_sql(query, connection)\n",
    "print(df_min)"
   ]
  },
  {
   "cell_type": "markdown",
   "metadata": {},
   "source": [
    "## do the same thing, but for the maximum, using only one query, the dataframe name is df_max\n"
   ]
  },
  {
   "cell_type": "code",
   "execution_count": 33,
   "metadata": {},
   "outputs": [
    {
     "name": "stdout",
     "output_type": "stream",
     "text": [
      "       uid  delta_hours\n",
      "0  user_30          202\n"
     ]
    }
   ],
   "source": [
    "query = \"\"\"\n",
    "SELECT\n",
    "    t.uid,\n",
    "    MAX((d.deadlines - strftime('%s',t.first_commit_ts))/3600) AS delta_hours\n",
    "FROM test t\n",
    "JOIN deadlines d\n",
    "ON t.labname = d.labs\n",
    "WHERE t.labname != 'project1'\n",
    "GROUP BY \n",
    "    t.uid\n",
    "ORDER BY delta_hours DESC\n",
    "LIMIT 1\n",
    "\"\"\"\n",
    "df_max = pd.io.sql.read_sql(query, connection)\n",
    "print(df_max)"
   ]
  },
  {
   "cell_type": "markdown",
   "metadata": {},
   "source": [
    "## do the same thing but for the average, using only one query, this time your dataframe should not include the uid column, and the dataframe name is df_avg\n"
   ]
  },
  {
   "cell_type": "code",
   "execution_count": 34,
   "metadata": {},
   "outputs": [
    {
     "name": "stdout",
     "output_type": "stream",
     "text": [
      "        uid  delta_hours\n",
      "0    user_1    64.400000\n",
      "1   user_10    74.800000\n",
      "2   user_14   159.000000\n",
      "3   user_17    61.600000\n",
      "4   user_18     5.666667\n",
      "5   user_19    98.750000\n",
      "6   user_21    95.500000\n",
      "7   user_25    92.600000\n",
      "8   user_28    86.400000\n",
      "9    user_3   105.400000\n",
      "10  user_30   145.250000\n"
     ]
    }
   ],
   "source": [
    "query = \"\"\"\n",
    "SELECT\n",
    "    t.uid, AVG((d.deadlines - strftime('%s',t.first_commit_ts))/3600) AS delta_hours\n",
    "FROM test t\n",
    "JOIN deadlines d\n",
    "ON t.labname = d.labs\n",
    "WHERE t.labname != 'project1'\n",
    "GROUP BY t.uid\n",
    "\"\"\"\n",
    "df_avg = pd.io.sql.read_sql(query, connection)\n",
    "print(df_avg)"
   ]
  },
  {
   "cell_type": "markdown",
   "metadata": {},
   "source": [
    "## we want to test the hypothesis that the users who visited the newsfeed just a few times have the lower delta between the first commit and the deadline. To do this, you need to calculate the correlation coefficient between the number of pageviews and the difference"
   ]
  },
  {
   "cell_type": "code",
   "execution_count": 35,
   "metadata": {},
   "outputs": [
    {
     "name": "stdout",
     "output_type": "stream",
     "text": [
      "        uid    avg_diff  pageviews\n",
      "0    user_1   64.400000        140\n",
      "1   user_10   74.800000        445\n",
      "2   user_14  159.000000        429\n",
      "3   user_17   61.600000        235\n",
      "4   user_18    5.666667          9\n",
      "5   user_19   98.750000         64\n",
      "6   user_21   95.500000         40\n",
      "7   user_25   92.600000        895\n",
      "8   user_28   86.400000        745\n",
      "9    user_3  105.400000       1585\n",
      "10  user_30  145.250000         12\n",
      "The correlation coefficent between avg_diff and pageviews is : 0.18583402677246152\n"
     ]
    }
   ],
   "source": [
    "query = \"\"\"\n",
    "SELECT\n",
    "    t.uid,\n",
    "    AVG((d.deadlines - strftime('%s',t.first_commit_ts))/3600) AS avg_diff,\n",
    "    COUNT(p.datetime) AS pageviews\n",
    "FROM test AS t\n",
    "JOIN pageviews AS p ON t.uid = p.uid\n",
    "JOIN deadlines AS d ON t.labname = d.labs\n",
    "WHERE t.uid LIKE \"user_%\"\n",
    "AND t.labname != 'project1'\n",
    "GROUP BY t.uid\n",
    "\"\"\"\n",
    "# cursor.execute(query)\n",
    "\n",
    "\n",
    "views_diff = pd.io.sql.read_sql(query, connection)\n",
    "print(views_diff)\n",
    "cor = views_diff['avg_diff'].corr(views_diff['pageviews'])\n",
    "print(F\"The correlation coefficent between avg_diff and pageviews is : {cor}\")\n",
    "\n",
    "connection.close()"
   ]
  }
 ],
 "metadata": {
  "kernelspec": {
   "display_name": "Python 3",
   "language": "python",
   "name": "python3"
  },
  "language_info": {
   "codemirror_mode": {
    "name": "ipython",
    "version": 3
   },
   "file_extension": ".py",
   "mimetype": "text/x-python",
   "name": "python",
   "nbconvert_exporter": "python",
   "pygments_lexer": "ipython3",
   "version": "3.13.0"
  }
 },
 "nbformat": 4,
 "nbformat_minor": 2
}
