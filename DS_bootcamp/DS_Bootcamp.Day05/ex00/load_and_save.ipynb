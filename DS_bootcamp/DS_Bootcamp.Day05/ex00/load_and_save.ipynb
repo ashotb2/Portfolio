{
 "cells": [
  {
   "cell_type": "markdown",
   "metadata": {
    "vscode": {
     "languageId": "html"
    }
   },
   "source": [
    "# EX00\n"
   ]
  },
  {
   "cell_type": "markdown",
   "metadata": {},
   "source": [
    "## Read_csv"
   ]
  },
  {
   "cell_type": "markdown",
   "metadata": {},
   "source": [
    "filter the rows with index 2 and 3 using the argument skiprows, we know that these observations were fake.\n",
    "filter the last 2 rows from the footer using the argument skipfooter, we know that these observations were fake too.\n",
    "assign the following names to the column: datetime, user.\n",
    "use datetime as the index column."
   ]
  },
  {
   "cell_type": "code",
   "execution_count": 1,
   "metadata": {},
   "outputs": [
    {
     "name": "stdout",
     "output_type": "stream",
     "text": [
      "                                 user\n",
      "datetime                             \n",
      "2020-04-17 12:01:08.463179      artem\n",
      "2020-04-17 12:01:23.743946      artem\n",
      "2020-04-17 12:35:52.735016      artem\n",
      "2020-04-17 12:36:21.401412     oksana\n",
      "2020-04-17 12:36:22.023355     oksana\n",
      "...                               ...\n",
      "2020-05-21 16:36:40.915488  ekaterina\n",
      "2020-05-21 17:49:36.429237      maxim\n",
      "2020-05-21 18:45:20.441142  valentina\n",
      "2020-05-21 23:03:06.457819      maxim\n",
      "2020-05-21 23:23:49.995349      pavel\n",
      "\n",
      "[1072 rows x 1 columns]\n"
     ]
    }
   ],
   "source": [
    "import pandas as pd\n",
    "df = pd.read_csv('../data/feed-views.log', skiprows=[2,3], skipfooter=2, engine='python', names=['datetime', 'user'], sep= '\\t', index_col='datetime')\n",
    "print(df)"
   ]
  },
  {
   "cell_type": "markdown",
   "metadata": {},
   "source": [
    "## Rename datetime to date_time"
   ]
  },
  {
   "cell_type": "code",
   "execution_count": 2,
   "metadata": {},
   "outputs": [
    {
     "name": "stdout",
     "output_type": "stream",
     "text": [
      "                                 user\n",
      "date_time                            \n",
      "2020-04-17 12:01:08.463179      artem\n",
      "2020-04-17 12:01:23.743946      artem\n",
      "2020-04-17 12:35:52.735016      artem\n",
      "2020-04-17 12:36:21.401412     oksana\n",
      "2020-04-17 12:36:22.023355     oksana\n",
      "...                               ...\n",
      "2020-05-21 16:36:40.915488  ekaterina\n",
      "2020-05-21 17:49:36.429237      maxim\n",
      "2020-05-21 18:45:20.441142  valentina\n",
      "2020-05-21 23:03:06.457819      maxim\n",
      "2020-05-21 23:23:49.995349      pavel\n",
      "\n",
      "[1072 rows x 1 columns]\n"
     ]
    }
   ],
   "source": [
    "df.index.names = ['date_time']\n",
    "print(df)"
   ]
  },
  {
   "cell_type": "markdown",
   "metadata": {},
   "source": [
    "## To_csv"
   ]
  },
  {
   "cell_type": "markdown",
   "metadata": {},
   "source": [
    "use ’;’ as the delimiter\n"
   ]
  },
  {
   "cell_type": "markdown",
   "metadata": {},
   "source": [
    "save it to a file with the name feed-views-semicolon.log"
   ]
  },
  {
   "cell_type": "code",
   "execution_count": 3,
   "metadata": {},
   "outputs": [
    {
     "name": "stdout",
     "output_type": "stream",
     "text": [
      "                                 user\n",
      "date_time                            \n",
      "2020-04-17 12:01:08.463179      artem\n",
      "2020-04-17 12:01:23.743946      artem\n",
      "2020-04-17 12:35:52.735016      artem\n",
      "2020-04-17 12:36:21.401412     oksana\n",
      "2020-04-17 12:36:22.023355     oksana\n",
      "...                               ...\n",
      "2020-05-21 16:36:40.915488  ekaterina\n",
      "2020-05-21 17:49:36.429237      maxim\n",
      "2020-05-21 18:45:20.441142  valentina\n",
      "2020-05-21 23:03:06.457819      maxim\n",
      "2020-05-21 23:23:49.995349      pavel\n",
      "\n",
      "[1072 rows x 1 columns]\n"
     ]
    }
   ],
   "source": [
    "df.to_csv('../data/feed-views-semicolon.log', sep=';')\n",
    "print(df)"
   ]
  }
 ],
 "metadata": {
  "kernelspec": {
   "display_name": "Python 3",
   "language": "python",
   "name": "python3"
  },
  "language_info": {
   "codemirror_mode": {
    "name": "ipython",
    "version": 3
   },
   "file_extension": ".py",
   "mimetype": "text/x-python",
   "name": "python",
   "nbconvert_exporter": "python",
   "pygments_lexer": "ipython3",
   "version": "3.12.6"
  }
 },
 "nbformat": 4,
 "nbformat_minor": 2
}
