{
 "cells": [
  {
   "cell_type": "markdown",
   "metadata": {},
   "source": [
    "# Ex01"
   ]
  },
  {
   "cell_type": "markdown",
   "metadata": {},
   "source": [
    "## Create a dataframe views with two columns: datetime and user by reading feed-views.log"
   ]
  },
  {
   "cell_type": "code",
   "execution_count": 28,
   "metadata": {},
   "outputs": [
    {
     "name": "stdout",
     "output_type": "stream",
     "text": [
      "                       datetime       user  year  month  day  hour  minute  \\\n",
      "0    2020-04-17 12:01:08.463179      artem  2020      4   17    12       1   \n",
      "1    2020-04-17 12:01:23.743946      artem  2020      4   17    12       1   \n",
      "2    2020-04-17 12:27:30.646665      artem  2020      4   17    12      27   \n",
      "3    2020-04-17 12:35:44.884757      artem  2020      4   17    12      35   \n",
      "4    2020-04-17 12:35:52.735016      artem  2020      4   17    12      35   \n",
      "...                         ...        ...   ...    ...  ...   ...     ...   \n",
      "1071 2020-05-21 18:45:20.441142  valentina  2020      5   21    18      45   \n",
      "1072 2020-05-21 23:03:06.457819      maxim  2020      5   21    23       3   \n",
      "1073 2020-05-21 23:23:49.995349      pavel  2020      5   21    23      23   \n",
      "1074 2020-05-21 23:49:22.386789      artem  2020      5   21    23      49   \n",
      "1075 2020-05-22 10:36:14.662600      artem  2020      5   22    10      36   \n",
      "\n",
      "      second  \n",
      "0          8  \n",
      "1         23  \n",
      "2         30  \n",
      "3         44  \n",
      "4         52  \n",
      "...      ...  \n",
      "1071      20  \n",
      "1072       6  \n",
      "1073      49  \n",
      "1074      22  \n",
      "1075      14  \n",
      "\n",
      "[1076 rows x 8 columns]\n"
     ]
    }
   ],
   "source": [
    "import pandas as pd\n",
    "views = pd.read_csv('../data/feed-views.log', sep='\\t', names=['datetime','user'])\n",
    "\n",
    "views['datetime'] = pd.to_datetime(views['datetime'])\n",
    "\n",
    "views['year'] = views['datetime'].dt.year\n",
    "views['month'] = views['datetime'].dt.month\n",
    "views['day'] = views['datetime'].dt.day\n",
    "views['hour'] = views['datetime'].dt.hour\n",
    "views['minute'] = views['datetime'].dt.minute\n",
    "views['second'] = views['datetime'].dt.second\n",
    "\n",
    "print(views)"
   ]
  },
  {
   "cell_type": "markdown",
   "metadata": {},
   "source": [
    "## create the new column daytime\n"
   ]
  },
  {
   "cell_type": "code",
   "execution_count": 29,
   "metadata": {},
   "outputs": [
    {
     "name": "stdout",
     "output_type": "stream",
     "text": [
      "                            datetime  year  month  day  hour  minute  second  \\\n",
      "user                                                                           \n",
      "artem     2020-04-17 12:01:08.463179  2020      4   17    12       1       8   \n",
      "artem     2020-04-17 12:01:23.743946  2020      4   17    12       1      23   \n",
      "artem     2020-04-17 12:27:30.646665  2020      4   17    12      27      30   \n",
      "artem     2020-04-17 12:35:44.884757  2020      4   17    12      35      44   \n",
      "artem     2020-04-17 12:35:52.735016  2020      4   17    12      35      52   \n",
      "...                              ...   ...    ...  ...   ...     ...     ...   \n",
      "valentina 2020-05-21 18:45:20.441142  2020      5   21    18      45      20   \n",
      "maxim     2020-05-21 23:03:06.457819  2020      5   21    23       3       6   \n",
      "pavel     2020-05-21 23:23:49.995349  2020      5   21    23      23      49   \n",
      "artem     2020-05-21 23:49:22.386789  2020      5   21    23      49      22   \n",
      "artem     2020-05-22 10:36:14.662600  2020      5   22    10      36      14   \n",
      "\n",
      "                 daytime  \n",
      "user                      \n",
      "artem          afternoon  \n",
      "artem          afternoon  \n",
      "artem          afternoon  \n",
      "artem          afternoon  \n",
      "artem          afternoon  \n",
      "...                  ...  \n",
      "valentina  early evening  \n",
      "maxim            evening  \n",
      "pavel            evening  \n",
      "artem            evening  \n",
      "artem            morning  \n",
      "\n",
      "[1076 rows x 8 columns]\n"
     ]
    }
   ],
   "source": [
    "bins = [0, 4, 7, 11, 17, 20, 24]\n",
    "labels = ['night', 'early morning', 'morning', 'afternoon', 'early evening', 'evening']\n",
    "    \n",
    "views['daytime'] = pd.cut(views['hour'], bins=bins, labels=labels, right=False)\n",
    "views.set_index('user', inplace=True)\n",
    "print(views)"
   ]
  },
  {
   "cell_type": "markdown",
   "metadata": {},
   "source": [
    "## calculate the number of elements in your dataframe"
   ]
  },
  {
   "cell_type": "code",
   "execution_count": 32,
   "metadata": {},
   "outputs": [
    {
     "name": "stdout",
     "output_type": "stream",
     "text": [
      "datetime    1076\n",
      "year        1076\n",
      "month       1076\n",
      "day         1076\n",
      "hour        1076\n",
      "minute      1076\n",
      "second      1076\n",
      "daytime     1076\n",
      "dtype: int64\n",
      "daytime\n",
      "evening          509\n",
      "afternoon        252\n",
      "early evening    145\n",
      "night            129\n",
      "morning           36\n",
      "early morning      5\n",
      "Name: count, dtype: int64\n"
     ]
    }
   ],
   "source": [
    "print(views.count())\n",
    "\n",
    "print(views['daytime'].value_counts())"
   ]
  },
  {
   "cell_type": "markdown",
   "metadata": {},
   "source": [
    "## sort values in your dataframe by hour, minute, and second in ascending order (simultaneously and not one by one)"
   ]
  },
  {
   "cell_type": "code",
   "execution_count": 34,
   "metadata": {},
   "outputs": [
    {
     "name": "stdout",
     "output_type": "stream",
     "text": [
      "                            datetime  year  month  day  hour  minute  second  \\\n",
      "user                                                                           \n",
      "valentina 2020-05-15 00:00:13.222265  2020      5   15     0       0      13   \n",
      "valentina 2020-05-15 00:01:05.153738  2020      5   15     0       1       5   \n",
      "pavel     2020-05-12 00:01:27.764025  2020      5   12     0       1      27   \n",
      "pavel     2020-05-12 00:01:38.444917  2020      5   12     0       1      38   \n",
      "pavel     2020-05-12 00:01:55.395042  2020      5   12     0       1      55   \n",
      "...                              ...   ...    ...  ...   ...     ...     ...   \n",
      "artem     2020-05-21 23:49:22.386789  2020      5   21    23      49      22   \n",
      "anatoliy  2020-05-09 23:53:55.599821  2020      5    9    23      53      55   \n",
      "pavel     2020-05-09 23:54:54.260791  2020      5    9    23      54      54   \n",
      "valentina 2020-05-14 23:58:56.754866  2020      5   14    23      58      56   \n",
      "alexander 2020-05-14 23:59:38.758438  2020      5   14    23      59      38   \n",
      "\n",
      "           daytime  \n",
      "user                \n",
      "valentina    night  \n",
      "valentina    night  \n",
      "pavel        night  \n",
      "pavel        night  \n",
      "pavel        night  \n",
      "...            ...  \n",
      "artem      evening  \n",
      "anatoliy   evening  \n",
      "pavel      evening  \n",
      "valentina  evening  \n",
      "alexander  evening  \n",
      "\n",
      "[1076 rows x 8 columns]\n"
     ]
    }
   ],
   "source": [
    "views = views.sort_values(by=['hour', 'minute', 'second'])\n",
    "print(views)"
   ]
  },
  {
   "cell_type": "markdown",
   "metadata": {},
   "source": [
    "## calculate the minimum and maximum for the hours and the mode for the daytime categories"
   ]
  },
  {
   "cell_type": "code",
   "execution_count": 59,
   "metadata": {},
   "outputs": [
    {
     "name": "stdout",
     "output_type": "stream",
     "text": [
      "3\n",
      "konstantin\n",
      "8\n",
      "alexander\n",
      "22\n",
      "evening\n"
     ]
    }
   ],
   "source": [
    "max_hour = views[views['daytime'] == 'night']['hour'].max()\n",
    "max_user = views[(views['daytime'] == 'night') & (views['hour'] == max_hour)].index.tolist()[0]\n",
    "print(max_hour)\n",
    "print(max_user)\n",
    "min_hour = views[views['daytime'] == 'morning']['hour'].min()\n",
    "min_user = views[(views['daytime'] == 'morning') & (views['hour'] == min_hour)].index.tolist()[0]\n",
    "print(min_hour)\n",
    "print(min_user)\n",
    "mode_hour = views['hour'].mode()[0]\n",
    "mode_daytime = views['daytime'].mode()[0]\n",
    "print(mode_hour)\n",
    "print(mode_daytime)"
   ]
  },
  {
   "cell_type": "markdown",
   "metadata": {},
   "source": [
    "## show the 3 earliest hours in the morning and the corresponding usernames and the 3 latest hours and the usernames using nsmallest() and nlargest()"
   ]
  },
  {
   "cell_type": "code",
   "execution_count": 61,
   "metadata": {},
   "outputs": [
    {
     "name": "stdout",
     "output_type": "stream",
     "text": [
      "           hour  minute  second\n",
      "user                           \n",
      "alexander     8      16       3\n",
      "alexander     8      35       1\n",
      "alexander     9       2      24\n",
      "            hour  minute  second\n",
      "user                            \n",
      "konstantin    10       2       8\n",
      "maxim         10       8       4\n",
      "maxim         10       8       5\n"
     ]
    }
   ],
   "source": [
    "earliest_morning = views[views['daytime'] == 'morning'].nsmallest(3, 'hour')\n",
    "print(earliest_morning[['hour', 'minute', 'second']])\n",
    "\n",
    "latest_hours = views[views['daytime'] == 'morning'].nlargest(3, 'hour')\n",
    "print(latest_hours[['hour', 'minute', 'second']])"
   ]
  },
  {
   "cell_type": "markdown",
   "metadata": {},
   "source": [
    "## use the method describe() to get the basic statistics for the columns"
   ]
  },
  {
   "cell_type": "code",
   "execution_count": 65,
   "metadata": {},
   "outputs": [
    {
     "name": "stdout",
     "output_type": "stream",
     "text": [
      "9.0\n"
     ]
    }
   ],
   "source": [
    "hour_stats = views['hour'].describe()\n",
    "Q1 = hour_stats['25%']\n",
    "Q3 = hour_stats['75%']\n",
    "\n",
    "iqr = Q3 - Q1\n",
    "\n",
    "print(iqr)"
   ]
  }
 ],
 "metadata": {
  "kernelspec": {
   "display_name": "Python 3",
   "language": "python",
   "name": "python3"
  },
  "language_info": {
   "codemirror_mode": {
    "name": "ipython",
    "version": 3
   },
   "file_extension": ".py",
   "mimetype": "text/x-python",
   "name": "python",
   "nbconvert_exporter": "python",
   "pygments_lexer": "ipython3",
   "version": "3.12.6"
  }
 },
 "nbformat": 4,
 "nbformat_minor": 2
}
