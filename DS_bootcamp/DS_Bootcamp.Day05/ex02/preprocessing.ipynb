{
 "cells": [
  {
   "cell_type": "markdown",
   "metadata": {},
   "source": [
    "# Ex02"
   ]
  },
  {
   "cell_type": "markdown",
   "metadata": {},
   "source": [
    "## download and read the CSV file and make ID the index column"
   ]
  },
  {
   "cell_type": "code",
   "execution_count": 2,
   "metadata": {},
   "outputs": [
    {
     "name": "stdout",
     "output_type": "stream",
     "text": [
      "        CarNumber    Make_n_model  Refund    Fines  History\n",
      "ID                                                         \n",
      "0    Y163O8161RUS      Ford Focus     2.0   3200.0      NaN\n",
      "1     E432XX77RUS    Toyota Camry     1.0   6500.0      NaN\n",
      "2     7184TT36RUS      Ford Focus     1.0   2100.0      NaN\n",
      "3    X582HE161RUS      Ford Focus     2.0   2000.0      NaN\n",
      "4    E34877152RUS      Ford Focus     2.0   6100.0      NaN\n",
      "..            ...             ...     ...      ...      ...\n",
      "926  Y163O8161RUS      Ford Focus     2.0   1600.0      NaN\n",
      "927  M0309X197RUS      Ford Focus     1.0  22300.0      NaN\n",
      "928  O673E8197RUS      Ford Focus     2.0    600.0      NaN\n",
      "929  8610T8154RUS      Ford Focus     1.0   2000.0      NaN\n",
      "930  H419XE197RUS  Toyota Corolla     2.0      NaN      2.0\n",
      "\n",
      "[931 rows x 5 columns]\n"
     ]
    }
   ],
   "source": [
    "import pandas as pd\n",
    "\n",
    "df = pd.read_csv('../data/auto.csv', sep=',', index_col=0)\n",
    "print(df)"
   ]
  },
  {
   "cell_type": "markdown",
   "metadata": {},
   "source": [
    "## count the number of observations using the method count()"
   ]
  },
  {
   "cell_type": "code",
   "execution_count": 7,
   "metadata": {},
   "outputs": [
    {
     "name": "stdout",
     "output_type": "stream",
     "text": [
      "CarNumber       931\n",
      "Make_n_model    931\n",
      "Refund          914\n",
      "Fines           869\n",
      "History          82\n",
      "dtype: int64\n"
     ]
    }
   ],
   "source": [
    "print(df.count())"
   ]
  },
  {
   "cell_type": "markdown",
   "metadata": {},
   "source": [
    "## drop the duplicates, taking into account only the following columns: CarNumber, Make_n_model, Fines\n"
   ]
  },
  {
   "cell_type": "code",
   "execution_count": 8,
   "metadata": {},
   "outputs": [
    {
     "name": "stdout",
     "output_type": "stream",
     "text": [
      "        CarNumber    Make_n_model  Refund    Fines  History\n",
      "ID                                                         \n",
      "0    Y163O8161RUS      Ford Focus     2.0   3200.0      NaN\n",
      "1     E432XX77RUS    Toyota Camry     1.0   6500.0      NaN\n",
      "2     7184TT36RUS      Ford Focus     1.0   2100.0      NaN\n",
      "3    X582HE161RUS      Ford Focus     2.0   2000.0      NaN\n",
      "5    92918M178RUS      Ford Focus     1.0   5700.0      NaN\n",
      "..            ...             ...     ...      ...      ...\n",
      "926  Y163O8161RUS      Ford Focus     2.0   1600.0      NaN\n",
      "927  M0309X197RUS      Ford Focus     1.0  22300.0      NaN\n",
      "928  O673E8197RUS      Ford Focus     2.0    600.0      NaN\n",
      "929  8610T8154RUS      Ford Focus     1.0   2000.0      NaN\n",
      "930  H419XE197RUS  Toyota Corolla     2.0      NaN      2.0\n",
      "\n",
      "[725 rows x 5 columns]\n",
      "725\n"
     ]
    }
   ],
   "source": [
    "df = df.drop_duplicates(subset=['CarNumber','Make_n_model','Fines'], keep='last')\n",
    "num = df.shape[0]\n",
    "print(df)\n",
    "print(num)"
   ]
  },
  {
   "cell_type": "markdown",
   "metadata": {},
   "source": [
    "## work with missing values"
   ]
  },
  {
   "cell_type": "code",
   "execution_count": 9,
   "metadata": {},
   "outputs": [
    {
     "name": "stdout",
     "output_type": "stream",
     "text": [
      "CarNumber         0\n",
      "Make_n_model      0\n",
      "Refund           12\n",
      "Fines            60\n",
      "History         660\n",
      "dtype: int64\n",
      "CarNumber       0\n",
      "Make_n_model    0\n",
      "Refund          0\n",
      "Fines           0\n",
      "dtype: int64\n"
     ]
    }
   ],
   "source": [
    "na_count = df.isna().sum()\n",
    "print(na_count)\n",
    "df = df.dropna(thresh=len(df) - 500, axis=1)\n",
    "df['Refund'] = df['Refund'].ffill()\n",
    "df['Fines'] = df['Fines'].fillna(df['Fines'].mean())\n",
    "na_count_post = df.isna().sum()\n",
    "print(na_count_post)"
   ]
  },
  {
   "cell_type": "markdown",
   "metadata": {},
   "source": [
    "## split and parse the make and model"
   ]
  },
  {
   "cell_type": "code",
   "execution_count": 10,
   "metadata": {},
   "outputs": [
    {
     "name": "stdout",
     "output_type": "stream",
     "text": [
      "        CarNumber  Refund         Fines    Make    Model\n",
      "ID                                                      \n",
      "0    Y163O8161RUS     2.0   3200.000000    Ford    Focus\n",
      "1     E432XX77RUS     1.0   6500.000000  Toyota    Camry\n",
      "2     7184TT36RUS     1.0   2100.000000    Ford    Focus\n",
      "3    X582HE161RUS     2.0   2000.000000    Ford    Focus\n",
      "5    92918M178RUS     1.0   5700.000000    Ford    Focus\n",
      "..            ...     ...           ...     ...      ...\n",
      "926  Y163O8161RUS     2.0   1600.000000    Ford    Focus\n",
      "927  M0309X197RUS     1.0  22300.000000    Ford    Focus\n",
      "928  O673E8197RUS     2.0    600.000000    Ford    Focus\n",
      "929  8610T8154RUS     1.0   2000.000000    Ford    Focus\n",
      "930  H419XE197RUS     2.0   8594.586466  Toyota  Corolla\n",
      "\n",
      "[725 rows x 5 columns]\n"
     ]
    }
   ],
   "source": [
    "df['Make'] = df['Make_n_model'].apply(lambda x: x.split(' ')[0])\n",
    "df['Model'] = df['Make_n_model'].apply(lambda x: ' '.join(x.split(' ')[1:]))\n",
    "df = df.drop(columns=['Make_n_model'])\n",
    "print(df)\n",
    "df.to_json('../data/auto.json')"
   ]
  }
 ],
 "metadata": {
  "kernelspec": {
   "display_name": "Python 3",
   "language": "python",
   "name": "python3"
  },
  "language_info": {
   "codemirror_mode": {
    "name": "ipython",
    "version": 3
   },
   "file_extension": ".py",
   "mimetype": "text/x-python",
   "name": "python",
   "nbconvert_exporter": "python",
   "pygments_lexer": "ipython3",
   "version": "3.12.6"
  }
 },
 "nbformat": 4,
 "nbformat_minor": 2
}
