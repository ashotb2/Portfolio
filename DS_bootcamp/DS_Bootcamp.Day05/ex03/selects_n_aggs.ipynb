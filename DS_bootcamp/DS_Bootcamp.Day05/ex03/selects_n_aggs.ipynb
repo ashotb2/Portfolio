{
 "cells": [
  {
   "cell_type": "markdown",
   "metadata": {},
   "source": [
    "# Ex03"
   ]
  },
  {
   "cell_type": "markdown",
   "metadata": {},
   "source": [
    "## load the JSON file that you created in the previous exercise into a dataframe"
   ]
  },
  {
   "cell_type": "code",
   "execution_count": 41,
   "metadata": {},
   "outputs": [
    {
     "name": "stdout",
     "output_type": "stream",
     "text": [
      "              Refund         Fines    Make    Model\n",
      "CarNumber                                          \n",
      "Y163O8161RUS       2   3200.000000    Ford    Focus\n",
      "E432XX77RUS        1   6500.000000  Toyota    Camry\n",
      "7184TT36RUS        1   2100.000000    Ford    Focus\n",
      "X582HE161RUS       2   2000.000000    Ford    Focus\n",
      "92918M178RUS       1   5700.000000    Ford    Focus\n",
      "...              ...           ...     ...      ...\n",
      "Y163O8161RUS       2   1600.000000    Ford    Focus\n",
      "M0309X197RUS       1  22300.000000    Ford    Focus\n",
      "O673E8197RUS       2    600.000000    Ford    Focus\n",
      "8610T8154RUS       1   2000.000000    Ford    Focus\n",
      "H419XE197RUS       2   8594.586466  Toyota  Corolla\n",
      "\n",
      "[725 rows x 4 columns]\n"
     ]
    }
   ],
   "source": [
    "import pandas as pd\n",
    "df = pd.read_json('../data/auto.json')\n",
    "df.set_index('CarNumber', inplace=True)\n",
    "print(df)"
   ]
  },
  {
   "cell_type": "markdown",
   "metadata": {},
   "source": [
    "## make the following selects\n"
   ]
  },
  {
   "cell_type": "markdown",
   "metadata": {},
   "source": [
    "display the rows only where the fines are more than 2,100"
   ]
  },
  {
   "cell_type": "code",
   "execution_count": 42,
   "metadata": {},
   "outputs": [
    {
     "name": "stdout",
     "output_type": "stream",
     "text": [
      "              Refund         Fines        Make    Model\n",
      "CarNumber                                              \n",
      "Y163O8161RUS       2   3200.000000        Ford    Focus\n",
      "E432XX77RUS        1   6500.000000      Toyota    Camry\n",
      "92918M178RUS       1   5700.000000        Ford    Focus\n",
      "H234YH197RUS       2   6000.000000        Ford    Focus\n",
      "E40577152RUS       1   8594.586466        Ford    Focus\n",
      "...              ...           ...         ...      ...\n",
      "O718MM163RUS       2   8594.586466        Ford    Focus\n",
      "7065C8197RUS       2  11400.000000  Volkswagen   Passat\n",
      "O22097197RUS       1  24300.000000        Ford    Focus\n",
      "M0309X197RUS       1  22300.000000        Ford    Focus\n",
      "H419XE197RUS       2   8594.586466      Toyota  Corolla\n",
      "\n",
      "[455 rows x 4 columns]\n"
     ]
    }
   ],
   "source": [
    "print(df[df['Fines'] > 2100])"
   ]
  },
  {
   "cell_type": "markdown",
   "metadata": {},
   "source": [
    "display the rows only where the fines are more than 2,100 and the refund equals 2"
   ]
  },
  {
   "cell_type": "code",
   "execution_count": 43,
   "metadata": {},
   "outputs": [
    {
     "name": "stdout",
     "output_type": "stream",
     "text": [
      "              Refund         Fines        Make    Model\n",
      "CarNumber                                              \n",
      "Y163O8161RUS       2   3200.000000        Ford    Focus\n",
      "H234YH197RUS       2   6000.000000        Ford    Focus\n",
      "707987163RUS       2   2200.000000        Ford    Focus\n",
      "K330T8197RUS       2   8200.000000       Skoda  Octavia\n",
      "M592CH197RUS       2   8594.586466       Skoda  Octavia\n",
      "...              ...           ...         ...      ...\n",
      "O136HO197RUS       2   7800.000000      Toyota  Corolla\n",
      "O68897197RUS       2  12300.000000        Ford    Focus\n",
      "O718MM163RUS       2   8594.586466        Ford    Focus\n",
      "7065C8197RUS       2  11400.000000  Volkswagen   Passat\n",
      "H419XE197RUS       2   8594.586466      Toyota  Corolla\n",
      "\n",
      "[309 rows x 4 columns]\n"
     ]
    }
   ],
   "source": [
    "print(df[(df['Fines'] > 2100) & (df['Refund'] == 2)])"
   ]
  },
  {
   "cell_type": "markdown",
   "metadata": {},
   "source": [
    "display the rows only where the models are from the list: [’Focus’, ’Corolla’]"
   ]
  },
  {
   "cell_type": "code",
   "execution_count": 44,
   "metadata": {},
   "outputs": [
    {
     "name": "stdout",
     "output_type": "stream",
     "text": [
      "              Refund         Fines    Make    Model\n",
      "CarNumber                                          \n",
      "Y163O8161RUS       2   3200.000000    Ford    Focus\n",
      "7184TT36RUS        1   2100.000000    Ford    Focus\n",
      "X582HE161RUS       2   2000.000000    Ford    Focus\n",
      "92918M178RUS       1   5700.000000    Ford    Focus\n",
      "H234YH197RUS       2   6000.000000    Ford    Focus\n",
      "...              ...           ...     ...      ...\n",
      "Y163O8161RUS       2   1600.000000    Ford    Focus\n",
      "M0309X197RUS       1  22300.000000    Ford    Focus\n",
      "O673E8197RUS       2    600.000000    Ford    Focus\n",
      "8610T8154RUS       1   2000.000000    Ford    Focus\n",
      "H419XE197RUS       2   8594.586466  Toyota  Corolla\n",
      "\n",
      "[593 rows x 4 columns]\n"
     ]
    }
   ],
   "source": [
    "print(df[df['Model'].isin(['Focus', 'Corolla'])])"
   ]
  },
  {
   "cell_type": "markdown",
   "metadata": {},
   "source": [
    "display the rows only where the car number is from the list: [’Y7689C197RUS’, ’92928M178RUS’, ’7788KT197RUS’, ’H115YO163RUS’, ’X758HY197RUS’]"
   ]
  },
  {
   "cell_type": "code",
   "execution_count": 45,
   "metadata": {},
   "outputs": [
    {
     "name": "stdout",
     "output_type": "stream",
     "text": [
      "              Refund          Fines  Make  Model\n",
      "CarNumber                                       \n",
      "Y7689C197RUS       1   27000.000000  Ford  Focus\n",
      "Y7689C197RUS       2    9000.000000  Ford  Focus\n",
      "Y7689C197RUS       2   45000.000000  Ford  Focus\n",
      "Y7689C197RUS       1   36000.000000  Ford  Focus\n",
      "92928M178RUS       1    8594.586466  Ford  Focus\n",
      "92928M178RUS       1     600.000000  Ford  Focus\n",
      "92928M178RUS       1    1200.000000  Ford  Focus\n",
      "92928M178RUS       2    3000.000000  Ford  Focus\n",
      "7788KT197RUS       2   12000.000000  Ford  Focus\n",
      "7788KT197RUS       2    8594.586466  Ford  Focus\n",
      "7788KT197RUS       1   20000.000000  Ford  Focus\n",
      "7788KT197RUS       2    4000.000000  Ford  Focus\n",
      "H115YO163RUS       1    2200.000000  Ford  Focus\n",
      "H115YO163RUS       1    8594.586466  Ford  Focus\n",
      "H115YO163RUS       2    1100.000000  Ford  Focus\n",
      "X758HY197RUS       2   24200.000000  Ford  Focus\n",
      "X758HY197RUS       2   72600.000000  Ford  Focus\n",
      "X758HY197RUS       2  145200.000000  Ford  Focus\n"
     ]
    }
   ],
   "source": [
    "print(df.loc[['Y7689C197RUS', '92928M178RUS', '7788KT197RUS', 'H115YO163RUS', 'X758HY197RUS']])"
   ]
  },
  {
   "cell_type": "markdown",
   "metadata": {},
   "source": [
    "## make the aggregations with the make and the model"
   ]
  },
  {
   "cell_type": "markdown",
   "metadata": {},
   "source": [
    "display the median fines grouped by the make\n"
   ]
  },
  {
   "cell_type": "code",
   "execution_count": 46,
   "metadata": {},
   "outputs": [
    {
     "name": "stdout",
     "output_type": "stream",
     "text": [
      "Make\n",
      "Audi          4200.0\n",
      "BMW           6500.0\n",
      "Ford          3500.0\n",
      "Skoda         3250.0\n",
      "Toyota        7700.0\n",
      "Volkswagen    4300.0\n",
      "Volvo         8500.0\n",
      "Name: Fines, dtype: float64\n"
     ]
    }
   ],
   "source": [
    "print(df.groupby('Make')['Fines'].median())"
   ]
  },
  {
   "cell_type": "markdown",
   "metadata": {},
   "source": [
    "display the median fines grouped by the make and the model\n"
   ]
  },
  {
   "cell_type": "code",
   "execution_count": 47,
   "metadata": {},
   "outputs": [
    {
     "name": "stdout",
     "output_type": "stream",
     "text": [
      "Make        Model  \n",
      "Audi                   4200.0\n",
      "BMW                    6500.0\n",
      "Ford        Focus      3500.0\n",
      "            Mondeo     7650.0\n",
      "Skoda       Octavia    3250.0\n",
      "Toyota      Camry      7700.0\n",
      "            Corolla    7700.0\n",
      "Volkswagen             7400.0\n",
      "            Golf       4800.0\n",
      "            Jetta      2800.0\n",
      "            Passat     3500.0\n",
      "            Touareg    5800.0\n",
      "Volvo                  8500.0\n",
      "Name: Fines, dtype: float64\n"
     ]
    }
   ],
   "source": [
    "print(df.groupby(['Make', 'Model'])['Fines'].median())"
   ]
  },
  {
   "cell_type": "markdown",
   "metadata": {},
   "source": [
    "display the number of fines grouped by the make and the model in order to understand if we can trust the median values\n"
   ]
  },
  {
   "cell_type": "code",
   "execution_count": 48,
   "metadata": {},
   "outputs": [
    {
     "name": "stdout",
     "output_type": "stream",
     "text": [
      "Make        Model  \n",
      "Audi                     1\n",
      "BMW                      3\n",
      "Ford        Focus      575\n",
      "            Mondeo       6\n",
      "Skoda       Octavia     48\n",
      "Toyota      Camry       16\n",
      "            Corolla     18\n",
      "Volkswagen               3\n",
      "            Golf        20\n",
      "            Jetta        6\n",
      "            Passat      22\n",
      "            Touareg      5\n",
      "Volvo                    2\n",
      "Name: Fines, dtype: int64\n"
     ]
    }
   ],
   "source": [
    "print(df.groupby(['Make', 'Model'])['Fines'].count())"
   ]
  },
  {
   "cell_type": "markdown",
   "metadata": {},
   "source": [
    "display the minimum and the maximum fines grouped by the make and the model in order to better understand the variance\n"
   ]
  },
  {
   "cell_type": "code",
   "execution_count": 49,
   "metadata": {},
   "outputs": [
    {
     "name": "stdout",
     "output_type": "stream",
     "text": [
      "                       min            max\n",
      "Make       Model                         \n",
      "Audi                4200.0    4200.000000\n",
      "BMW                 3000.0    8594.586466\n",
      "Ford       Focus     100.0  180000.000000\n",
      "           Mondeo   1100.0   46200.000000\n",
      "Skoda      Octavia   300.0  145000.000000\n",
      "Toyota     Camry     500.0   22400.000000\n",
      "           Corolla   900.0   34300.000000\n",
      "Volkswagen          1300.0    7900.000000\n",
      "           Golf      200.0  168000.000000\n",
      "           Jetta     500.0   46000.000000\n",
      "           Passat    100.0   29700.000000\n",
      "           Touareg   500.0    8594.586466\n",
      "Volvo               6800.0   10200.000000\n"
     ]
    }
   ],
   "source": [
    "print(df.groupby(['Make', 'Model'])['Fines'].agg(['min', 'max']))"
   ]
  },
  {
   "cell_type": "markdown",
   "metadata": {},
   "source": [
    "display the standard deviation of the fines grouped by the make and the model in order to better understand the variance\n"
   ]
  },
  {
   "cell_type": "code",
   "execution_count": 50,
   "metadata": {},
   "outputs": [
    {
     "name": "stdout",
     "output_type": "stream",
     "text": [
      "Make        Model  \n",
      "Audi                            NaN\n",
      "BMW                     2826.561226\n",
      "Ford        Focus      15041.269437\n",
      "            Mondeo     18987.329108\n",
      "Skoda       Octavia    24339.742174\n",
      "Toyota      Camry       6410.250654\n",
      "            Corolla     9629.325617\n",
      "Volkswagen              3674.688195\n",
      "            Golf       36950.839950\n",
      "            Jetta      17743.026799\n",
      "            Passat      6969.739135\n",
      "            Touareg     3461.778173\n",
      "Volvo                   2404.163056\n",
      "Name: Fines, dtype: float64\n"
     ]
    }
   ],
   "source": [
    "print(df.groupby(['Make', 'Model'])['Fines'].std())"
   ]
  },
  {
   "cell_type": "markdown",
   "metadata": {},
   "source": [
    "## make the aggregations with the car number\n"
   ]
  },
  {
   "cell_type": "markdown",
   "metadata": {},
   "source": [
    "display the car numbers grouped by the number of the fines in descending order, we want to find those who most often violated the law\n"
   ]
  },
  {
   "cell_type": "code",
   "execution_count": 51,
   "metadata": {},
   "outputs": [
    {
     "name": "stdout",
     "output_type": "stream",
     "text": [
      "CarNumber\n",
      "Y7689C197RUS    4\n",
      "92928M178RUS    4\n",
      "7788KT197RUS    4\n",
      "H115YO163RUS    3\n",
      "X758HY197RUS    3\n",
      "               ..\n",
      "E42577152RUS    1\n",
      "E42377152RUS    1\n",
      "E41977152RUS    1\n",
      "E41577152RUS    1\n",
      "H917TC36RUS     1\n",
      "Name: Fines, Length: 531, dtype: int64\n"
     ]
    }
   ],
   "source": [
    "\n",
    "print(df.groupby('CarNumber')['Fines'].count().sort_values(ascending=False))"
   ]
  },
  {
   "cell_type": "markdown",
   "metadata": {},
   "source": [
    "select from the initial dataframe all the rows corresponding to the top-1 car number, we want to zoom in a little bit\n"
   ]
  },
  {
   "cell_type": "code",
   "execution_count": 55,
   "metadata": {},
   "outputs": [
    {
     "name": "stdout",
     "output_type": "stream",
     "text": [
      "              Refund    Fines  Make  Model\n",
      "CarNumber                                 \n",
      "Y7689C197RUS       1  27000.0  Ford  Focus\n",
      "Y7689C197RUS       2   9000.0  Ford  Focus\n",
      "Y7689C197RUS       2  45000.0  Ford  Focus\n",
      "Y7689C197RUS       1  36000.0  Ford  Focus\n"
     ]
    }
   ],
   "source": [
    "top_car_number = df.groupby('CarNumber').size().sort_values(ascending=False).idxmax()\n",
    "top_car = df.loc[top_car_number]\n",
    "print(top_car)"
   ]
  },
  {
   "cell_type": "markdown",
   "metadata": {},
   "source": [
    "display the car numbers grouped by the sum of the fines in descending order, we want to find those who paid the most"
   ]
  },
  {
   "cell_type": "code",
   "execution_count": 39,
   "metadata": {},
   "outputs": [
    {
     "name": "stdout",
     "output_type": "stream",
     "text": [
      "CarNumber\n",
      "X758HY197RUS    242000.0\n",
      "9020YC197RUS    217500.0\n",
      "M0279X197RUS    216000.0\n",
      "Y352O8197RUS    207200.0\n",
      "Y778EE197RUS    192000.0\n",
      "                  ...   \n",
      "83218C154RUS       100.0\n",
      "Y195O8161RUS       100.0\n",
      "K376HE161RUS       100.0\n",
      "705787163RUS       100.0\n",
      "K326T8197RUS       100.0\n",
      "Name: Fines, Length: 531, dtype: float64\n"
     ]
    }
   ],
   "source": [
    "print(df.groupby('CarNumber')['Fines'].sum().sort_values(ascending=False))"
   ]
  },
  {
   "cell_type": "markdown",
   "metadata": {},
   "source": [
    "select from the initial dataframe all the rows corresponding to the top-1 car number, we want to zoom in a little bit\n"
   ]
  },
  {
   "cell_type": "code",
   "execution_count": 56,
   "metadata": {},
   "outputs": [
    {
     "name": "stdout",
     "output_type": "stream",
     "text": [
      "              Refund     Fines  Make  Model\n",
      "CarNumber                                  \n",
      "X758HY197RUS       2   24200.0  Ford  Focus\n",
      "X758HY197RUS       2   72600.0  Ford  Focus\n",
      "X758HY197RUS       2  145200.0  Ford  Focus\n"
     ]
    }
   ],
   "source": [
    "top_car_number = df.groupby('CarNumber')['Fines'].sum().sort_values(ascending=False).idxmax()\n",
    "top_car = df.loc[top_car_number]\n",
    "print(top_car)"
   ]
  },
  {
   "cell_type": "markdown",
   "metadata": {},
   "source": [
    "display a table that answers the question: are there any car numbers that were connected to different models?"
   ]
  },
  {
   "cell_type": "code",
   "execution_count": 61,
   "metadata": {},
   "outputs": [
    {
     "name": "stdout",
     "output_type": "stream",
     "text": [
      "CarNumber\n",
      "E316EH197RUS    2\n",
      "Name: Model, dtype: int64\n"
     ]
    }
   ],
   "source": [
    "car_models = df.groupby('CarNumber')['Model'].nunique()\n",
    "\n",
    "multiple_models = car_models[car_models > 1]\n",
    "\n",
    "print(multiple_models)"
   ]
  }
 ],
 "metadata": {
  "kernelspec": {
   "display_name": "Python 3",
   "language": "python",
   "name": "python3"
  },
  "language_info": {
   "codemirror_mode": {
    "name": "ipython",
    "version": 3
   },
   "file_extension": ".py",
   "mimetype": "text/x-python",
   "name": "python",
   "nbconvert_exporter": "python",
   "pygments_lexer": "ipython3",
   "version": "3.12.6"
  }
 },
 "nbformat": 4,
 "nbformat_minor": 2
}
