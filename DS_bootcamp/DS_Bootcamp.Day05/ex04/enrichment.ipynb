{
 "cells": [
  {
   "cell_type": "markdown",
   "metadata": {},
   "source": [
    "# Ex04"
   ]
  },
  {
   "cell_type": "markdown",
   "metadata": {},
   "source": [
    "## read the JSON file that you saved in ex02"
   ]
  },
  {
   "cell_type": "code",
   "execution_count": 3,
   "metadata": {},
   "outputs": [
    {
     "name": "stdout",
     "output_type": "stream",
     "text": [
      "        CarNumber  Refund    Fines    Make    Model\n",
      "0    Y163O8161RUS       2  3200.00    Ford    Focus\n",
      "1     E432XX77RUS       1  6500.00  Toyota    Camry\n",
      "2     7184TT36RUS       1  2100.00    Ford    Focus\n",
      "3    X582HE161RUS       2  2000.00    Ford    Focus\n",
      "5    92918M178RUS       1  5700.00    Ford    Focus\n",
      "..            ...     ...      ...     ...      ...\n",
      "926  Y163O8161RUS       2  1600.00    Ford    Focus\n",
      "927  M0309X197RUS       1 22300.00    Ford    Focus\n",
      "928  O673E8197RUS       2   600.00    Ford    Focus\n",
      "929  8610T8154RUS       1  2000.00    Ford    Focus\n",
      "930  H419XE197RUS       2  8594.59  Toyota  Corolla\n",
      "\n",
      "[725 rows x 5 columns]\n"
     ]
    }
   ],
   "source": [
    "import pandas as pd\n",
    "df = pd.read_json('../data/auto.json')\n",
    "pd.options.display.float_format = '{:.2f}'.format\n",
    "print(df)"
   ]
  },
  {
   "cell_type": "markdown",
   "metadata": {},
   "source": [
    "## enrich the dataframe using a sample from that dataframe"
   ]
  },
  {
   "cell_type": "markdown",
   "metadata": {},
   "source": [
    "create a sample with 200 new observation with random_state = 21"
   ]
  },
  {
   "cell_type": "code",
   "execution_count": 4,
   "metadata": {},
   "outputs": [
    {
     "name": "stdout",
     "output_type": "stream",
     "text": [
      "        CarNumber  Refund    Fines        Make   Model\n",
      "0    M0299X197RUS       2  3000.00        Ford   Focus\n",
      "1    83298C154RUS       1  3000.00        Ford   Focus\n",
      "2    H957HY161RUS       1  7100.00        Ford   Focus\n",
      "3     T941CC96RUS       1  2000.00        Ford   Focus\n",
      "4    H966HY161RUS       2  4500.00        Ford   Focus\n",
      "..            ...     ...      ...         ...     ...\n",
      "195  8182XX154RUS       1  1000.00        Ford   Focus\n",
      "196   X796TH96RUS       2  4500.00        Ford   Focus\n",
      "197  T011MY163RUS       2 34800.00        Ford   Focus\n",
      "198   T341CC96RUS       1   400.00  Volkswagen  Passat\n",
      "199   T119CT96RUS       1  2400.00        Ford   Focus\n",
      "\n",
      "[200 rows x 5 columns]\n"
     ]
    }
   ],
   "source": [
    "import numpy as np\n",
    "sampled_df = df.sample(n=200, random_state=21)\n",
    "unique_combinations = df[['CarNumber', 'Make', 'Model']].drop_duplicates()\n",
    "sampled_df = sampled_df.merge(unique_combinations, on=['CarNumber', 'Make', 'Model'], how='inner')\n",
    "sampled_df['Refund'] = np.random.choice(df['Refund'], size=len(sampled_df))\n",
    "sampled_df['Fines'] = np.random.choice(df['Fines'], size=len(sampled_df))\n",
    "print(sampled_df)"
   ]
  },
  {
   "cell_type": "markdown",
   "metadata": {},
   "source": [
    "concatenate the sample with the initial dataframe to a new dataframe con-cat_rows"
   ]
  },
  {
   "cell_type": "code",
   "execution_count": 5,
   "metadata": {},
   "outputs": [
    {
     "name": "stdout",
     "output_type": "stream",
     "text": [
      "        CarNumber  Refund    Fines        Make   Model\n",
      "0    Y163O8161RUS       2  3200.00        Ford   Focus\n",
      "1     E432XX77RUS       1  6500.00      Toyota   Camry\n",
      "2     7184TT36RUS       1  2100.00        Ford   Focus\n",
      "3    X582HE161RUS       2  2000.00        Ford   Focus\n",
      "5    92918M178RUS       1  5700.00        Ford   Focus\n",
      "..            ...     ...      ...         ...     ...\n",
      "195  8182XX154RUS       1  1000.00        Ford   Focus\n",
      "196   X796TH96RUS       2  4500.00        Ford   Focus\n",
      "197  T011MY163RUS       2 34800.00        Ford   Focus\n",
      "198   T341CC96RUS       1   400.00  Volkswagen  Passat\n",
      "199   T119CT96RUS       1  2400.00        Ford   Focus\n",
      "\n",
      "[925 rows x 5 columns]\n"
     ]
    }
   ],
   "source": [
    "concat_rows = pd.concat([df, sampled_df])\n",
    "\n",
    "print(concat_rows)"
   ]
  },
  {
   "cell_type": "markdown",
   "metadata": {},
   "source": [
    "## enrich the dataframe concat_rows by a new column with the data generated"
   ]
  },
  {
   "cell_type": "markdown",
   "metadata": {},
   "source": [
    "create a series with the name Year using random integers from 1980 to 2019\n",
    "use np.random.seed(21) before generating the years\n",
    "concatenate the series with the dataframe and name it fines"
   ]
  },
  {
   "cell_type": "code",
   "execution_count": 6,
   "metadata": {},
   "outputs": [
    {
     "name": "stdout",
     "output_type": "stream",
     "text": [
      "        CarNumber  Refund    Fines        Make   Model  Year\n",
      "0    Y163O8161RUS       2  3200.00        Ford   Focus  1989\n",
      "1     E432XX77RUS       1  6500.00      Toyota   Camry  1995\n",
      "2     7184TT36RUS       1  2100.00        Ford   Focus  1984\n",
      "3    X582HE161RUS       2  2000.00        Ford   Focus  2015\n",
      "4    92918M178RUS       1  5700.00        Ford   Focus  2014\n",
      "..            ...     ...      ...         ...     ...   ...\n",
      "920  8182XX154RUS       1  1000.00        Ford   Focus  1996\n",
      "921   X796TH96RUS       2  4500.00        Ford   Focus  2002\n",
      "922  T011MY163RUS       2 34800.00        Ford   Focus  1996\n",
      "923   T341CC96RUS       1   400.00  Volkswagen  Passat  2012\n",
      "924   T119CT96RUS       1  2400.00        Ford   Focus  1984\n",
      "\n",
      "[925 rows x 6 columns]\n"
     ]
    }
   ],
   "source": [
    "np.random.seed(21)\n",
    "Year = pd.Series(np.random.randint(1980, 2019, size = 925), name = 'Year')\n",
    "concat_rows.reset_index(drop=True, inplace=True)\n",
    "fines = pd.concat([concat_rows, Year], axis=1)\n",
    "print(fines)"
   ]
  },
  {
   "cell_type": "markdown",
   "metadata": {},
   "source": [
    "## enrich the dataframe with the data from another dataframe"
   ]
  },
  {
   "cell_type": "markdown",
   "metadata": {},
   "source": [
    "Create a new dataframe with the car numbers and their owners"
   ]
  },
  {
   "cell_type": "code",
   "execution_count": 7,
   "metadata": {},
   "outputs": [
    {
     "name": "stdout",
     "output_type": "stream",
     "text": [
      "        NAME    COUNT  RANK\n",
      "84     SMITH  2442977     1\n",
      "40   JOHNSON  1932812     2\n",
      "95  WILLIAMS  1625252     3\n",
      "8      BROWN  1437026     4\n",
      "41     JONES  1425470     5\n",
      "..       ...      ...   ...\n",
      "59     MYERS   229895    96\n",
      "47      LONG   229374    97\n",
      "79      ROSS   229368    98\n",
      "24    FOSTER   227764    99\n",
      "39   JIMENEZ   227118   100\n",
      "\n",
      "[100 rows x 3 columns]\n"
     ]
    }
   ],
   "source": [
    "surnames = pd.read_json('../../datasets/surname.json', )\n",
    "surnames.columns = ['NAME', 'COUNT', 'RANK']\n",
    "surnames = surnames.drop(0).reset_index(drop=True)\n",
    "surnames['RANK'] = surnames['RANK'].astype(int)\n",
    "surnames = surnames.sort_values(by='RANK')\n",
    "print(surnames)"
   ]
  },
  {
   "cell_type": "code",
   "execution_count": 8,
   "metadata": {},
   "outputs": [
    {
     "name": "stdout",
     "output_type": "stream",
     "text": [
      "0           KELLY\n",
      "1      RICHARDSON\n",
      "2            CRUZ\n",
      "3           JONES\n",
      "4          CARTER\n",
      "          ...    \n",
      "526      MARTINEZ\n",
      "527         YOUNG\n",
      "528        GARCIA\n",
      "529           LEE\n",
      "530          CRUZ\n",
      "Name: Surname, Length: 531, dtype: object\n"
     ]
    }
   ],
   "source": [
    "np.random.seed(21)\n",
    "unique_car_count = fines['CarNumber'].nunique()\n",
    "sampled_surnames = surnames['NAME'].sample(n=unique_car_count, replace = True,random_state=21)\n",
    "surname_series = pd.Series(sampled_surnames.values, name='Surname')\n",
    "print(surname_series)"
   ]
  },
  {
   "cell_type": "code",
   "execution_count": 9,
   "metadata": {},
   "outputs": [
    {
     "name": "stdout",
     "output_type": "stream",
     "text": [
      "        CarNumber     SURNAME\n",
      "0    Y163O8161RUS       KELLY\n",
      "1     E432XX77RUS  RICHARDSON\n",
      "2     7184TT36RUS        CRUZ\n",
      "3    X582HE161RUS       JONES\n",
      "4    92918M178RUS      CARTER\n",
      "..            ...         ...\n",
      "526  O136HO197RUS    MARTINEZ\n",
      "527  O22097197RUS       YOUNG\n",
      "528  M0309X197RUS      GARCIA\n",
      "529  O673E8197RUS         LEE\n",
      "530  8610T8154RUS        CRUZ\n",
      "\n",
      "[531 rows x 2 columns]\n"
     ]
    }
   ],
   "source": [
    "owners = pd.DataFrame({\n",
    "    'CarNumber': fines['CarNumber'].unique(),\n",
    "    'SURNAME' : sampled_surnames.values\n",
    "})\n",
    "print(owners)"
   ]
  },
  {
   "cell_type": "markdown",
   "metadata": {},
   "source": [
    "append 5 more observations to the fines dataframe (come up with your own ideas of CarNumber, etc.)"
   ]
  },
  {
   "cell_type": "code",
   "execution_count": 11,
   "metadata": {},
   "outputs": [
    {
     "name": "stdout",
     "output_type": "stream",
     "text": [
      "        CarNumber  Refund   Fines        Make   Model  Year\n",
      "0    Y163O8161RUS       2 3200.00        Ford   Focus  1989\n",
      "1     E432XX77RUS       1 6500.00      Toyota   Camry  1995\n",
      "2     7184TT36RUS       1 2100.00        Ford   Focus  1984\n",
      "3    X582HE161RUS       2 2000.00        Ford   Focus  2015\n",
      "4    92918M178RUS       1 5700.00        Ford   Focus  2014\n",
      "..            ...     ...     ...         ...     ...   ...\n",
      "925  0937I9348RUS       2 2560.00        Ford   Focus  2003\n",
      "926  8373X9382RUS       1 3410.00      Toyota  Camery  1999\n",
      "927  9723R3209RUS       2 3020.00  Volkswagen  Passat  2015\n",
      "928  7774L8473RUS       1 2850.00        Ford   Focus  1985\n",
      "929  7848R8329RUS       1 3800.00       Skoda    Golf  2000\n",
      "\n",
      "[930 rows x 6 columns]\n"
     ]
    }
   ],
   "source": [
    "additional_fines = pd.DataFrame({\n",
    "    'CarNumber' : ['0937I9348RUS', '8373X9382RUS', '9723R3209RUS', '7774L8473RUS','7848R8329RUS'],\n",
    "    'Refund' : [2,1,2,1,1],\n",
    "    'Fines' : [2560, 3410, 3020, 2850, 3800],\n",
    "    'Make' : ['Ford', 'Toyota', 'Volkswagen', 'Ford', 'Skoda'],\n",
    "    'Model' : ['Focus', 'Camery', 'Passat', 'Focus', 'Golf'],\n",
    "    'Year' : [2003, 1999, 2015, 1985, 2000]\n",
    "})\n",
    "\n",
    "fines = pd.concat([fines, additional_fines], ignore_index=True)\n",
    "print(fines)"
   ]
  },
  {
   "cell_type": "markdown",
   "metadata": {},
   "source": [
    "delete the dataframe last 20 observations from the owners and add 3 new observations (they are not the same as those you add to the fines dataframe)"
   ]
  },
  {
   "cell_type": "code",
   "execution_count": 12,
   "metadata": {},
   "outputs": [
    {
     "name": "stdout",
     "output_type": "stream",
     "text": [
      "        CarNumber     SURNAME\n",
      "0    Y163O8161RUS       KELLY\n",
      "1     E432XX77RUS  RICHARDSON\n",
      "2     7184TT36RUS        CRUZ\n",
      "3    X582HE161RUS       JONES\n",
      "4    92918M178RUS      CARTER\n",
      "..            ...         ...\n",
      "509  O50197197RUS      FOSTER\n",
      "510  7608EE777RUS      WRIGHT\n",
      "511  9840R7289RUS       POPOV\n",
      "512  8492Y3764RUS        MARE\n",
      "513  3846X3790RUS        LULU\n",
      "\n",
      "[514 rows x 2 columns]\n"
     ]
    }
   ],
   "source": [
    "owners = owners.iloc[:-20]\n",
    "add_owners = pd.DataFrame({\n",
    "    'CarNumber' : [ '9840R7289RUS', '8492Y3764RUS', '3846X3790RUS'],\n",
    "    'SURNAME' : ['POPOV', 'MARE', 'LULU']\n",
    "})\n",
    "owners = pd.concat([owners, add_owners], ignore_index=True)\n",
    "print(owners)"
   ]
  },
  {
   "cell_type": "markdown",
   "metadata": {},
   "source": [
    "join both dataframes"
   ]
  },
  {
   "cell_type": "code",
   "execution_count": 14,
   "metadata": {},
   "outputs": [
    {
     "name": "stdout",
     "output_type": "stream",
     "text": [
      "        CarNumber  Refund    Fines        Make   Model  Year     SURNAME\n",
      "0    Y163O8161RUS       2  3200.00        Ford   Focus  1989       KELLY\n",
      "1     E432XX77RUS       1  6500.00      Toyota   Camry  1995  RICHARDSON\n",
      "2     7184TT36RUS       1  2100.00        Ford   Focus  1984        CRUZ\n",
      "3    X582HE161RUS       2  2000.00        Ford   Focus  2015       JONES\n",
      "4    92918M178RUS       1  5700.00        Ford   Focus  2014      CARTER\n",
      "..            ...     ...      ...         ...     ...   ...         ...\n",
      "894  8182XX154RUS       1  1000.00        Ford   Focus  1996       JAMES\n",
      "895   X796TH96RUS       2  4500.00        Ford   Focus  2002     SANDERS\n",
      "896  T011MY163RUS       2 34800.00        Ford   Focus  1996      CHAVEZ\n",
      "897   T341CC96RUS       1   400.00  Volkswagen  Passat  2012      ROGERS\n",
      "898   T119CT96RUS       1  2400.00        Ford   Focus  1984      WATSON\n",
      "\n",
      "[899 rows x 7 columns]\n",
      "        CarNumber  Refund    Fines  Make  Model    Year  SURNAME\n",
      "0    0937I9348RUS    2.00  2560.00  Ford  Focus 2003.00      NaN\n",
      "1    3846X3790RUS     NaN      NaN   NaN    NaN     NaN     LULU\n",
      "2    704687163RUS    2.00  1400.00  Ford  Focus 2014.00    SMITH\n",
      "3    704787163RUS    2.00  2800.00  Ford  Focus 2005.00     CRUZ\n",
      "4    704987163RUS    2.00  8594.59  Ford  Focus 2014.00   TURNER\n",
      "..            ...     ...      ...   ...    ...     ...      ...\n",
      "928  Y973O8197RUS    2.00  8594.59  Ford  Focus 2005.00  JIMENEZ\n",
      "929  Y973O8197RUS    1.00 34800.00  Ford  Focus 2013.00  JIMENEZ\n",
      "930  Y973O8197RUS    1.00 69600.00  Ford  Focus 1989.00  JIMENEZ\n",
      "931  Y973O8197RUS    1.00  2000.00  Ford  Focus 2009.00  JIMENEZ\n",
      "932  Y973O8197RUS    2.00  9600.00  Ford  Focus 2014.00  JIMENEZ\n",
      "\n",
      "[933 rows x 7 columns]\n",
      "        CarNumber  Refund   Fines        Make   Model  Year     SURNAME\n",
      "0    Y163O8161RUS       2 3200.00        Ford   Focus  1989       KELLY\n",
      "1     E432XX77RUS       1 6500.00      Toyota   Camry  1995  RICHARDSON\n",
      "2     7184TT36RUS       1 2100.00        Ford   Focus  1984        CRUZ\n",
      "3    X582HE161RUS       2 2000.00        Ford   Focus  2015       JONES\n",
      "4    92918M178RUS       1 5700.00        Ford   Focus  2014      CARTER\n",
      "..            ...     ...     ...         ...     ...   ...         ...\n",
      "925  0937I9348RUS       2 2560.00        Ford   Focus  2003         NaN\n",
      "926  8373X9382RUS       1 3410.00      Toyota  Camery  1999         NaN\n",
      "927  9723R3209RUS       2 3020.00  Volkswagen  Passat  2015         NaN\n",
      "928  7774L8473RUS       1 2850.00        Ford   Focus  1985         NaN\n",
      "929  7848R8329RUS       1 3800.00       Skoda    Golf  2000         NaN\n",
      "\n",
      "[930 rows x 7 columns]\n",
      "        CarNumber  Refund    Fines    Make    Model    Year     SURNAME\n",
      "0    Y163O8161RUS    2.00  3200.00    Ford    Focus 1989.00       KELLY\n",
      "1    Y163O8161RUS    2.00  1600.00    Ford    Focus 1999.00       KELLY\n",
      "2     E432XX77RUS    1.00  6500.00  Toyota    Camry 1995.00  RICHARDSON\n",
      "3     E432XX77RUS    2.00 13000.00  Toyota    Camry 1992.00  RICHARDSON\n",
      "4     7184TT36RUS    1.00  2100.00    Ford    Focus 1984.00        CRUZ\n",
      "..            ...     ...      ...     ...      ...     ...         ...\n",
      "897  7608EE777RUS    1.00  4000.00   Skoda  Octavia 2013.00      WRIGHT\n",
      "898  7608EE777RUS    2.00  4300.00   Skoda  Octavia 1987.00      WRIGHT\n",
      "899  9840R7289RUS     NaN      NaN     NaN      NaN     NaN       POPOV\n",
      "900  8492Y3764RUS     NaN      NaN     NaN      NaN     NaN        MARE\n",
      "901  3846X3790RUS     NaN      NaN     NaN      NaN     NaN        LULU\n",
      "\n",
      "[902 rows x 7 columns]\n"
     ]
    }
   ],
   "source": [
    "both_carnum = pd.merge(fines, owners, how='inner', on='CarNumber')\n",
    "print(both_carnum)\n",
    "all_carnum = pd.merge(fines, owners, how='outer', on='CarNumber')\n",
    "print(all_carnum)\n",
    "fines_carnum = pd.merge(fines, owners, how='left', on='CarNumber')\n",
    "print(fines_carnum)\n",
    "owners_carnum = pd.merge(fines, owners, how='right', on='CarNumber')\n",
    "print(owners_carnum)"
   ]
  },
  {
   "cell_type": "markdown",
   "metadata": {},
   "source": [
    "## create a pivot table from the fines dataframe, it should look like this (the values are the sums of the fines), but with all the years (the values may be different for you)"
   ]
  },
  {
   "cell_type": "code",
   "execution_count": 20,
   "metadata": {},
   "outputs": [
    {
     "name": "stdout",
     "output_type": "stream",
     "text": [
      "Year                    1980      1981      1982      1983      1984  \\\n",
      "Make       Model                                                       \n",
      "Audi                     NaN       NaN       NaN       NaN       NaN   \n",
      "BMW                      NaN       NaN       NaN       NaN       NaN   \n",
      "Ford       Focus   102400.00 263294.59 153200.00 157894.59 115000.00   \n",
      "           Mondeo        NaN       NaN  46200.00       NaN       NaN   \n",
      "Skoda      Golf          NaN       NaN       NaN       NaN       NaN   \n",
      "           Octavia   9694.59   1900.00   8894.59       NaN   9900.00   \n",
      "Toyota     Camery        NaN       NaN       NaN       NaN       NaN   \n",
      "           Camry    12000.00       NaN    600.00    100.00   1000.00   \n",
      "           Corolla       NaN   6800.00       NaN  12800.00       NaN   \n",
      "Volkswagen           1300.00   7900.00       NaN       NaN       NaN   \n",
      "           Golf     20800.00   8594.59   5000.00    200.00       NaN   \n",
      "           Jetta         NaN   1000.00       NaN       NaN       NaN   \n",
      "           Passat     900.00  10500.00       NaN   1100.00   8594.59   \n",
      "           Touareg       NaN       NaN       NaN       NaN       NaN   \n",
      "Volvo                    NaN       NaN       NaN       NaN       NaN   \n",
      "\n",
      "Year                    1985     1986      1987     1988      1989  ...  \\\n",
      "Make       Model                                                    ...   \n",
      "Audi                     NaN      NaN       NaN      NaN       NaN  ...   \n",
      "BMW                      NaN      NaN       NaN      NaN       NaN  ...   \n",
      "Ford       Focus   261444.59 60700.00 100594.59 89172.93 175389.17  ...   \n",
      "           Mondeo        NaN      NaN       NaN      NaN       NaN  ...   \n",
      "Skoda      Golf          NaN      NaN       NaN      NaN       NaN  ...   \n",
      "           Octavia   9094.59      NaN   6300.00  5100.00   8594.59  ...   \n",
      "Toyota     Camery        NaN      NaN       NaN      NaN       NaN  ...   \n",
      "           Camry         NaN 19800.00       NaN      NaN    800.00  ...   \n",
      "           Corolla  37500.00      NaN  54300.00      NaN   7800.00  ...   \n",
      "Volkswagen               NaN  7400.00       NaN      NaN       NaN  ...   \n",
      "           Golf    168000.00      NaN   5700.00      NaN    300.00  ...   \n",
      "           Jetta     9000.00      NaN       NaN 46000.00   5500.00  ...   \n",
      "           Passat        NaN 16000.00   2000.00  8594.59       NaN  ...   \n",
      "           Touareg       NaN      NaN       NaN      NaN       NaN  ...   \n",
      "Volvo                    NaN      NaN       NaN      NaN       NaN  ...   \n",
      "\n",
      "Year                    2009      2010      2011      2012      2013  \\\n",
      "Make       Model                                                       \n",
      "Audi                     NaN       NaN       NaN       NaN       NaN   \n",
      "BMW                      NaN       NaN   8594.59       NaN       NaN   \n",
      "Ford       Focus   114094.59 124600.00 117494.59 142683.76 288678.35   \n",
      "           Mondeo        NaN       NaN       NaN       NaN  41100.00   \n",
      "Skoda      Golf          NaN       NaN       NaN       NaN       NaN   \n",
      "           Octavia       NaN  37300.00   3000.00   1700.00  11800.00   \n",
      "Toyota     Camery        NaN       NaN       NaN       NaN       NaN   \n",
      "           Camry         NaN  22400.00       NaN   7500.00       NaN   \n",
      "           Corolla   8594.59   6000.00   1000.00       NaN       NaN   \n",
      "Volkswagen               NaN       NaN       NaN       NaN       NaN   \n",
      "           Golf          NaN       NaN       NaN       NaN       NaN   \n",
      "           Jetta         NaN       NaN       NaN       NaN       NaN   \n",
      "           Passat    8594.59   9500.00       NaN    400.00   1600.00   \n",
      "           Touareg   5800.00       NaN       NaN       NaN       NaN   \n",
      "Volvo                6800.00       NaN       NaN       NaN       NaN   \n",
      "\n",
      "Year                    2014      2015      2016      2017      2018  \n",
      "Make       Model                                                      \n",
      "Audi                     NaN       NaN       NaN       NaN       NaN  \n",
      "BMW                      NaN       NaN  12300.00       NaN       NaN  \n",
      "Ford       Focus   106878.35 186200.00 110189.17 109500.00 151600.00  \n",
      "           Mondeo        NaN       NaN       NaN   8600.00       NaN  \n",
      "Skoda      Golf          NaN       NaN       NaN       NaN       NaN  \n",
      "           Octavia   4600.00  16394.59  35700.00   2400.00 153200.00  \n",
      "Toyota     Camery        NaN       NaN       NaN       NaN       NaN  \n",
      "           Camry         NaN       NaN   1100.00       NaN       NaN  \n",
      "           Corolla       NaN   2100.00       NaN   7000.00       NaN  \n",
      "Volkswagen               NaN       NaN       NaN       NaN       NaN  \n",
      "           Golf     13900.00  15300.00       NaN       NaN   2200.00  \n",
      "           Jetta         NaN       NaN       NaN       NaN       NaN  \n",
      "           Passat    2500.00   3020.00       NaN       NaN       NaN  \n",
      "           Touareg       NaN       NaN       NaN       NaN       NaN  \n",
      "Volvo                    NaN  10200.00       NaN       NaN       NaN  \n",
      "\n",
      "[15 rows x 39 columns]\n"
     ]
    }
   ],
   "source": [
    "pivot_table = fines.pivot_table(\n",
    "    values='Fines',\n",
    "    index=['Make', 'Model'],\n",
    "    columns='Year',\n",
    "    aggfunc='sum'\n",
    ")\n",
    "print(pivot_table)"
   ]
  },
  {
   "cell_type": "markdown",
   "metadata": {},
   "source": [
    "## save both the fines and owners dataframes to CSV files without an index"
   ]
  },
  {
   "cell_type": "code",
   "execution_count": 22,
   "metadata": {},
   "outputs": [],
   "source": [
    "fines.to_csv('../data/fines.csv', index=False)\n",
    "owners.to_csv('../data/owners.csv', index=False)"
   ]
  }
 ],
 "metadata": {
  "kernelspec": {
   "display_name": "Python 3",
   "language": "python",
   "name": "python3"
  },
  "language_info": {
   "codemirror_mode": {
    "name": "ipython",
    "version": 3
   },
   "file_extension": ".py",
   "mimetype": "text/x-python",
   "name": "python",
   "nbconvert_exporter": "python",
   "pygments_lexer": "ipython3",
   "version": "3.13.0"
  }
 },
 "nbformat": 4,
 "nbformat_minor": 2
}
