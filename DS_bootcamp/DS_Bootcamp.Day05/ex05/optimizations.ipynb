{
 "cells": [
  {
   "cell_type": "markdown",
   "metadata": {},
   "source": [
    "# Ex05"
   ]
  },
  {
   "cell_type": "markdown",
   "metadata": {},
   "source": [
    "## read the fines.csv that you saved in the previous exercise"
   ]
  },
  {
   "cell_type": "code",
   "execution_count": 24,
   "metadata": {},
   "outputs": [
    {
     "name": "stdout",
     "output_type": "stream",
     "text": [
      "        CarNumber  Refund   Fines        Make   Model  Year\n",
      "0    Y163O8161RUS       2  3200.0        Ford   Focus  1989\n",
      "1     E432XX77RUS       1  6500.0      Toyota   Camry  1995\n",
      "2     7184TT36RUS       1  2100.0        Ford   Focus  1984\n",
      "3    X582HE161RUS       2  2000.0        Ford   Focus  2015\n",
      "4    92918M178RUS       1  5700.0        Ford   Focus  2014\n",
      "..            ...     ...     ...         ...     ...   ...\n",
      "925  0937I9348RUS       2  2560.0        Ford   Focus  2003\n",
      "926  8373X9382RUS       1  3410.0      Toyota  Camery  1999\n",
      "927  9723R3209RUS       2  3020.0  Volkswagen  Passat  2015\n",
      "928  7774L8473RUS       1  2850.0        Ford   Focus  1985\n",
      "929  7848R8329RUS       1  3800.0       Skoda    Golf  2000\n",
      "\n",
      "[930 rows x 6 columns]\n"
     ]
    }
   ],
   "source": [
    "import pandas as pd\n",
    "fines = pd.read_csv('../data/fines.csv')\n",
    "print(fines)"
   ]
  },
  {
   "cell_type": "markdown",
   "metadata": {},
   "source": [
    "## iterations: in all the following subtasks, you need to calculate fines/refund*year for each row and create a new column with the calculated data and measure the time using the magic command %%timeit in the cell"
   ]
  },
  {
   "cell_type": "markdown",
   "metadata": {},
   "source": [
    "loop: write a function that iterates through the dataframe using for i in range(0, len(df)), iloc and append() to a list, assign the result of the func- tion to a new column in the dataframe"
   ]
  },
  {
   "cell_type": "code",
   "execution_count": 25,
   "metadata": {},
   "outputs": [
    {
     "name": "stdout",
     "output_type": "stream",
     "text": [
      "8.63 ms ± 293 μs per loop (mean ± std. dev. of 7 runs, 100 loops each)\n"
     ]
    }
   ],
   "source": [
    "%%timeit\n",
    "def loopfunc(df):\n",
    "    calc = []\n",
    "    for i in range(0, len(df)):\n",
    "        calc.append(df['Fines'].iloc[i]/df['Refund'].iloc[i]*df['Year'].iloc[i])\n",
    "    df['calc'] = calc\n",
    "\n",
    "loopfunc(fines)"
   ]
  },
  {
   "cell_type": "markdown",
   "metadata": {},
   "source": [
    "do it using iterrows()"
   ]
  },
  {
   "cell_type": "code",
   "execution_count": 26,
   "metadata": {},
   "outputs": [
    {
     "name": "stdout",
     "output_type": "stream",
     "text": [
      "14.9 ms ± 932 μs per loop (mean ± std. dev. of 7 runs, 100 loops each)\n"
     ]
    }
   ],
   "source": [
    "%%timeit\n",
    "def func(df):\n",
    "    calc = []\n",
    "    for index, row in df.iterrows():\n",
    "        calc.append(row['Fines'] / row['Refund'] * row['Year'])\n",
    "    df['calc'] = calc\n",
    "\n",
    "func(fines)"
   ]
  },
  {
   "cell_type": "markdown",
   "metadata": {},
   "source": [
    "do it using apply() and lambda function"
   ]
  },
  {
   "cell_type": "code",
   "execution_count": 27,
   "metadata": {},
   "outputs": [
    {
     "name": "stdout",
     "output_type": "stream",
     "text": [
      "4.03 ms ± 115 μs per loop (mean ± std. dev. of 7 runs, 100 loops each)\n"
     ]
    }
   ],
   "source": [
    "%%timeit\n",
    "def func(df):\n",
    "    return df.apply(lambda row: row['Fines'] / row['Refund'] * row['Year'], axis=1)\n",
    "\n",
    "fines['calc'] = func(fines)"
   ]
  },
  {
   "cell_type": "markdown",
   "metadata": {},
   "source": [
    "do it using Series objects from the dataframe"
   ]
  },
  {
   "cell_type": "code",
   "execution_count": 28,
   "metadata": {},
   "outputs": [
    {
     "name": "stdout",
     "output_type": "stream",
     "text": [
      "101 μs ± 1.75 μs per loop (mean ± std. dev. of 7 runs, 10,000 loops each)\n"
     ]
    }
   ],
   "source": [
    "%%timeit\n",
    "def func(df):\n",
    "    return df['Fines'] / df['Refund'] * df['Year']\n",
    "\n",
    "fines['calc'] = func(fines)"
   ]
  },
  {
   "cell_type": "markdown",
   "metadata": {},
   "source": [
    "do it as in the previous subtask but with the method .values"
   ]
  },
  {
   "cell_type": "code",
   "execution_count": 29,
   "metadata": {},
   "outputs": [
    {
     "name": "stdout",
     "output_type": "stream",
     "text": [
      "41.8 μs ± 1.39 μs per loop (mean ± std. dev. of 7 runs, 10,000 loops each)\n"
     ]
    }
   ],
   "source": [
    "%%timeit\n",
    "def func(df):\n",
    "    return df['Fines'].values / df['Refund'].values * df['Year'].values\n",
    "\n",
    "fines['calc'] = func(fines)"
   ]
  },
  {
   "cell_type": "markdown",
   "metadata": {},
   "source": [
    "## indexing: measure the time using the magic command %%timeit in the cell"
   ]
  },
  {
   "cell_type": "markdown",
   "metadata": {},
   "source": [
    "get a row for a specific CarNumber, for example, ’O136HO197RUS’\n"
   ]
  },
  {
   "cell_type": "code",
   "execution_count": 30,
   "metadata": {},
   "outputs": [
    {
     "name": "stdout",
     "output_type": "stream",
     "text": [
      "142 μs ± 3.6 μs per loop (mean ± std. dev. of 7 runs, 10,000 loops each)\n"
     ]
    }
   ],
   "source": [
    "%%timeit\n",
    "car_row = fines[fines['CarNumber'] == 'O136HO197RUS']"
   ]
  },
  {
   "cell_type": "markdown",
   "metadata": {},
   "source": [
    "set the index in your dataframe with CarNumber\n"
   ]
  },
  {
   "cell_type": "code",
   "execution_count": 31,
   "metadata": {},
   "outputs": [],
   "source": [
    "fines.set_index('CarNumber', inplace=True)"
   ]
  },
  {
   "cell_type": "markdown",
   "metadata": {},
   "source": [
    "again, get a row for the same CarNumber"
   ]
  },
  {
   "cell_type": "code",
   "execution_count": 32,
   "metadata": {},
   "outputs": [
    {
     "name": "stdout",
     "output_type": "stream",
     "text": [
      "67.5 μs ± 5.65 μs per loop (mean ± std. dev. of 7 runs, 10,000 loops each)\n"
     ]
    }
   ],
   "source": [
    "%%timeit\n",
    "index_car_row = fines.loc['O136HO197RUS']"
   ]
  },
  {
   "cell_type": "markdown",
   "metadata": {},
   "source": [
    "## downcasting"
   ]
  },
  {
   "cell_type": "markdown",
   "metadata": {},
   "source": [
    "run df.info(memory_usage=’deep’), pay attention to the Dtype and the memory usage"
   ]
  },
  {
   "cell_type": "code",
   "execution_count": 33,
   "metadata": {},
   "outputs": [
    {
     "name": "stdout",
     "output_type": "stream",
     "text": [
      "<class 'pandas.core.frame.DataFrame'>\n",
      "Index: 930 entries, Y163O8161RUS to 7848R8329RUS\n",
      "Data columns (total 6 columns):\n",
      " #   Column  Non-Null Count  Dtype  \n",
      "---  ------  --------------  -----  \n",
      " 0   Refund  930 non-null    int64  \n",
      " 1   Fines   930 non-null    float64\n",
      " 2   Make    930 non-null    object \n",
      " 3   Model   919 non-null    object \n",
      " 4   Year    930 non-null    int64  \n",
      " 5   calc    930 non-null    float64\n",
      "dtypes: float64(2), int64(2), object(2)\n",
      "memory usage: 214.3 KB\n"
     ]
    }
   ],
   "source": [
    "fines.info(memory_usage='deep')"
   ]
  },
  {
   "cell_type": "markdown",
   "metadata": {},
   "source": [
    "make a copy() of your initial dataframe into another dataframe optimized"
   ]
  },
  {
   "cell_type": "code",
   "execution_count": 34,
   "metadata": {},
   "outputs": [
    {
     "name": "stdout",
     "output_type": "stream",
     "text": [
      "<class 'pandas.core.frame.DataFrame'>\n",
      "Index: 930 entries, Y163O8161RUS to 7848R8329RUS\n",
      "Data columns (total 6 columns):\n",
      " #   Column  Non-Null Count  Dtype   \n",
      "---  ------  --------------  -----   \n",
      " 0   Refund  930 non-null    int8    \n",
      " 1   Fines   930 non-null    float64 \n",
      " 2   Make    930 non-null    category\n",
      " 3   Model   919 non-null    category\n",
      " 4   Year    930 non-null    int16   \n",
      " 5   calc    930 non-null    float64 \n",
      "dtypes: category(2), float64(2), int16(1), int8(1)\n",
      "memory usage: 108.1 KB\n",
      "None\n"
     ]
    }
   ],
   "source": [
    "opti_fines = fines.copy()\n",
    "opti_fines['Refund'] = pd.to_numeric(opti_fines['Refund'], downcast='integer')\n",
    "opti_fines['Year'] = pd.to_numeric(opti_fines['Year'], downcast='integer')\n",
    "opti_fines['Make'] = opti_fines['Make'].astype('category')\n",
    "opti_fines['Model'] = opti_fines['Model'].astype('category')\n",
    "print(opti_fines.info(memory_usage='deep'))"
   ]
  }
 ],
 "metadata": {
  "kernelspec": {
   "display_name": "Python 3",
   "language": "python",
   "name": "python3"
  },
  "language_info": {
   "codemirror_mode": {
    "name": "ipython",
    "version": 3
   },
   "file_extension": ".py",
   "mimetype": "text/x-python",
   "name": "python",
   "nbconvert_exporter": "python",
   "pygments_lexer": "ipython3",
   "version": "3.12.6"
  }
 },
 "nbformat": 4,
 "nbformat_minor": 2
}
