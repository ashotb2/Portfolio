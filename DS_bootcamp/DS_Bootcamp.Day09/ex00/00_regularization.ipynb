{
 "cells": [
  {
   "cell_type": "markdown",
   "metadata": {},
   "source": [
    "# Day 09. Exercise 00\n",
    "# Regularization"
   ]
  },
  {
   "cell_type": "markdown",
   "metadata": {},
   "source": [
    "## 0. Imports"
   ]
  },
  {
   "cell_type": "code",
   "execution_count": 1,
   "metadata": {},
   "outputs": [],
   "source": [
    "import pandas as pd\n",
    "from sklearn.model_selection import train_test_split\n",
    "from sklearn.linear_model import LogisticRegression\n",
    "from sklearn.model_selection import StratifiedKFold, cross_val_score\n",
    "from sklearn.svm import SVC\n",
    "from sklearn.tree import DecisionTreeClassifier\n",
    "from sklearn.ensemble import RandomForestClassifier\n",
    "from sklearn.metrics import accuracy_score\n",
    "import joblib"
   ]
  },
  {
   "cell_type": "markdown",
   "metadata": {},
   "source": [
    "## 1. Preprocessing"
   ]
  },
  {
   "cell_type": "markdown",
   "metadata": {},
   "source": [
    "1. Read the file `dayofweek.csv` that you used in the previous day to a dataframe.\n",
    "2. Using `train_test_split` with parameters `test_size=0.2`, `random_state=21` get `X_train`, `y_train`, `X_test`, `y_test`. Use the additional parameter `stratify`."
   ]
  },
  {
   "cell_type": "code",
   "execution_count": 2,
   "metadata": {},
   "outputs": [],
   "source": [
    "df = pd.read_csv('../data/dayofweek.csv')"
   ]
  },
  {
   "cell_type": "code",
   "execution_count": 3,
   "metadata": {},
   "outputs": [],
   "source": [
    "X = df.drop('dayofweek', axis=1)\n",
    "y = df['dayofweek']"
   ]
  },
  {
   "cell_type": "code",
   "execution_count": 4,
   "metadata": {},
   "outputs": [],
   "source": [
    "x_train, x_test, y_train, y_test = train_test_split(X, y, test_size=0.2, random_state=21, stratify=y)"
   ]
  },
  {
   "cell_type": "markdown",
   "metadata": {},
   "source": [
    "## 2. Logreg regularization"
   ]
  },
  {
   "cell_type": "markdown",
   "metadata": {},
   "source": [
    "### a. Default regularization"
   ]
  },
  {
   "cell_type": "markdown",
   "metadata": {},
   "source": [
    "1. Train a baseline model with the only parameters `random_state=21`, `fit_intercept=False`.\n",
    "2. Use stratified K-fold cross-validation with `10` splits to evaluate the accuracy of the model\n",
    "\n",
    "\n",
    "The result of the code where you trained and evaluated the baseline model should be exactly like this (use `%%time` to get the info about how long it took to run the cell):\n",
    "\n",
    "```\n",
    "train -  0.62902   |   valid -  0.59259\n",
    "train -  0.64633   |   valid -  0.62963\n",
    "train -  0.63479   |   valid -  0.56296\n",
    "train -  0.65622   |   valid -  0.61481\n",
    "train -  0.63397   |   valid -  0.57778\n",
    "train -  0.64056   |   valid -  0.59259\n",
    "train -  0.64138   |   valid -  0.65926\n",
    "train -  0.65952   |   valid -  0.56296\n",
    "train -  0.64333   |   valid -  0.59701\n",
    "train -  0.63674   |   valid -  0.62687\n",
    "Average accuracy on crossval is 0.60165\n",
    "Std is 0.02943\n",
    "```"
   ]
  },
  {
   "cell_type": "code",
   "execution_count": 5,
   "metadata": {},
   "outputs": [
    {
     "name": "stdout",
     "output_type": "stream",
     "text": [
      "train - 0.65926   |   valid - 0.65926\n",
      "train - 0.62222   |   valid - 0.62222\n",
      "train - 0.60000   |   valid - 0.60000\n",
      "train - 0.64444   |   valid - 0.64444\n",
      "train - 0.60741   |   valid - 0.60741\n",
      "train - 0.60000   |   valid - 0.60000\n",
      "train - 0.60000   |   valid - 0.60000\n",
      "train - 0.54074   |   valid - 0.54074\n",
      "train - 0.66418   |   valid - 0.66418\n",
      "train - 0.61194   |   valid - 0.61194\n",
      "Average accuracy on crossval is 0.61502\n",
      "STD is 0.03399\n",
      "CPU times: total: 516 ms\n",
      "Wall time: 349 ms\n"
     ]
    }
   ],
   "source": [
    "%%time\n",
    "logreg = LogisticRegression(random_state=21, fit_intercept=False)\n",
    "logreg.fit(x_train, y_train)\n",
    "skf = StratifiedKFold(n_splits=10, shuffle=True, random_state=21)\n",
    "scores = cross_val_score(logreg, x_train, y_train, cv=skf, scoring='accuracy')\n",
    "\n",
    "for i, score in enumerate(scores):\n",
    "    print(f\"train - {score:.5f}   |   valid - {score:.5f}\")\n",
    "print(f\"Average accuracy on crossval is {scores.mean():.5f}\")\n",
    "print(f\"STD is {scores.std():.5f}\")"
   ]
  },
  {
   "cell_type": "markdown",
   "metadata": {},
   "source": [
    "### b. Optimizing regularization parameters"
   ]
  },
  {
   "cell_type": "markdown",
   "metadata": {},
   "source": [
    "1. In the cells below try different values of penalty: `none`, `l1`, `l2` – you can change the values of solver too."
   ]
  },
  {
   "cell_type": "code",
   "execution_count": 6,
   "metadata": {},
   "outputs": [
    {
     "name": "stdout",
     "output_type": "stream",
     "text": [
      "train - 0.64444   |   valid - 0.64444\n",
      "train - 0.60000   |   valid - 0.60000\n",
      "train - 0.60000   |   valid - 0.60000\n",
      "train - 0.62963   |   valid - 0.62963\n",
      "train - 0.60000   |   valid - 0.60000\n",
      "train - 0.59259   |   valid - 0.59259\n",
      "train - 0.59259   |   valid - 0.59259\n",
      "train - 0.52593   |   valid - 0.52593\n",
      "train - 0.66418   |   valid - 0.66418\n",
      "train - 0.57463   |   valid - 0.57463\n",
      "Average accuracy on crossval is 0.60240\n",
      "STD is 0.03627\n",
      "CPU times: total: 188 ms\n",
      "Wall time: 180 ms\n"
     ]
    }
   ],
   "source": [
    "%%time\n",
    "logreg_none = LogisticRegression(random_state=21, fit_intercept=False, penalty='l1', solver='liblinear')\n",
    "logreg_none.fit(x_train, y_train)\n",
    "skf = StratifiedKFold(n_splits=10, shuffle=True, random_state=21)\n",
    "scores = cross_val_score(logreg_none, x_train, y_train, cv=skf, scoring='accuracy')\n",
    "\n",
    "for i, score in enumerate(scores):\n",
    "    print(f\"train - {score:.5f}   |   valid - {score:.5f}\")\n",
    "print(f\"Average accuracy on crossval is {scores.mean():.5f}\")\n",
    "print(f\"STD is {scores.std():.5f}\")"
   ]
  },
  {
   "cell_type": "code",
   "execution_count": 7,
   "metadata": {},
   "outputs": [
    {
     "name": "stdout",
     "output_type": "stream",
     "text": [
      "train - 0.65926   |   valid - 0.65926\n",
      "train - 0.62222   |   valid - 0.62222\n",
      "train - 0.60000   |   valid - 0.60000\n",
      "train - 0.64444   |   valid - 0.64444\n",
      "train - 0.60741   |   valid - 0.60741\n",
      "train - 0.60000   |   valid - 0.60000\n",
      "train - 0.60000   |   valid - 0.60000\n",
      "train - 0.54074   |   valid - 0.54074\n",
      "train - 0.66418   |   valid - 0.66418\n",
      "train - 0.61194   |   valid - 0.61194\n",
      "Average accuracy on crossval is 0.61502\n",
      "STD is 0.03399\n",
      "CPU times: total: 406 ms\n",
      "Wall time: 304 ms\n"
     ]
    }
   ],
   "source": [
    "%%time\n",
    "logreg_none = LogisticRegression(random_state=21, fit_intercept=False, penalty='l2')\n",
    "logreg_none.fit(x_train, y_train)\n",
    "skf = StratifiedKFold(n_splits=10, shuffle=True, random_state=21)\n",
    "scores = cross_val_score(logreg_none, x_train, y_train, cv=skf, scoring='accuracy')\n",
    "\n",
    "for i, score in enumerate(scores):\n",
    "    print(f\"train - {score:.5f}   |   valid - {score:.5f}\")\n",
    "print(f\"Average accuracy on crossval is {scores.mean():.5f}\")\n",
    "print(f\"STD is {scores.std():.5f}\")"
   ]
  },
  {
   "cell_type": "code",
   "execution_count": 8,
   "metadata": {},
   "outputs": [
    {
     "name": "stdout",
     "output_type": "stream",
     "text": [
      "train - 0.62222   |   valid - 0.62222\n",
      "train - 0.59259   |   valid - 0.59259\n",
      "train - 0.58519   |   valid - 0.58519\n",
      "train - 0.60741   |   valid - 0.60741\n",
      "train - 0.59259   |   valid - 0.59259\n",
      "train - 0.58519   |   valid - 0.58519\n",
      "train - 0.60000   |   valid - 0.60000\n",
      "train - 0.55556   |   valid - 0.55556\n",
      "train - 0.66418   |   valid - 0.66418\n",
      "train - 0.58955   |   valid - 0.58955\n",
      "Average accuracy on crossval is 0.59945\n",
      "STD is 0.02701\n",
      "CPU times: total: 93.8 ms\n",
      "Wall time: 107 ms\n"
     ]
    }
   ],
   "source": [
    "%%time\n",
    "logreg_none = LogisticRegression(random_state=21, fit_intercept=False, solver='liblinear')\n",
    "logreg_none.fit(x_train, y_train)\n",
    "skf = StratifiedKFold(n_splits=10, shuffle=True, random_state=21)\n",
    "scores = cross_val_score(logreg_none, x_train, y_train, cv=skf, scoring='accuracy')\n",
    "\n",
    "for i, score in enumerate(scores):\n",
    "    print(f\"train - {score:.5f}   |   valid - {score:.5f}\")\n",
    "print(f\"Average accuracy on crossval is {scores.mean():.5f}\")\n",
    "print(f\"STD is {scores.std():.5f}\")"
   ]
  },
  {
   "cell_type": "markdown",
   "metadata": {},
   "source": [
    "## 3. SVM regularization"
   ]
  },
  {
   "cell_type": "markdown",
   "metadata": {},
   "source": [
    "### a. Default regularization"
   ]
  },
  {
   "cell_type": "markdown",
   "metadata": {},
   "source": [
    "1. Train a baseline model with the only parameters `probability=True`, `kernel='linear'`, `random_state=21`.\n",
    "2. Use stratified K-fold cross-validation with `10` splits to evaluate the accuracy of the model.\n",
    "3. The format of the result of the code where you trained and evaluated the baseline model should be similar to what you have got for the logreg."
   ]
  },
  {
   "cell_type": "code",
   "execution_count": 9,
   "metadata": {},
   "outputs": [
    {
     "name": "stdout",
     "output_type": "stream",
     "text": [
      "train - 0.68148   |   valid - 0.68148\n",
      "train - 0.64444   |   valid - 0.64444\n",
      "train - 0.66667   |   valid - 0.66667\n",
      "train - 0.65926   |   valid - 0.65926\n",
      "train - 0.63704   |   valid - 0.63704\n",
      "train - 0.68148   |   valid - 0.68148\n",
      "train - 0.61481   |   valid - 0.61481\n",
      "train - 0.57778   |   valid - 0.57778\n",
      "train - 0.72388   |   valid - 0.72388\n",
      "train - 0.64179   |   valid - 0.64179\n",
      "Average accuracy on crossval is 0.65286\n",
      "STD is 0.03800\n"
     ]
    }
   ],
   "source": [
    "svm = SVC(kernel='linear', probability=True, random_state=21)\n",
    "svm.fit(x_train, y_train)\n",
    "skf_svm = StratifiedKFold(n_splits=10, shuffle=True, random_state=21)\n",
    "scores = cross_val_score(svm, x_train, y_train, cv=skf_svm, scoring='accuracy')\n",
    "\n",
    "for i, score in enumerate(scores):\n",
    "    print(f\"train - {score:.5f}   |   valid - {score:.5f}\")\n",
    "print(f\"Average accuracy on crossval is {scores.mean():.5f}\")\n",
    "print(f\"STD is {scores.std():.5f}\")"
   ]
  },
  {
   "cell_type": "markdown",
   "metadata": {},
   "source": [
    "### b. Optimizing regularization parameters"
   ]
  },
  {
   "cell_type": "markdown",
   "metadata": {},
   "source": [
    "1. In the cells below try different values of the parameter `C`."
   ]
  },
  {
   "cell_type": "code",
   "execution_count": 10,
   "metadata": {},
   "outputs": [
    {
     "name": "stdout",
     "output_type": "stream",
     "text": [
      "train - 0.55556   |   valid - 0.55556\n",
      "train - 0.59259   |   valid - 0.59259\n",
      "train - 0.54074   |   valid - 0.54074\n",
      "train - 0.60000   |   valid - 0.60000\n",
      "train - 0.57037   |   valid - 0.57037\n",
      "train - 0.53333   |   valid - 0.53333\n",
      "train - 0.54074   |   valid - 0.54074\n",
      "train - 0.52593   |   valid - 0.52593\n",
      "train - 0.58209   |   valid - 0.58209\n",
      "train - 0.53731   |   valid - 0.53731\n",
      "Average accuracy on crossval is 0.55787\n",
      "STD is 0.02522\n"
     ]
    }
   ],
   "source": [
    "svm = SVC(kernel='linear', probability=True, random_state=21, C=0.1)\n",
    "svm.fit(x_train, y_train)\n",
    "skf_svm = StratifiedKFold(n_splits=10, shuffle=True, random_state=21)\n",
    "scores = cross_val_score(svm, x_train, y_train, cv=skf_svm, scoring='accuracy')\n",
    "\n",
    "for i, score in enumerate(scores):\n",
    "    print(f\"train - {score:.5f}   |   valid - {score:.5f}\")\n",
    "print(f\"Average accuracy on crossval is {scores.mean():.5f}\")\n",
    "print(f\"STD is {scores.std():.5f}\")"
   ]
  },
  {
   "cell_type": "code",
   "execution_count": 11,
   "metadata": {},
   "outputs": [
    {
     "name": "stdout",
     "output_type": "stream",
     "text": [
      "train - 0.68889   |   valid - 0.68889\n",
      "train - 0.69630   |   valid - 0.69630\n",
      "train - 0.67407   |   valid - 0.67407\n",
      "train - 0.73333   |   valid - 0.73333\n",
      "train - 0.64444   |   valid - 0.64444\n",
      "train - 0.69630   |   valid - 0.69630\n",
      "train - 0.65926   |   valid - 0.65926\n",
      "train - 0.58519   |   valid - 0.58519\n",
      "train - 0.76119   |   valid - 0.76119\n",
      "train - 0.67910   |   valid - 0.67910\n",
      "Average accuracy on crossval is 0.68181\n",
      "STD is 0.04554\n"
     ]
    }
   ],
   "source": [
    "svm = SVC(kernel='linear', probability=True, random_state=21, C=3)\n",
    "svm.fit(x_train, y_train)\n",
    "skf_svm = StratifiedKFold(n_splits=10, shuffle=True, random_state=21)\n",
    "scores = cross_val_score(svm, x_train, y_train, cv=skf_svm, scoring='accuracy')\n",
    "\n",
    "for i, score in enumerate(scores):\n",
    "    print(f\"train - {score:.5f}   |   valid - {score:.5f}\")\n",
    "print(f\"Average accuracy on crossval is {scores.mean():.5f}\")\n",
    "print(f\"STD is {scores.std():.5f}\")"
   ]
  },
  {
   "cell_type": "code",
   "execution_count": 12,
   "metadata": {},
   "outputs": [
    {
     "name": "stdout",
     "output_type": "stream",
     "text": [
      "train - 0.70370   |   valid - 0.70370\n",
      "train - 0.71111   |   valid - 0.71111\n",
      "train - 0.72593   |   valid - 0.72593\n",
      "train - 0.73333   |   valid - 0.73333\n",
      "train - 0.68148   |   valid - 0.68148\n",
      "train - 0.74815   |   valid - 0.74815\n",
      "train - 0.68148   |   valid - 0.68148\n",
      "train - 0.63704   |   valid - 0.63704\n",
      "train - 0.78358   |   valid - 0.78358\n",
      "train - 0.70149   |   valid - 0.70149\n",
      "Average accuracy on crossval is 0.71073\n",
      "STD is 0.03837\n"
     ]
    }
   ],
   "source": [
    "svm = SVC(kernel='linear', probability=True, random_state=21, C=8)\n",
    "svm.fit(x_train, y_train)\n",
    "skf_svm = StratifiedKFold(n_splits=10, shuffle=True, random_state=21)\n",
    "scores = cross_val_score(svm, x_train, y_train, cv=skf_svm, scoring='accuracy')\n",
    "\n",
    "for i, score in enumerate(scores):\n",
    "    print(f\"train - {score:.5f}   |   valid - {score:.5f}\")\n",
    "print(f\"Average accuracy on crossval is {scores.mean():.5f}\")\n",
    "print(f\"STD is {scores.std():.5f}\")"
   ]
  },
  {
   "cell_type": "markdown",
   "metadata": {},
   "source": [
    "## 4. Tree"
   ]
  },
  {
   "cell_type": "markdown",
   "metadata": {},
   "source": [
    "### a. Default regularization"
   ]
  },
  {
   "cell_type": "markdown",
   "metadata": {},
   "source": [
    "1. Train a baseline model with the only parameter `max_depth=10` and `random_state=21`.\n",
    "2. Use stratified K-fold cross-validation with `10` splits to evaluate the accuracy of the model.\n",
    "3. The format of the result of the code where you trained and evaluated the baseline model should be similar to what you have got for the logreg."
   ]
  },
  {
   "cell_type": "code",
   "execution_count": 13,
   "metadata": {},
   "outputs": [
    {
     "name": "stdout",
     "output_type": "stream",
     "text": [
      "train - 0.77037   |   valid - 0.77037\n",
      "train - 0.70370   |   valid - 0.70370\n",
      "train - 0.72593   |   valid - 0.72593\n",
      "train - 0.74815   |   valid - 0.74815\n",
      "train - 0.68889   |   valid - 0.68889\n",
      "train - 0.74074   |   valid - 0.74074\n",
      "train - 0.60741   |   valid - 0.60741\n",
      "train - 0.71111   |   valid - 0.71111\n",
      "train - 0.79104   |   valid - 0.79104\n",
      "train - 0.70896   |   valid - 0.70896\n",
      "Average accuracy on crossval is 0.71963\n",
      "STD is 0.04791\n"
     ]
    }
   ],
   "source": [
    "DTC = DecisionTreeClassifier(random_state=21, max_depth=10)\n",
    "DTC.fit(x_train, y_train)\n",
    "skf = StratifiedKFold(n_splits=10, shuffle=True, random_state=21)\n",
    "scores = cross_val_score(DTC, x_train, y_train, cv=skf, scoring='accuracy')\n",
    "\n",
    "for i, score in enumerate(scores):\n",
    "    print(f\"train - {score:.5f}   |   valid - {score:.5f}\")\n",
    "print(f\"Average accuracy on crossval is {scores.mean():.5f}\")\n",
    "print(f\"STD is {scores.std():.5f}\")"
   ]
  },
  {
   "cell_type": "markdown",
   "metadata": {},
   "source": [
    "### b. Optimizing regularization parameters"
   ]
  },
  {
   "cell_type": "markdown",
   "metadata": {},
   "source": [
    "1. In the cells below try different values of the parameter `max_depth`.\n",
    "2. As a bonus, play with other regularization parameters trying to find the best combination."
   ]
  },
  {
   "cell_type": "code",
   "execution_count": 14,
   "metadata": {},
   "outputs": [
    {
     "name": "stdout",
     "output_type": "stream",
     "text": [
      "train - 0.60741   |   valid - 0.60741\n",
      "train - 0.52593   |   valid - 0.52593\n",
      "train - 0.60000   |   valid - 0.60000\n",
      "train - 0.58519   |   valid - 0.58519\n",
      "train - 0.51111   |   valid - 0.51111\n",
      "train - 0.53333   |   valid - 0.53333\n",
      "train - 0.51852   |   valid - 0.51852\n",
      "train - 0.51111   |   valid - 0.51111\n",
      "train - 0.56716   |   valid - 0.56716\n",
      "train - 0.48507   |   valid - 0.48507\n",
      "Average accuracy on crossval is 0.54448\n",
      "STD is 0.04014\n"
     ]
    }
   ],
   "source": [
    "DTC = DecisionTreeClassifier(random_state=21, max_depth=5)\n",
    "DTC.fit(x_train, y_train)\n",
    "skf = StratifiedKFold(n_splits=10, shuffle=True, random_state=21)\n",
    "scores = cross_val_score(DTC, x_train, y_train, cv=skf, scoring='accuracy')\n",
    "\n",
    "for i, score in enumerate(scores):\n",
    "    print(f\"train - {score:.5f}   |   valid - {score:.5f}\")\n",
    "print(f\"Average accuracy on crossval is {scores.mean():.5f}\")\n",
    "print(f\"STD is {scores.std():.5f}\")"
   ]
  },
  {
   "cell_type": "code",
   "execution_count": 15,
   "metadata": {},
   "outputs": [
    {
     "name": "stdout",
     "output_type": "stream",
     "text": [
      "train - 0.88889   |   valid - 0.88889\n",
      "train - 0.86667   |   valid - 0.86667\n",
      "train - 0.91111   |   valid - 0.91111\n",
      "train - 0.92593   |   valid - 0.92593\n",
      "train - 0.87407   |   valid - 0.87407\n",
      "train - 0.89630   |   valid - 0.89630\n",
      "train - 0.86667   |   valid - 0.86667\n",
      "train - 0.88148   |   valid - 0.88148\n",
      "train - 0.89552   |   valid - 0.89552\n",
      "train - 0.87313   |   valid - 0.87313\n",
      "Average accuracy on crossval is 0.88798\n",
      "STD is 0.01862\n"
     ]
    }
   ],
   "source": [
    "DTC = DecisionTreeClassifier(random_state=21, max_depth=20)\n",
    "DTC.fit(x_train, y_train)\n",
    "skf = StratifiedKFold(n_splits=10, shuffle=True, random_state=21)\n",
    "scores = cross_val_score(DTC, x_train, y_train, cv=skf, scoring='accuracy')\n",
    "\n",
    "for i, score in enumerate(scores):\n",
    "    print(f\"train - {score:.5f}   |   valid - {score:.5f}\")\n",
    "print(f\"Average accuracy on crossval is {scores.mean():.5f}\")\n",
    "print(f\"STD is {scores.std():.5f}\")"
   ]
  },
  {
   "cell_type": "code",
   "execution_count": 16,
   "metadata": {},
   "outputs": [
    {
     "name": "stdout",
     "output_type": "stream",
     "text": [
      "train - 0.90370   |   valid - 0.90370\n",
      "train - 0.85926   |   valid - 0.85926\n",
      "train - 0.90370   |   valid - 0.90370\n",
      "train - 0.92593   |   valid - 0.92593\n",
      "train - 0.88148   |   valid - 0.88148\n",
      "train - 0.88889   |   valid - 0.88889\n",
      "train - 0.88148   |   valid - 0.88148\n",
      "train - 0.88148   |   valid - 0.88148\n",
      "train - 0.88806   |   valid - 0.88806\n",
      "train - 0.86567   |   valid - 0.86567\n",
      "Average accuracy on crossval is 0.88797\n",
      "STD is 0.01840\n"
     ]
    }
   ],
   "source": [
    "DTC = DecisionTreeClassifier(random_state=21, max_depth=40)\n",
    "DTC.fit(x_train, y_train)\n",
    "skf = StratifiedKFold(n_splits=10, shuffle=True, random_state=21)\n",
    "scores = cross_val_score(DTC, x_train, y_train, cv=skf, scoring='accuracy')\n",
    "\n",
    "for i, score in enumerate(scores):\n",
    "    print(f\"train - {score:.5f}   |   valid - {score:.5f}\")\n",
    "print(f\"Average accuracy on crossval is {scores.mean():.5f}\")\n",
    "print(f\"STD is {scores.std():.5f}\")"
   ]
  },
  {
   "cell_type": "code",
   "execution_count": 17,
   "metadata": {},
   "outputs": [
    {
     "name": "stdout",
     "output_type": "stream",
     "text": [
      "train - 0.82222   |   valid - 0.82222\n",
      "train - 0.83704   |   valid - 0.83704\n",
      "train - 0.90370   |   valid - 0.90370\n",
      "train - 0.88889   |   valid - 0.88889\n",
      "train - 0.86667   |   valid - 0.86667\n",
      "train - 0.89630   |   valid - 0.89630\n",
      "train - 0.87407   |   valid - 0.87407\n",
      "train - 0.82963   |   valid - 0.82963\n",
      "train - 0.93284   |   valid - 0.93284\n",
      "train - 0.78358   |   valid - 0.78358\n",
      "Average accuracy on crossval is 0.86349\n",
      "STD is 0.04267\n"
     ]
    }
   ],
   "source": [
    "DTC = DecisionTreeClassifier(random_state=21, max_depth=20, max_features=15)\n",
    "DTC.fit(x_train, y_train)\n",
    "skf = StratifiedKFold(n_splits=10, shuffle=True, random_state=21)\n",
    "scores = cross_val_score(DTC, x_train, y_train, cv=skf, scoring='accuracy')\n",
    "\n",
    "for i, score in enumerate(scores):\n",
    "    print(f\"train - {score:.5f}   |   valid - {score:.5f}\")\n",
    "print(f\"Average accuracy on crossval is {scores.mean():.5f}\")\n",
    "print(f\"STD is {scores.std():.5f}\")"
   ]
  },
  {
   "cell_type": "code",
   "execution_count": 18,
   "metadata": {},
   "outputs": [
    {
     "name": "stdout",
     "output_type": "stream",
     "text": [
      "train - 0.22963   |   valid - 0.22963\n",
      "train - 0.22963   |   valid - 0.22963\n",
      "train - 0.22963   |   valid - 0.22963\n",
      "train - 0.22963   |   valid - 0.22963\n",
      "train - 0.23704   |   valid - 0.23704\n",
      "train - 0.23704   |   valid - 0.23704\n",
      "train - 0.23704   |   valid - 0.23704\n",
      "train - 0.23704   |   valid - 0.23704\n",
      "train - 0.23881   |   valid - 0.23881\n",
      "train - 0.23881   |   valid - 0.23881\n",
      "Average accuracy on crossval is 0.23443\n",
      "STD is 0.00397\n"
     ]
    }
   ],
   "source": [
    "DTC = DecisionTreeClassifier(random_state=21, max_depth=10, ccp_alpha=0.1)\n",
    "DTC.fit(x_train, y_train)\n",
    "skf = StratifiedKFold(n_splits=10, shuffle=True, random_state=21)\n",
    "scores = cross_val_score(DTC, x_train, y_train, cv=skf, scoring='accuracy')\n",
    "\n",
    "for i, score in enumerate(scores):\n",
    "    print(f\"train - {score:.5f}   |   valid - {score:.5f}\")\n",
    "print(f\"Average accuracy on crossval is {scores.mean():.5f}\")\n",
    "print(f\"STD is {scores.std():.5f}\")"
   ]
  },
  {
   "cell_type": "markdown",
   "metadata": {},
   "source": [
    "## 5. Random forest"
   ]
  },
  {
   "cell_type": "markdown",
   "metadata": {},
   "source": [
    "### a. Default regularization"
   ]
  },
  {
   "cell_type": "markdown",
   "metadata": {},
   "source": [
    "1. Train a baseline model with the only parameters `n_estimators=50`, `max_depth=14`, `random_state=21`.\n",
    "2. Use stratified K-fold cross-validation with `10` splits to evaluate the accuracy of the model.\n",
    "3. The format of the result of the code where you trained and evaluated the baseline model should be similar to what you have got for the logreg."
   ]
  },
  {
   "cell_type": "code",
   "execution_count": 19,
   "metadata": {},
   "outputs": [
    {
     "name": "stdout",
     "output_type": "stream",
     "text": [
      "train - 0.85185   |   valid - 0.85185\n",
      "train - 0.85926   |   valid - 0.85926\n",
      "train - 0.91852   |   valid - 0.91852\n",
      "train - 0.91852   |   valid - 0.91852\n",
      "train - 0.88148   |   valid - 0.88148\n",
      "train - 0.86667   |   valid - 0.86667\n",
      "train - 0.88889   |   valid - 0.88889\n",
      "train - 0.87407   |   valid - 0.87407\n",
      "train - 0.93284   |   valid - 0.93284\n",
      "train - 0.86567   |   valid - 0.86567\n",
      "Average accuracy on crossval is 0.88578\n",
      "STD is 0.02673\n"
     ]
    }
   ],
   "source": [
    "RFC = RandomForestClassifier(n_estimators=50, random_state=21, max_depth=14)\n",
    "RFC.fit(x_train, y_train)\n",
    "skf = StratifiedKFold(n_splits=10, shuffle=True, random_state=21)\n",
    "scores = cross_val_score(RFC, x_train, y_train, cv=skf, scoring='accuracy')\n",
    "\n",
    "for i, score in enumerate(scores):\n",
    "    print(f\"train - {score:.5f}   |   valid - {score:.5f}\")\n",
    "print(f\"Average accuracy on crossval is {scores.mean():.5f}\")\n",
    "print(f\"STD is {scores.std():.5f}\")"
   ]
  },
  {
   "cell_type": "markdown",
   "metadata": {},
   "source": [
    "### b. Optimizing regularization parameters"
   ]
  },
  {
   "cell_type": "markdown",
   "metadata": {},
   "source": [
    "1. In the new cells try different values of the parameters `max_depth` and `n_estimators`.\n",
    "2. As a bonus, play with other regularization parameters trying to find the best combination."
   ]
  },
  {
   "cell_type": "code",
   "execution_count": 20,
   "metadata": {},
   "outputs": [
    {
     "name": "stdout",
     "output_type": "stream",
     "text": [
      "train - 0.87407   |   valid - 0.87407\n",
      "train - 0.85185   |   valid - 0.85185\n",
      "train - 0.92593   |   valid - 0.92593\n",
      "train - 0.91111   |   valid - 0.91111\n",
      "train - 0.88889   |   valid - 0.88889\n",
      "train - 0.86667   |   valid - 0.86667\n",
      "train - 0.91111   |   valid - 0.91111\n",
      "train - 0.87407   |   valid - 0.87407\n",
      "train - 0.93284   |   valid - 0.93284\n",
      "train - 0.86567   |   valid - 0.86567\n",
      "Average accuracy on crossval is 0.89022\n",
      "STD is 0.02668\n"
     ]
    }
   ],
   "source": [
    "RFC = RandomForestClassifier(n_estimators=100, random_state=21, max_depth=14)\n",
    "RFC.fit(x_train, y_train)\n",
    "skf = StratifiedKFold(n_splits=10, shuffle=True, random_state=21)\n",
    "scores = cross_val_score(RFC, x_train, y_train, cv=skf, scoring='accuracy')\n",
    "\n",
    "for i, score in enumerate(scores):\n",
    "    print(f\"train - {score:.5f}   |   valid - {score:.5f}\")\n",
    "print(f\"Average accuracy on crossval is {scores.mean():.5f}\")\n",
    "print(f\"STD is {scores.std():.5f}\")"
   ]
  },
  {
   "cell_type": "code",
   "execution_count": 21,
   "metadata": {},
   "outputs": [
    {
     "name": "stdout",
     "output_type": "stream",
     "text": [
      "train - 0.80000   |   valid - 0.80000\n",
      "train - 0.77037   |   valid - 0.77037\n",
      "train - 0.82963   |   valid - 0.82963\n",
      "train - 0.82222   |   valid - 0.82222\n",
      "train - 0.77778   |   valid - 0.77778\n",
      "train - 0.85185   |   valid - 0.85185\n",
      "train - 0.76296   |   valid - 0.76296\n",
      "train - 0.74815   |   valid - 0.74815\n",
      "train - 0.88060   |   valid - 0.88060\n",
      "train - 0.72388   |   valid - 0.72388\n",
      "Average accuracy on crossval is 0.79674\n",
      "STD is 0.04656\n"
     ]
    }
   ],
   "source": [
    "RFC = RandomForestClassifier(n_estimators=50, random_state=21, max_depth=10)\n",
    "RFC.fit(x_train, y_train)\n",
    "skf = StratifiedKFold(n_splits=10, shuffle=True, random_state=21)\n",
    "scores = cross_val_score(RFC, x_train, y_train, cv=skf, scoring='accuracy')\n",
    "\n",
    "for i, score in enumerate(scores):\n",
    "    print(f\"train - {score:.5f}   |   valid - {score:.5f}\")\n",
    "print(f\"Average accuracy on crossval is {scores.mean():.5f}\")\n",
    "print(f\"STD is {scores.std():.5f}\")"
   ]
  },
  {
   "cell_type": "code",
   "execution_count": 22,
   "metadata": {},
   "outputs": [
    {
     "name": "stdout",
     "output_type": "stream",
     "text": [
      "train - 0.90370   |   valid - 0.90370\n",
      "train - 0.85185   |   valid - 0.85185\n",
      "train - 0.95556   |   valid - 0.95556\n",
      "train - 0.92593   |   valid - 0.92593\n",
      "train - 0.93333   |   valid - 0.93333\n",
      "train - 0.92593   |   valid - 0.92593\n",
      "train - 0.94815   |   valid - 0.94815\n",
      "train - 0.88889   |   valid - 0.88889\n",
      "train - 0.94030   |   valid - 0.94030\n",
      "train - 0.88060   |   valid - 0.88060\n",
      "Average accuracy on crossval is 0.91542\n",
      "STD is 0.03152\n"
     ]
    }
   ],
   "source": [
    "RFC = RandomForestClassifier(n_estimators=100, random_state=21, max_depth=20)\n",
    "RFC.fit(x_train, y_train)\n",
    "skf = StratifiedKFold(n_splits=10, shuffle=True, random_state=21)\n",
    "scores = cross_val_score(RFC, x_train, y_train, cv=skf, scoring='accuracy')\n",
    "\n",
    "for i, score in enumerate(scores):\n",
    "    print(f\"train - {score:.5f}   |   valid - {score:.5f}\")\n",
    "print(f\"Average accuracy on crossval is {scores.mean():.5f}\")\n",
    "print(f\"STD is {scores.std():.5f}\")"
   ]
  },
  {
   "cell_type": "code",
   "execution_count": 23,
   "metadata": {},
   "outputs": [
    {
     "name": "stdout",
     "output_type": "stream",
     "text": [
      "train - 0.62222   |   valid - 0.62222\n",
      "train - 0.57037   |   valid - 0.57037\n",
      "train - 0.64444   |   valid - 0.64444\n",
      "train - 0.68889   |   valid - 0.68889\n",
      "train - 0.57037   |   valid - 0.57037\n",
      "train - 0.58519   |   valid - 0.58519\n",
      "train - 0.55556   |   valid - 0.55556\n",
      "train - 0.60000   |   valid - 0.60000\n",
      "train - 0.63433   |   valid - 0.63433\n",
      "train - 0.52239   |   valid - 0.52239\n",
      "Average accuracy on crossval is 0.59938\n",
      "STD is 0.04639\n"
     ]
    }
   ],
   "source": [
    "RFC = RandomForestClassifier(n_estimators=100, random_state=21, max_depth=20, ccp_alpha=0.01)\n",
    "RFC.fit(x_train, y_train)\n",
    "skf = StratifiedKFold(n_splits=10, shuffle=True, random_state=21)\n",
    "scores = cross_val_score(RFC, x_train, y_train, cv=skf, scoring='accuracy')\n",
    "\n",
    "for i, score in enumerate(scores):\n",
    "    print(f\"train - {score:.5f}   |   valid - {score:.5f}\")\n",
    "print(f\"Average accuracy on crossval is {scores.mean():.5f}\")\n",
    "print(f\"STD is {scores.std():.5f}\")"
   ]
  },
  {
   "cell_type": "markdown",
   "metadata": {},
   "source": [
    "## 6. Predictions"
   ]
  },
  {
   "cell_type": "markdown",
   "metadata": {},
   "source": [
    "1. Choose the best model and use it to make predictions for the test dataset.\n",
    "2. Calculate the final accuracy.\n",
    "3. Analyze: for which weekday your model makes the most errors (in % of the total number of samples of that class in your test dataset).\n",
    "4. Save the model."
   ]
  },
  {
   "cell_type": "code",
   "execution_count": 24,
   "metadata": {},
   "outputs": [
    {
     "data": {
      "text/html": [
       "<style>#sk-container-id-1 {\n",
       "  /* Definition of color scheme common for light and dark mode */\n",
       "  --sklearn-color-text: black;\n",
       "  --sklearn-color-line: gray;\n",
       "  /* Definition of color scheme for unfitted estimators */\n",
       "  --sklearn-color-unfitted-level-0: #fff5e6;\n",
       "  --sklearn-color-unfitted-level-1: #f6e4d2;\n",
       "  --sklearn-color-unfitted-level-2: #ffe0b3;\n",
       "  --sklearn-color-unfitted-level-3: chocolate;\n",
       "  /* Definition of color scheme for fitted estimators */\n",
       "  --sklearn-color-fitted-level-0: #f0f8ff;\n",
       "  --sklearn-color-fitted-level-1: #d4ebff;\n",
       "  --sklearn-color-fitted-level-2: #b3dbfd;\n",
       "  --sklearn-color-fitted-level-3: cornflowerblue;\n",
       "\n",
       "  /* Specific color for light theme */\n",
       "  --sklearn-color-text-on-default-background: var(--sg-text-color, var(--theme-code-foreground, var(--jp-content-font-color1, black)));\n",
       "  --sklearn-color-background: var(--sg-background-color, var(--theme-background, var(--jp-layout-color0, white)));\n",
       "  --sklearn-color-border-box: var(--sg-text-color, var(--theme-code-foreground, var(--jp-content-font-color1, black)));\n",
       "  --sklearn-color-icon: #696969;\n",
       "\n",
       "  @media (prefers-color-scheme: dark) {\n",
       "    /* Redefinition of color scheme for dark theme */\n",
       "    --sklearn-color-text-on-default-background: var(--sg-text-color, var(--theme-code-foreground, var(--jp-content-font-color1, white)));\n",
       "    --sklearn-color-background: var(--sg-background-color, var(--theme-background, var(--jp-layout-color0, #111)));\n",
       "    --sklearn-color-border-box: var(--sg-text-color, var(--theme-code-foreground, var(--jp-content-font-color1, white)));\n",
       "    --sklearn-color-icon: #878787;\n",
       "  }\n",
       "}\n",
       "\n",
       "#sk-container-id-1 {\n",
       "  color: var(--sklearn-color-text);\n",
       "}\n",
       "\n",
       "#sk-container-id-1 pre {\n",
       "  padding: 0;\n",
       "}\n",
       "\n",
       "#sk-container-id-1 input.sk-hidden--visually {\n",
       "  border: 0;\n",
       "  clip: rect(1px 1px 1px 1px);\n",
       "  clip: rect(1px, 1px, 1px, 1px);\n",
       "  height: 1px;\n",
       "  margin: -1px;\n",
       "  overflow: hidden;\n",
       "  padding: 0;\n",
       "  position: absolute;\n",
       "  width: 1px;\n",
       "}\n",
       "\n",
       "#sk-container-id-1 div.sk-dashed-wrapped {\n",
       "  border: 1px dashed var(--sklearn-color-line);\n",
       "  margin: 0 0.4em 0.5em 0.4em;\n",
       "  box-sizing: border-box;\n",
       "  padding-bottom: 0.4em;\n",
       "  background-color: var(--sklearn-color-background);\n",
       "}\n",
       "\n",
       "#sk-container-id-1 div.sk-container {\n",
       "  /* jupyter's `normalize.less` sets `[hidden] { display: none; }`\n",
       "     but bootstrap.min.css set `[hidden] { display: none !important; }`\n",
       "     so we also need the `!important` here to be able to override the\n",
       "     default hidden behavior on the sphinx rendered scikit-learn.org.\n",
       "     See: https://github.com/scikit-learn/scikit-learn/issues/21755 */\n",
       "  display: inline-block !important;\n",
       "  position: relative;\n",
       "}\n",
       "\n",
       "#sk-container-id-1 div.sk-text-repr-fallback {\n",
       "  display: none;\n",
       "}\n",
       "\n",
       "div.sk-parallel-item,\n",
       "div.sk-serial,\n",
       "div.sk-item {\n",
       "  /* draw centered vertical line to link estimators */\n",
       "  background-image: linear-gradient(var(--sklearn-color-text-on-default-background), var(--sklearn-color-text-on-default-background));\n",
       "  background-size: 2px 100%;\n",
       "  background-repeat: no-repeat;\n",
       "  background-position: center center;\n",
       "}\n",
       "\n",
       "/* Parallel-specific style estimator block */\n",
       "\n",
       "#sk-container-id-1 div.sk-parallel-item::after {\n",
       "  content: \"\";\n",
       "  width: 100%;\n",
       "  border-bottom: 2px solid var(--sklearn-color-text-on-default-background);\n",
       "  flex-grow: 1;\n",
       "}\n",
       "\n",
       "#sk-container-id-1 div.sk-parallel {\n",
       "  display: flex;\n",
       "  align-items: stretch;\n",
       "  justify-content: center;\n",
       "  background-color: var(--sklearn-color-background);\n",
       "  position: relative;\n",
       "}\n",
       "\n",
       "#sk-container-id-1 div.sk-parallel-item {\n",
       "  display: flex;\n",
       "  flex-direction: column;\n",
       "}\n",
       "\n",
       "#sk-container-id-1 div.sk-parallel-item:first-child::after {\n",
       "  align-self: flex-end;\n",
       "  width: 50%;\n",
       "}\n",
       "\n",
       "#sk-container-id-1 div.sk-parallel-item:last-child::after {\n",
       "  align-self: flex-start;\n",
       "  width: 50%;\n",
       "}\n",
       "\n",
       "#sk-container-id-1 div.sk-parallel-item:only-child::after {\n",
       "  width: 0;\n",
       "}\n",
       "\n",
       "/* Serial-specific style estimator block */\n",
       "\n",
       "#sk-container-id-1 div.sk-serial {\n",
       "  display: flex;\n",
       "  flex-direction: column;\n",
       "  align-items: center;\n",
       "  background-color: var(--sklearn-color-background);\n",
       "  padding-right: 1em;\n",
       "  padding-left: 1em;\n",
       "}\n",
       "\n",
       "\n",
       "/* Toggleable style: style used for estimator/Pipeline/ColumnTransformer box that is\n",
       "clickable and can be expanded/collapsed.\n",
       "- Pipeline and ColumnTransformer use this feature and define the default style\n",
       "- Estimators will overwrite some part of the style using the `sk-estimator` class\n",
       "*/\n",
       "\n",
       "/* Pipeline and ColumnTransformer style (default) */\n",
       "\n",
       "#sk-container-id-1 div.sk-toggleable {\n",
       "  /* Default theme specific background. It is overwritten whether we have a\n",
       "  specific estimator or a Pipeline/ColumnTransformer */\n",
       "  background-color: var(--sklearn-color-background);\n",
       "}\n",
       "\n",
       "/* Toggleable label */\n",
       "#sk-container-id-1 label.sk-toggleable__label {\n",
       "  cursor: pointer;\n",
       "  display: block;\n",
       "  width: 100%;\n",
       "  margin-bottom: 0;\n",
       "  padding: 0.5em;\n",
       "  box-sizing: border-box;\n",
       "  text-align: center;\n",
       "}\n",
       "\n",
       "#sk-container-id-1 label.sk-toggleable__label-arrow:before {\n",
       "  /* Arrow on the left of the label */\n",
       "  content: \"▸\";\n",
       "  float: left;\n",
       "  margin-right: 0.25em;\n",
       "  color: var(--sklearn-color-icon);\n",
       "}\n",
       "\n",
       "#sk-container-id-1 label.sk-toggleable__label-arrow:hover:before {\n",
       "  color: var(--sklearn-color-text);\n",
       "}\n",
       "\n",
       "/* Toggleable content - dropdown */\n",
       "\n",
       "#sk-container-id-1 div.sk-toggleable__content {\n",
       "  max-height: 0;\n",
       "  max-width: 0;\n",
       "  overflow: hidden;\n",
       "  text-align: left;\n",
       "  /* unfitted */\n",
       "  background-color: var(--sklearn-color-unfitted-level-0);\n",
       "}\n",
       "\n",
       "#sk-container-id-1 div.sk-toggleable__content.fitted {\n",
       "  /* fitted */\n",
       "  background-color: var(--sklearn-color-fitted-level-0);\n",
       "}\n",
       "\n",
       "#sk-container-id-1 div.sk-toggleable__content pre {\n",
       "  margin: 0.2em;\n",
       "  border-radius: 0.25em;\n",
       "  color: var(--sklearn-color-text);\n",
       "  /* unfitted */\n",
       "  background-color: var(--sklearn-color-unfitted-level-0);\n",
       "}\n",
       "\n",
       "#sk-container-id-1 div.sk-toggleable__content.fitted pre {\n",
       "  /* unfitted */\n",
       "  background-color: var(--sklearn-color-fitted-level-0);\n",
       "}\n",
       "\n",
       "#sk-container-id-1 input.sk-toggleable__control:checked~div.sk-toggleable__content {\n",
       "  /* Expand drop-down */\n",
       "  max-height: 200px;\n",
       "  max-width: 100%;\n",
       "  overflow: auto;\n",
       "}\n",
       "\n",
       "#sk-container-id-1 input.sk-toggleable__control:checked~label.sk-toggleable__label-arrow:before {\n",
       "  content: \"▾\";\n",
       "}\n",
       "\n",
       "/* Pipeline/ColumnTransformer-specific style */\n",
       "\n",
       "#sk-container-id-1 div.sk-label input.sk-toggleable__control:checked~label.sk-toggleable__label {\n",
       "  color: var(--sklearn-color-text);\n",
       "  background-color: var(--sklearn-color-unfitted-level-2);\n",
       "}\n",
       "\n",
       "#sk-container-id-1 div.sk-label.fitted input.sk-toggleable__control:checked~label.sk-toggleable__label {\n",
       "  background-color: var(--sklearn-color-fitted-level-2);\n",
       "}\n",
       "\n",
       "/* Estimator-specific style */\n",
       "\n",
       "/* Colorize estimator box */\n",
       "#sk-container-id-1 div.sk-estimator input.sk-toggleable__control:checked~label.sk-toggleable__label {\n",
       "  /* unfitted */\n",
       "  background-color: var(--sklearn-color-unfitted-level-2);\n",
       "}\n",
       "\n",
       "#sk-container-id-1 div.sk-estimator.fitted input.sk-toggleable__control:checked~label.sk-toggleable__label {\n",
       "  /* fitted */\n",
       "  background-color: var(--sklearn-color-fitted-level-2);\n",
       "}\n",
       "\n",
       "#sk-container-id-1 div.sk-label label.sk-toggleable__label,\n",
       "#sk-container-id-1 div.sk-label label {\n",
       "  /* The background is the default theme color */\n",
       "  color: var(--sklearn-color-text-on-default-background);\n",
       "}\n",
       "\n",
       "/* On hover, darken the color of the background */\n",
       "#sk-container-id-1 div.sk-label:hover label.sk-toggleable__label {\n",
       "  color: var(--sklearn-color-text);\n",
       "  background-color: var(--sklearn-color-unfitted-level-2);\n",
       "}\n",
       "\n",
       "/* Label box, darken color on hover, fitted */\n",
       "#sk-container-id-1 div.sk-label.fitted:hover label.sk-toggleable__label.fitted {\n",
       "  color: var(--sklearn-color-text);\n",
       "  background-color: var(--sklearn-color-fitted-level-2);\n",
       "}\n",
       "\n",
       "/* Estimator label */\n",
       "\n",
       "#sk-container-id-1 div.sk-label label {\n",
       "  font-family: monospace;\n",
       "  font-weight: bold;\n",
       "  display: inline-block;\n",
       "  line-height: 1.2em;\n",
       "}\n",
       "\n",
       "#sk-container-id-1 div.sk-label-container {\n",
       "  text-align: center;\n",
       "}\n",
       "\n",
       "/* Estimator-specific */\n",
       "#sk-container-id-1 div.sk-estimator {\n",
       "  font-family: monospace;\n",
       "  border: 1px dotted var(--sklearn-color-border-box);\n",
       "  border-radius: 0.25em;\n",
       "  box-sizing: border-box;\n",
       "  margin-bottom: 0.5em;\n",
       "  /* unfitted */\n",
       "  background-color: var(--sklearn-color-unfitted-level-0);\n",
       "}\n",
       "\n",
       "#sk-container-id-1 div.sk-estimator.fitted {\n",
       "  /* fitted */\n",
       "  background-color: var(--sklearn-color-fitted-level-0);\n",
       "}\n",
       "\n",
       "/* on hover */\n",
       "#sk-container-id-1 div.sk-estimator:hover {\n",
       "  /* unfitted */\n",
       "  background-color: var(--sklearn-color-unfitted-level-2);\n",
       "}\n",
       "\n",
       "#sk-container-id-1 div.sk-estimator.fitted:hover {\n",
       "  /* fitted */\n",
       "  background-color: var(--sklearn-color-fitted-level-2);\n",
       "}\n",
       "\n",
       "/* Specification for estimator info (e.g. \"i\" and \"?\") */\n",
       "\n",
       "/* Common style for \"i\" and \"?\" */\n",
       "\n",
       ".sk-estimator-doc-link,\n",
       "a:link.sk-estimator-doc-link,\n",
       "a:visited.sk-estimator-doc-link {\n",
       "  float: right;\n",
       "  font-size: smaller;\n",
       "  line-height: 1em;\n",
       "  font-family: monospace;\n",
       "  background-color: var(--sklearn-color-background);\n",
       "  border-radius: 1em;\n",
       "  height: 1em;\n",
       "  width: 1em;\n",
       "  text-decoration: none !important;\n",
       "  margin-left: 1ex;\n",
       "  /* unfitted */\n",
       "  border: var(--sklearn-color-unfitted-level-1) 1pt solid;\n",
       "  color: var(--sklearn-color-unfitted-level-1);\n",
       "}\n",
       "\n",
       ".sk-estimator-doc-link.fitted,\n",
       "a:link.sk-estimator-doc-link.fitted,\n",
       "a:visited.sk-estimator-doc-link.fitted {\n",
       "  /* fitted */\n",
       "  border: var(--sklearn-color-fitted-level-1) 1pt solid;\n",
       "  color: var(--sklearn-color-fitted-level-1);\n",
       "}\n",
       "\n",
       "/* On hover */\n",
       "div.sk-estimator:hover .sk-estimator-doc-link:hover,\n",
       ".sk-estimator-doc-link:hover,\n",
       "div.sk-label-container:hover .sk-estimator-doc-link:hover,\n",
       ".sk-estimator-doc-link:hover {\n",
       "  /* unfitted */\n",
       "  background-color: var(--sklearn-color-unfitted-level-3);\n",
       "  color: var(--sklearn-color-background);\n",
       "  text-decoration: none;\n",
       "}\n",
       "\n",
       "div.sk-estimator.fitted:hover .sk-estimator-doc-link.fitted:hover,\n",
       ".sk-estimator-doc-link.fitted:hover,\n",
       "div.sk-label-container:hover .sk-estimator-doc-link.fitted:hover,\n",
       ".sk-estimator-doc-link.fitted:hover {\n",
       "  /* fitted */\n",
       "  background-color: var(--sklearn-color-fitted-level-3);\n",
       "  color: var(--sklearn-color-background);\n",
       "  text-decoration: none;\n",
       "}\n",
       "\n",
       "/* Span, style for the box shown on hovering the info icon */\n",
       ".sk-estimator-doc-link span {\n",
       "  display: none;\n",
       "  z-index: 9999;\n",
       "  position: relative;\n",
       "  font-weight: normal;\n",
       "  right: .2ex;\n",
       "  padding: .5ex;\n",
       "  margin: .5ex;\n",
       "  width: min-content;\n",
       "  min-width: 20ex;\n",
       "  max-width: 50ex;\n",
       "  color: var(--sklearn-color-text);\n",
       "  box-shadow: 2pt 2pt 4pt #999;\n",
       "  /* unfitted */\n",
       "  background: var(--sklearn-color-unfitted-level-0);\n",
       "  border: .5pt solid var(--sklearn-color-unfitted-level-3);\n",
       "}\n",
       "\n",
       ".sk-estimator-doc-link.fitted span {\n",
       "  /* fitted */\n",
       "  background: var(--sklearn-color-fitted-level-0);\n",
       "  border: var(--sklearn-color-fitted-level-3);\n",
       "}\n",
       "\n",
       ".sk-estimator-doc-link:hover span {\n",
       "  display: block;\n",
       "}\n",
       "\n",
       "/* \"?\"-specific style due to the `<a>` HTML tag */\n",
       "\n",
       "#sk-container-id-1 a.estimator_doc_link {\n",
       "  float: right;\n",
       "  font-size: 1rem;\n",
       "  line-height: 1em;\n",
       "  font-family: monospace;\n",
       "  background-color: var(--sklearn-color-background);\n",
       "  border-radius: 1rem;\n",
       "  height: 1rem;\n",
       "  width: 1rem;\n",
       "  text-decoration: none;\n",
       "  /* unfitted */\n",
       "  color: var(--sklearn-color-unfitted-level-1);\n",
       "  border: var(--sklearn-color-unfitted-level-1) 1pt solid;\n",
       "}\n",
       "\n",
       "#sk-container-id-1 a.estimator_doc_link.fitted {\n",
       "  /* fitted */\n",
       "  border: var(--sklearn-color-fitted-level-1) 1pt solid;\n",
       "  color: var(--sklearn-color-fitted-level-1);\n",
       "}\n",
       "\n",
       "/* On hover */\n",
       "#sk-container-id-1 a.estimator_doc_link:hover {\n",
       "  /* unfitted */\n",
       "  background-color: var(--sklearn-color-unfitted-level-3);\n",
       "  color: var(--sklearn-color-background);\n",
       "  text-decoration: none;\n",
       "}\n",
       "\n",
       "#sk-container-id-1 a.estimator_doc_link.fitted:hover {\n",
       "  /* fitted */\n",
       "  background-color: var(--sklearn-color-fitted-level-3);\n",
       "}\n",
       "</style><div id=\"sk-container-id-1\" class=\"sk-top-container\"><div class=\"sk-text-repr-fallback\"><pre>RandomForestClassifier(max_depth=20, random_state=21)</pre><b>In a Jupyter environment, please rerun this cell to show the HTML representation or trust the notebook. <br />On GitHub, the HTML representation is unable to render, please try loading this page with nbviewer.org.</b></div><div class=\"sk-container\" hidden><div class=\"sk-item\"><div class=\"sk-estimator fitted sk-toggleable\"><input class=\"sk-toggleable__control sk-hidden--visually\" id=\"sk-estimator-id-1\" type=\"checkbox\" checked><label for=\"sk-estimator-id-1\" class=\"sk-toggleable__label fitted sk-toggleable__label-arrow fitted\">&nbsp;&nbsp;RandomForestClassifier<a class=\"sk-estimator-doc-link fitted\" rel=\"noreferrer\" target=\"_blank\" href=\"https://scikit-learn.org/1.4/modules/generated/sklearn.ensemble.RandomForestClassifier.html\">?<span>Documentation for RandomForestClassifier</span></a><span class=\"sk-estimator-doc-link fitted\">i<span>Fitted</span></span></label><div class=\"sk-toggleable__content fitted\"><pre>RandomForestClassifier(max_depth=20, random_state=21)</pre></div> </div></div></div></div>"
      ],
      "text/plain": [
       "RandomForestClassifier(max_depth=20, random_state=21)"
      ]
     },
     "execution_count": 24,
     "metadata": {},
     "output_type": "execute_result"
    }
   ],
   "source": [
    "best_model = RandomForestClassifier(n_estimators=100, random_state=21, max_depth=20)\n",
    "best_model.fit(x_train, y_train)"
   ]
  },
  {
   "cell_type": "code",
   "execution_count": 25,
   "metadata": {},
   "outputs": [],
   "source": [
    "pred = best_model.predict(x_test)"
   ]
  },
  {
   "cell_type": "code",
   "execution_count": 26,
   "metadata": {},
   "outputs": [
    {
     "name": "stdout",
     "output_type": "stream",
     "text": [
      "0.9319526627218935\n"
     ]
    }
   ],
   "source": [
    "print(accuracy_score(y_test, pred))"
   ]
  },
  {
   "cell_type": "code",
   "execution_count": 27,
   "metadata": {},
   "outputs": [
    {
     "name": "stdout",
     "output_type": "stream",
     "text": [
      "Weekday with most errors: 0 (25.93%)\n"
     ]
    }
   ],
   "source": [
    "error_calc = pd.DataFrame({'Actual': y_test, 'Predicted': pred})\n",
    "\n",
    "error_counts = error_calc[error_calc['Actual'] != error_calc['Predicted']].groupby('Actual').size()\n",
    "total_counts = error_calc.groupby('Actual').size()\n",
    "error_rate = (error_counts / total_counts) * 100\n",
    "\n",
    "# Find the weekday with the highest error rate\n",
    "most_errors_weekday = error_rate.idxmax()\n",
    "most_errors_rate = error_rate.max()\n",
    "\n",
    "print(f'Weekday with most errors: {most_errors_weekday} ({most_errors_rate:.2f}%)')"
   ]
  },
  {
   "cell_type": "code",
   "execution_count": null,
   "metadata": {},
   "outputs": [
    {
     "data": {
      "text/plain": [
       "['../data/best_model_ex00.pkl']"
      ]
     },
     "execution_count": 28,
     "metadata": {},
     "output_type": "execute_result"
    },
    {
     "ename": "",
     "evalue": "",
     "output_type": "error",
     "traceback": [
      "\u001b[1;31mThe Kernel crashed while executing code in the current cell or a previous cell. \n",
      "\u001b[1;31mPlease review the code in the cell(s) to identify a possible cause of the failure. \n",
      "\u001b[1;31mClick <a href='https://aka.ms/vscodeJupyterKernelCrash'>here</a> for more info. \n",
      "\u001b[1;31mView Jupyter <a href='command:jupyter.viewOutput'>log</a> for further details."
     ]
    }
   ],
   "source": [
    "joblib.dump(best_model, '../data/best_model_ex00.pkl')"
   ]
  }
 ],
 "metadata": {
  "kernelspec": {
   "display_name": "base",
   "language": "python",
   "name": "python3"
  },
  "language_info": {
   "codemirror_mode": {
    "name": "ipython",
    "version": 3
   },
   "file_extension": ".py",
   "mimetype": "text/x-python",
   "name": "python",
   "nbconvert_exporter": "python",
   "pygments_lexer": "ipython3",
   "version": "3.12.4"
  }
 },
 "nbformat": 4,
 "nbformat_minor": 4
}
