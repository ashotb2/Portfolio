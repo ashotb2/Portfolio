{
 "cells": [
  {
   "cell_type": "markdown",
   "metadata": {},
   "source": [
    "# Day 09. Exercise 03\n",
    "# Ensembles"
   ]
  },
  {
   "cell_type": "markdown",
   "metadata": {},
   "source": [
    "## 0. Imports"
   ]
  },
  {
   "cell_type": "code",
   "execution_count": 147,
   "metadata": {},
   "outputs": [],
   "source": [
    "import pandas as pd\n",
    "from sklearn.model_selection import train_test_split\n",
    "from sklearn.svm import SVC\n",
    "from sklearn.tree import DecisionTreeClassifier\n",
    "from sklearn.ensemble import RandomForestClassifier, VotingClassifier, BaggingClassifier, StackingClassifier\n",
    "from sklearn.metrics import accuracy_score, precision_score, recall_score\n",
    "from sklearn.model_selection import StratifiedKFold\n",
    "from sklearn.linear_model import LogisticRegression\n",
    "import joblib"
   ]
  },
  {
   "cell_type": "markdown",
   "metadata": {},
   "source": [
    "## 1. Preprocessing"
   ]
  },
  {
   "cell_type": "markdown",
   "metadata": {},
   "source": [
    "1. Create the same dataframe as in the previous exercise.\n",
    "2. Using `train_test_split` with parameters `test_size=0.2`, `random_state=21` get `X_train`, `y_train`, `X_test`, `y_test` and then get `X_train`, `y_train`, `X_valid`, `y_valid` from the previous `X_train`, `y_train`. Use the additional parameter `stratify`."
   ]
  },
  {
   "cell_type": "code",
   "execution_count": 148,
   "metadata": {},
   "outputs": [],
   "source": [
    "df = pd.read_csv('../data/day-of-week-not-scaled.csv')"
   ]
  },
  {
   "cell_type": "code",
   "execution_count": 149,
   "metadata": {},
   "outputs": [],
   "source": [
    "X = df.drop('dayofweek', axis=1)\n",
    "y = df['dayofweek']\n",
    "X_train, X_test, y_train, y_test = train_test_split(X, y, test_size=0.2, random_state=21, stratify=y)"
   ]
  },
  {
   "cell_type": "code",
   "execution_count": 150,
   "metadata": {},
   "outputs": [],
   "source": [
    "X_train, X_valid, y_train, y_valid = train_test_split(X_train, y_train, test_size=0.2, random_state=21, stratify=y_train)"
   ]
  },
  {
   "cell_type": "markdown",
   "metadata": {},
   "source": [
    "## 2. Individual classifiers"
   ]
  },
  {
   "cell_type": "markdown",
   "metadata": {},
   "source": [
    "1. Train SVM, decision tree and random forest again with the best parameters that you got from the 01 exercise with `random_state=21` for all of them.\n",
    "2. Evaluate `accuracy`, `precision`, and `recall` for them on the validation set.\n",
    "3. The result of each cell of the section should look like this:\n",
    "\n",
    "```\n",
    "accuracy is 0.87778\n",
    "precision is 0.88162\n",
    "recall is 0.87778\n",
    "```"
   ]
  },
  {
   "cell_type": "code",
   "execution_count": null,
   "metadata": {},
   "outputs": [
    {
     "name": "stdout",
     "output_type": "stream",
     "text": [
      "accuracy is 0.87778\n",
      "precision is 0.88162\n",
      "recall is 0.87778\n"
     ]
    }
   ],
   "source": [
    "svm = SVC(C=10, class_weight=None, gamma='auto', kernel='rbf', probability=True, random_state=21)\n",
    "svm.fit(X_train, y_train)\n",
    "svm_y_pred = svm.predict(X_valid)\n",
    "\n",
    "accuracy = accuracy_score(y_valid, svm_y_pred)\n",
    "precision = precision_score(y_valid, svm_y_pred, average='weighted')\n",
    "recall = recall_score(y_valid, svm_y_pred, average='weighted')\n",
    "\n",
    "print(f'accuracy is {accuracy:.5f}')\n",
    "print(f'precision is {precision:.5f}')\n",
    "print(f'recall is {recall:.5f}')"
   ]
  },
  {
   "cell_type": "code",
   "execution_count": 152,
   "metadata": {},
   "outputs": [
    {
     "name": "stdout",
     "output_type": "stream",
     "text": [
      "accuracy is 0.86667\n",
      "precision is 0.86984\n",
      "recall is 0.86667\n"
     ]
    }
   ],
   "source": [
    "dt = DecisionTreeClassifier(class_weight='balanced', criterion= 'gini', max_depth= 22, random_state=21)\n",
    "dt.fit(X_train, y_train)\n",
    "dt_y_pred = dt.predict(X_valid)\n",
    "\n",
    "accuracy = accuracy_score(y_valid, dt_y_pred)\n",
    "precision = precision_score(y_valid, dt_y_pred, average='weighted')\n",
    "recall = recall_score(y_valid, dt_y_pred, average='weighted')\n",
    "\n",
    "print(f'accuracy is {accuracy:.5f}')\n",
    "print(f'precision is {precision:.5f}')\n",
    "print(f'recall is {recall:.5f}')"
   ]
  },
  {
   "cell_type": "code",
   "execution_count": 153,
   "metadata": {},
   "outputs": [
    {
     "name": "stdout",
     "output_type": "stream",
     "text": [
      "accuracy is 0.89259\n",
      "precision is 0.89361\n",
      "recall is 0.89259\n"
     ]
    }
   ],
   "source": [
    "rfc = RandomForestClassifier(class_weight=None, criterion='gini', max_depth=28, n_estimators=50, random_state=21)\n",
    "rfc.fit(X_train, y_train)\n",
    "rfc_y_pred = rfc.predict(X_valid)\n",
    "\n",
    "accuracy = accuracy_score(y_valid, rfc_y_pred)\n",
    "precision = precision_score(y_valid, rfc_y_pred, average='weighted')\n",
    "recall = recall_score(y_valid, rfc_y_pred, average='weighted')\n",
    "\n",
    "print(f'accuracy is {accuracy:.5f}')\n",
    "print(f'precision is {precision:.5f}')\n",
    "print(f'recall is {recall:.5f}')"
   ]
  },
  {
   "cell_type": "markdown",
   "metadata": {},
   "source": [
    "## 3. Voting classifiers"
   ]
  },
  {
   "cell_type": "markdown",
   "metadata": {},
   "source": [
    "1. Using `VotingClassifier` and the three models that you have just trained, calculate the `accuracy`, `precision`, and `recall` on the validation set.\n",
    "2. Play with the other parameteres.\n",
    "3. Calculate the `accuracy`, `precision` and `recall` on the test set for the model with the best weights in terms of accuracy (if there are several of them with equal values, choose the one with the higher precision)."
   ]
  },
  {
   "cell_type": "code",
   "execution_count": 154,
   "metadata": {},
   "outputs": [
    {
     "name": "stdout",
     "output_type": "stream",
     "text": [
      "accuracy is 0.89630\n",
      "precision is 0.89605\n",
      "recall is 0.89630\n"
     ]
    }
   ],
   "source": [
    "voting_clf = VotingClassifier(estimators=[\n",
    "    ('svm', svm), ('dt', dt), ('rfc', rfc)])\n",
    "voting_clf.fit(X_train, y_train)\n",
    "voting_y_pred = voting_clf.predict(X_valid)\n",
    "\n",
    "accuracy = accuracy_score(y_valid, voting_y_pred)\n",
    "precision = precision_score(y_valid, voting_y_pred, average='weighted')\n",
    "recall = recall_score(y_valid, voting_y_pred, average='weighted')\n",
    "\n",
    "print(f'accuracy is {accuracy:.5f}')\n",
    "print(f'precision is {precision:.5f}')\n",
    "print(f'recall is {recall:.5f}')"
   ]
  },
  {
   "cell_type": "code",
   "execution_count": 155,
   "metadata": {},
   "outputs": [
    {
     "name": "stdout",
     "output_type": "stream",
     "text": [
      "accuracy is 0.88148\n",
      "precision is 0.88418\n",
      "recall is 0.88148\n"
     ]
    }
   ],
   "source": [
    "voting_clf = VotingClassifier(estimators=[\n",
    "    ('svm', svm), ('dt', dt), ('rfc', rfc)], voting='soft')\n",
    "voting_clf.fit(X_train, y_train)\n",
    "voting_y_pred = voting_clf.predict(X_valid)\n",
    "\n",
    "accuracy = accuracy_score(y_valid, voting_y_pred)\n",
    "precision = precision_score(y_valid, voting_y_pred, average='weighted')\n",
    "recall = recall_score(y_valid, voting_y_pred, average='weighted')\n",
    "\n",
    "print(f'accuracy is {accuracy:.5f}')\n",
    "print(f'precision is {precision:.5f}')\n",
    "print(f'recall is {recall:.5f}')"
   ]
  },
  {
   "cell_type": "code",
   "execution_count": 156,
   "metadata": {},
   "outputs": [
    {
     "name": "stdout",
     "output_type": "stream",
     "text": [
      "accuracy is 0.89630\n",
      "precision is 0.89605\n",
      "recall is 0.89630\n"
     ]
    }
   ],
   "source": [
    "voting_clf = VotingClassifier(estimators=[\n",
    "    ('svm', svm), ('dt', dt), ('rfc', rfc)], voting='hard')\n",
    "voting_clf.fit(X_train, y_train)\n",
    "voting_y_pred = voting_clf.predict(X_valid)\n",
    "\n",
    "accuracy = accuracy_score(y_valid, voting_y_pred)\n",
    "precision = precision_score(y_valid, voting_y_pred, average='weighted')\n",
    "recall = recall_score(y_valid, voting_y_pred, average='weighted')\n",
    "\n",
    "print(f'accuracy is {accuracy:.5f}')\n",
    "print(f'precision is {precision:.5f}')\n",
    "print(f'recall is {recall:.5f}')"
   ]
  },
  {
   "cell_type": "code",
   "execution_count": 157,
   "metadata": {},
   "outputs": [
    {
     "name": "stdout",
     "output_type": "stream",
     "text": [
      "accuracy is 0.91124\n",
      "precision is 0.91206\n",
      "recall is 0.91124\n"
     ]
    }
   ],
   "source": [
    "voting_clf = VotingClassifier(estimators=[\n",
    "    ('svm', svm), ('dt', dt), ('rfc', rfc)], voting='hard')\n",
    "voting_clf.fit(X_train, y_train)\n",
    "voting_y_pred = voting_clf.predict(X_test)\n",
    "\n",
    "accuracy = accuracy_score(y_test, voting_y_pred)\n",
    "precision = precision_score(y_test, voting_y_pred, average='weighted')\n",
    "recall = recall_score(y_test, voting_y_pred, average='weighted')\n",
    "\n",
    "print(f'accuracy is {accuracy:.5f}')\n",
    "print(f'precision is {precision:.5f}')\n",
    "print(f'recall is {recall:.5f}')"
   ]
  },
  {
   "cell_type": "markdown",
   "metadata": {},
   "source": [
    "## 4. Bagging classifiers"
   ]
  },
  {
   "cell_type": "markdown",
   "metadata": {},
   "source": [
    "1. Using `BaggingClassifier` and `SVM` with the best parameters create an ensemble, try different values of the `n_estimators`, use `random_state=21`.\n",
    "2. Play with the other parameters.\n",
    "3. Calculate the `accuracy`, `precision`, and `recall` for the model with the best parameters (in terms of accuracy) on the test set (if there are several of them with equal values, choose the one with the higher precision)"
   ]
  },
  {
   "cell_type": "code",
   "execution_count": 158,
   "metadata": {},
   "outputs": [
    {
     "name": "stdout",
     "output_type": "stream",
     "text": [
      "accuracy is 0.88148\n",
      "precision is 0.89035\n",
      "recall is 0.88148\n"
     ]
    }
   ],
   "source": [
    "bag = BaggingClassifier(estimator=svm, n_estimators=50, random_state=21)\n",
    "bag.fit(X_train, y_train)\n",
    "voting_y_pred = bag.predict(X_valid)\n",
    "\n",
    "accuracy = accuracy_score(y_valid, voting_y_pred)\n",
    "precision = precision_score(y_valid, voting_y_pred, average='weighted')\n",
    "recall = recall_score(y_valid, voting_y_pred, average='weighted')\n",
    "\n",
    "print(f'accuracy is {accuracy:.5f}')\n",
    "print(f'precision is {precision:.5f}')\n",
    "print(f'recall is {recall:.5f}')"
   ]
  },
  {
   "cell_type": "code",
   "execution_count": 159,
   "metadata": {},
   "outputs": [
    {
     "name": "stdout",
     "output_type": "stream",
     "text": [
      "accuracy is 0.87778\n",
      "precision is 0.88741\n",
      "recall is 0.87778\n"
     ]
    }
   ],
   "source": [
    "bag = BaggingClassifier(estimator=svm, n_estimators=48, random_state=21)\n",
    "bag.fit(X_train, y_train)\n",
    "voting_y_pred = bag.predict(X_valid)\n",
    "\n",
    "accuracy = accuracy_score(y_valid, voting_y_pred)\n",
    "precision = precision_score(y_valid, voting_y_pred, average='weighted')\n",
    "recall = recall_score(y_valid, voting_y_pred, average='weighted')\n",
    "\n",
    "print(f'accuracy is {accuracy:.5f}')\n",
    "print(f'precision is {precision:.5f}')\n",
    "print(f'recall is {recall:.5f}')"
   ]
  },
  {
   "cell_type": "code",
   "execution_count": 160,
   "metadata": {},
   "outputs": [
    {
     "name": "stdout",
     "output_type": "stream",
     "text": [
      "accuracy is 0.88519\n",
      "precision is 0.89396\n",
      "recall is 0.88519\n"
     ]
    }
   ],
   "source": [
    "bag = BaggingClassifier(estimator=svm, n_estimators=52, random_state=21)\n",
    "bag.fit(X_train, y_train)\n",
    "voting_y_pred = bag.predict(X_valid)\n",
    "\n",
    "accuracy = accuracy_score(y_valid, voting_y_pred)\n",
    "precision = precision_score(y_valid, voting_y_pred, average='weighted')\n",
    "recall = recall_score(y_valid, voting_y_pred, average='weighted')\n",
    "\n",
    "print(f'accuracy is {accuracy:.5f}')\n",
    "print(f'precision is {precision:.5f}')\n",
    "print(f'recall is {recall:.5f}')"
   ]
  },
  {
   "cell_type": "code",
   "execution_count": 161,
   "metadata": {},
   "outputs": [
    {
     "name": "stdout",
     "output_type": "stream",
     "text": [
      "accuracy is 0.87870\n",
      "precision is 0.88360\n",
      "recall is 0.87870\n"
     ]
    }
   ],
   "source": [
    "bag = BaggingClassifier(estimator=svm, n_estimators=52, random_state=21)\n",
    "bag.fit(X_train, y_train)\n",
    "voting_y_pred = bag.predict(X_test)\n",
    "\n",
    "accuracy = accuracy_score(y_test, voting_y_pred)\n",
    "precision = precision_score(y_test, voting_y_pred, average='weighted')\n",
    "recall = recall_score(y_test, voting_y_pred, average='weighted')\n",
    "\n",
    "print(f'accuracy is {accuracy:.5f}')\n",
    "print(f'precision is {precision:.5f}')\n",
    "print(f'recall is {recall:.5f}')"
   ]
  },
  {
   "cell_type": "markdown",
   "metadata": {},
   "source": [
    "## 5. Stacking classifiers"
   ]
  },
  {
   "cell_type": "markdown",
   "metadata": {},
   "source": [
    "1. To achieve reproducibility in this case you will have to create an object of cross-validation generator: `StratifiedKFold(n_splits=n, shuffle=True, random_state=21)`, where `n` you will try to optimize (the details are below).\n",
    "2. Using `StackingClassifier` and the three models that you have recently trained, calculate the `accuracy`, `precision` and `recall` on the validation set, try different values of `n_splits` `[2, 3, 4, 5, 6, 7]` in the cross-validation generator and parameter `passthrough` in the classifier itself,\n",
    "3. Calculate the `accuracy`, `precision`, and `recall` for the model with the best parameters (in terms of accuracy) on the test set (if there are several of them with equal values, choose the one with the higher precision). Use `final_estimator=LogisticRegression(solver='liblinear')`."
   ]
  },
  {
   "cell_type": "code",
   "execution_count": 162,
   "metadata": {},
   "outputs": [],
   "source": [
    "def cv_gen(n):\n",
    "    return StratifiedKFold(n_splits=n, shuffle=True, random_state=21)"
   ]
  },
  {
   "cell_type": "code",
   "execution_count": 163,
   "metadata": {},
   "outputs": [
    {
     "name": "stdout",
     "output_type": "stream",
     "text": [
      "accuracy is 0.91481\n",
      "precision is 0.91781\n",
      "recall is 0.91481\n"
     ]
    }
   ],
   "source": [
    "stack = StackingClassifier(estimators=[\n",
    "    ('svm', svm), ('dt', dt), ('rfc', rfc)], cv=cv_gen(5), passthrough=False)\n",
    "stack.fit(X_train, y_train)\n",
    "voting_y_pred = stack.predict(X_valid)\n",
    "\n",
    "accuracy = accuracy_score(y_valid, voting_y_pred)\n",
    "precision = precision_score(y_valid, voting_y_pred, average='weighted')\n",
    "recall = recall_score(y_valid, voting_y_pred, average='weighted')\n",
    "\n",
    "print(f'accuracy is {accuracy:.5f}')\n",
    "print(f'precision is {precision:.5f}')\n",
    "print(f'recall is {recall:.5f}')"
   ]
  },
  {
   "cell_type": "code",
   "execution_count": 164,
   "metadata": {},
   "outputs": [
    {
     "name": "stdout",
     "output_type": "stream",
     "text": [
      "accuracy is 0.90237\n",
      "precision is 0.90522\n",
      "recall is 0.90237\n"
     ]
    }
   ],
   "source": [
    "stack = StackingClassifier(estimators=[\n",
    "    ('svm', svm), ('dt', dt), ('rfc', rfc)], cv=cv_gen(5), passthrough=False, final_estimator=LogisticRegression(solver='liblinear', multi_class='auto'))\n",
    "stack.fit(X_train, y_train)\n",
    "voting_y_pred = stack.predict(X_test)\n",
    "\n",
    "accuracy = accuracy_score(y_test, voting_y_pred)\n",
    "precision = precision_score(y_test, voting_y_pred, average='weighted')\n",
    "recall = recall_score(y_test, voting_y_pred, average='weighted')\n",
    "\n",
    "print(f'accuracy is {accuracy:.5f}')\n",
    "print(f'precision is {precision:.5f}')\n",
    "print(f'recall is {recall:.5f}')"
   ]
  },
  {
   "cell_type": "markdown",
   "metadata": {},
   "source": [
    "## 6. Predictions"
   ]
  },
  {
   "cell_type": "markdown",
   "metadata": {},
   "source": [
    "1. Choose the best model in terms of accuracy (if there are several of them with equal values, choose the one with the higher precision).\n",
    "2. Analyze: for which weekday your model makes the most errors (in % of the total number of samples of that class in your full dataset), for which labname and for which users.\n",
    "3. Save the model."
   ]
  },
  {
   "cell_type": "code",
   "execution_count": 165,
   "metadata": {},
   "outputs": [],
   "source": [
    "model = VotingClassifier(estimators=[\n",
    "    ('svm', svm), ('dt', dt), ('rfc', rfc)], voting='hard')\n",
    "model.fit(X_train, y_train)\n",
    "voting_y_pred = model.predict(X_test)\n",
    "error_df = X_test.copy()\n",
    "error_df['predict'] = voting_y_pred\n",
    "error_df['error'] = (voting_y_pred != y_test)\n",
    "total = len(X_test)"
   ]
  },
  {
   "cell_type": "code",
   "execution_count": 166,
   "metadata": {},
   "outputs": [
    {
     "name": "stdout",
     "output_type": "stream",
     "text": [
      "weekday with the most errors: 5\n",
      "2.66%\n"
     ]
    }
   ],
   "source": [
    "weekday_error = error_df[error_df['error'] == True].groupby('predict').count()['error']/total * 100\n",
    "weekday_error_max = weekday_error.idxmax()\n",
    "print(f\"weekday with the most errors: {weekday_error_max}\")\n",
    "print(f\"{weekday_error[weekday_error_max]:.2f}%\")"
   ]
  },
  {
   "cell_type": "code",
   "execution_count": 167,
   "metadata": {},
   "outputs": [
    {
     "name": "stdout",
     "output_type": "stream",
     "text": [
      "Labname with the most errors: labname_project1\n",
      "2.66%\n"
     ]
    }
   ],
   "source": [
    "labname_columns = [col for col in error_df.columns if col.startswith('labname_')]\n",
    "labname_error_counts = error_df[error_df['error'] == True][labname_columns].sum()/total * 100\n",
    "labname_with_most_errors = labname_error_counts.idxmax()\n",
    "print(f'Labname with the most errors: {labname_with_most_errors}')\n",
    "print(f\"{labname_error_counts[labname_with_most_errors]:.2f}%\")"
   ]
  },
  {
   "cell_type": "code",
   "execution_count": 168,
   "metadata": {},
   "outputs": [
    {
     "name": "stdout",
     "output_type": "stream",
     "text": [
      "Labname with the most errors: uid_user_2\n",
      "1.48%\n"
     ]
    }
   ],
   "source": [
    "uid_columns = [col for col in error_df.columns if col.startswith('uid_user_')]\n",
    "uid_error = error_df[error_df['error'] == True][uid_columns].sum()/total * 100\n",
    "uid_with_most_errors = uid_error.idxmax()\n",
    "print(f'Labname with the most errors: {uid_with_most_errors}')\n",
    "print(f\"{uid_error[uid_with_most_errors]:.2f}%\")"
   ]
  },
  {
   "cell_type": "code",
   "execution_count": null,
   "metadata": {},
   "outputs": [
    {
     "data": {
      "text/plain": [
       "['../data/best_model_ex03.pkl']"
      ]
     },
     "execution_count": 169,
     "metadata": {},
     "output_type": "execute_result"
    },
    {
     "ename": "",
     "evalue": "",
     "output_type": "error",
     "traceback": [
      "\u001b[1;31mThe Kernel crashed while executing code in the current cell or a previous cell. \n",
      "\u001b[1;31mPlease review the code in the cell(s) to identify a possible cause of the failure. \n",
      "\u001b[1;31mClick <a href='https://aka.ms/vscodeJupyterKernelCrash'>here</a> for more info. \n",
      "\u001b[1;31mView Jupyter <a href='command:jupyter.viewOutput'>log</a> for further details."
     ]
    }
   ],
   "source": [
    "joblib.dump(model, '../data/best_model_ex03.pkl')"
   ]
  }
 ],
 "metadata": {
  "kernelspec": {
   "display_name": "base",
   "language": "python",
   "name": "python3"
  },
  "language_info": {
   "codemirror_mode": {
    "name": "ipython",
    "version": 3
   },
   "file_extension": ".py",
   "mimetype": "text/x-python",
   "name": "python",
   "nbconvert_exporter": "python",
   "pygments_lexer": "ipython3",
   "version": "3.12.4"
  }
 },
 "nbformat": 4,
 "nbformat_minor": 4
}
