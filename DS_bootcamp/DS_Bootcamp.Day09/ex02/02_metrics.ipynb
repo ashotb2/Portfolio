{
 "cells": [
  {
   "cell_type": "markdown",
   "metadata": {},
   "source": [
    "# Day 09. Exercise 02\n",
    "# Metrics"
   ]
  },
  {
   "cell_type": "markdown",
   "metadata": {},
   "source": [
    "## 0. Imports"
   ]
  },
  {
   "cell_type": "code",
   "execution_count": null,
   "metadata": {},
   "outputs": [],
   "source": [
    "import pandas as pd\n",
    "from sklearn.model_selection import train_test_split\n",
    "from sklearn.svm import SVC\n",
    "from sklearn.tree import DecisionTreeClassifier\n",
    "from sklearn.ensemble import RandomForestClassifier\n",
    "from sklearn.metrics import accuracy_score, precision_score, recall_score, roc_auc_score\n",
    "import joblib"
   ]
  },
  {
   "cell_type": "markdown",
   "metadata": {},
   "source": [
    "## 1. Preprocessing"
   ]
  },
  {
   "cell_type": "markdown",
   "metadata": {},
   "source": [
    "1. Create the same dataframe as in the previous exercise.\n",
    "2. Using `train_test_split` with parameters `test_size=0.2`, `random_state=21` get `X_train`, `y_train`, `X_test`, `y_test`. Use the additional parameter `stratify`."
   ]
  },
  {
   "cell_type": "code",
   "execution_count": 300,
   "metadata": {},
   "outputs": [],
   "source": [
    "df = pd.read_csv('../data/day-of-week-not-scaled.csv')"
   ]
  },
  {
   "cell_type": "code",
   "execution_count": 301,
   "metadata": {},
   "outputs": [],
   "source": [
    "X = df.drop('dayofweek', axis=1)\n",
    "y = df['dayofweek']"
   ]
  },
  {
   "cell_type": "code",
   "execution_count": 302,
   "metadata": {},
   "outputs": [],
   "source": [
    "X_train, X_test, y_train, y_test = train_test_split(X, y, test_size=0.2, random_state=21, stratify=y)"
   ]
  },
  {
   "cell_type": "markdown",
   "metadata": {},
   "source": [
    "## 2. SVM"
   ]
  },
  {
   "cell_type": "markdown",
   "metadata": {},
   "source": [
    "1. Use the best parameters from the previous exercise and train the model of SVM.\n",
    "2. You need to calculate `accuracy`, `precision`, `recall`, `ROC AUC`.\n",
    "\n",
    " - `precision` and `recall` should be calculated for each class (use `average='weighted'`)\n",
    " - `ROC AUC` should be calculated for each class against any other class (all possible pairwise combinations) and then weighted average should be applied for the final metric\n",
    " - the code in the cell should display the result as below:\n",
    "\n",
    "```\n",
    "accuracy is 0.88757\n",
    "precision is 0.89267\n",
    "recall is 0.88757\n",
    "roc_auc is 0.97878\n",
    "```"
   ]
  },
  {
   "cell_type": "code",
   "execution_count": 303,
   "metadata": {},
   "outputs": [
    {
     "name": "stdout",
     "output_type": "stream",
     "text": [
      "accuracy is 0.88757\n",
      "precision is 0.89267\n",
      "recall is 0.88757\n",
      "roc_auc is 0.97926\n"
     ]
    }
   ],
   "source": [
    "svm = SVC(C=10, class_weight=None, gamma='auto', kernel='rbf', probability=True)\n",
    "svm.fit(X_train, y_train)\n",
    "y_pred = svm.predict(X_test)\n",
    "y_score = svm.predict_proba(X_test)\n",
    "\n",
    "accuracy = accuracy_score(y_test, y_pred)\n",
    "precision = precision_score(y_test, y_pred, average='weighted')\n",
    "recall = recall_score(y_test, y_pred, average='weighted')\n",
    "roc_auc = roc_auc_score(y_test, y_score, multi_class='ovo', average='weighted')\n",
    "\n",
    "\n",
    "print(f'accuracy is {accuracy:.5f}')\n",
    "print(f'precision is {precision:.5f}')\n",
    "print(f'recall is {recall:.5f}')\n",
    "print(f'roc_auc is {roc_auc:.5f}')"
   ]
  },
  {
   "cell_type": "markdown",
   "metadata": {},
   "source": [
    "## 3. Decision tree"
   ]
  },
  {
   "cell_type": "markdown",
   "metadata": {},
   "source": [
    "1. The same task for decision tree"
   ]
  },
  {
   "cell_type": "code",
   "execution_count": 317,
   "metadata": {},
   "outputs": [
    {
     "name": "stdout",
     "output_type": "stream",
     "text": [
      "accuracy is 0.89053\n",
      "precision is 0.89262\n",
      "recall is 0.89053\n",
      "roc_auc is 0.97926\n"
     ]
    }
   ],
   "source": [
    "dt = DecisionTreeClassifier(class_weight='balanced', criterion= 'gini', max_depth= 22, random_state=21)\n",
    "dt.fit(X_train, y_train)\n",
    "y_pred = dt.predict(X_test)\n",
    "y_pred_proba = dt.predict_proba(X_test)\n",
    "\n",
    "accuracy = accuracy_score(y_test, y_pred)\n",
    "precision = precision_score(y_test, y_pred, average='weighted')\n",
    "recall = recall_score(y_test, y_pred, average='weighted')\n",
    "roc_auc = roc_auc_score(y_test, y_score, multi_class='ovo', average='weighted')\n",
    "\n",
    "print(f'accuracy is {accuracy:.5f}')\n",
    "print(f'precision is {precision:.5f}')\n",
    "print(f'recall is {recall:.5f}')\n",
    "print(f'roc_auc is {roc_auc:.5f}')"
   ]
  },
  {
   "cell_type": "markdown",
   "metadata": {},
   "source": [
    "## 4. Random forest"
   ]
  },
  {
   "cell_type": "markdown",
   "metadata": {},
   "source": [
    "1. The same task for random forest."
   ]
  },
  {
   "cell_type": "code",
   "execution_count": 313,
   "metadata": {},
   "outputs": [
    {
     "name": "stdout",
     "output_type": "stream",
     "text": [
      "accuracy is 0.9289940828402367\n",
      "precision is 0.9300865038851309\n",
      "recall is 0.9289940828402367\n",
      "roc_auc is 0.9792598981746689\n"
     ]
    }
   ],
   "source": [
    "rfc = RandomForestClassifier(class_weight=None, criterion='gini', max_depth=28, n_estimators=50, random_state=21)\n",
    "rfc.fit(X_train, y_train)\n",
    "y_pred = rfc.predict(X_test)\n",
    "y_pred_proba = rfc.predict_proba(X_test)\n",
    "\n",
    "accuracy = accuracy_score(y_test, y_pred)\n",
    "precision = precision_score(y_test, y_pred, average='weighted')\n",
    "recall = recall_score(y_test, y_pred, average='weighted')\n",
    "roc_auc = roc_auc_score(y_test, y_score, multi_class='ovo', average='weighted')\n",
    "\n",
    "\n",
    "print(f'accuracy is {accuracy}')\n",
    "print(f'precision is {precision}')\n",
    "print(f'recall is {recall}')\n",
    "print(f'roc_auc is {roc_auc}')"
   ]
  },
  {
   "cell_type": "markdown",
   "metadata": {},
   "source": [
    "## 5. Predictions"
   ]
  },
  {
   "cell_type": "markdown",
   "metadata": {},
   "source": [
    "1. Choose the best model.\n",
    "2. Analyze: for which `weekday` your model makes the most errors (in % of the total number of samples of that class in your full dataset), for which `labname` and for which `users`.\n",
    "3. Save the model."
   ]
  },
  {
   "cell_type": "code",
   "execution_count": null,
   "metadata": {},
   "outputs": [],
   "source": [
    "model = RandomForestClassifier(class_weight=None, criterion='gini', max_depth=28, n_estimators=50, random_state=21)\n",
    "model.fit(X_train, y_train)\n",
    "pred = model.predict(X_test)\n",
    "error_df = X_test.copy()\n",
    "error_df['predict'] = pred\n",
    "error_df['error'] = (pred != y_test)\n",
    "total = X_test.shape[0]"
   ]
  },
  {
   "cell_type": "code",
   "execution_count": 307,
   "metadata": {},
   "outputs": [
    {
     "name": "stdout",
     "output_type": "stream",
     "text": [
      "weekday with the most errors: 6\n",
      "2.66%\n"
     ]
    }
   ],
   "source": [
    "weekday_error = error_df[error_df['error'] == True].groupby('predict').count()['error']/total * 100\n",
    "weekday_error_max = weekday_error.idxmax()\n",
    "print(f\"weekday with the most errors: {weekday_error_max}\")\n",
    "print(f\"{weekday_error[weekday_error_max]:.2f}%\")"
   ]
  },
  {
   "cell_type": "code",
   "execution_count": 308,
   "metadata": {},
   "outputs": [
    {
     "name": "stdout",
     "output_type": "stream",
     "text": [
      "Labname with the most errors: labname_project1\n",
      "2.96%\n"
     ]
    }
   ],
   "source": [
    "labname_columns = [col for col in error_df.columns if col.startswith('labname_')]\n",
    "labname_error_counts = error_df[error_df['error'] == True][labname_columns].sum()/total * 100\n",
    "labname_with_most_errors = labname_error_counts.idxmax()\n",
    "print(f'Labname with the most errors: {labname_with_most_errors}')\n",
    "print(f\"{labname_error_counts[labname_with_most_errors]:.2f}%\")"
   ]
  },
  {
   "cell_type": "code",
   "execution_count": 309,
   "metadata": {},
   "outputs": [
    {
     "name": "stdout",
     "output_type": "stream",
     "text": [
      "Labname with the most errors: uid_user_19\n",
      "0.89%\n"
     ]
    }
   ],
   "source": [
    "uid_columns = [col for col in error_df.columns if col.startswith('uid_user_')]\n",
    "uid_error = error_df[error_df['error'] == True][uid_columns].sum()/total * 100\n",
    "uid_with_most_errors = uid_error.idxmax()\n",
    "print(f'Labname with the most errors: {uid_with_most_errors}')\n",
    "print(f\"{uid_error[uid_with_most_errors]:.2f}%\")"
   ]
  },
  {
   "cell_type": "code",
   "execution_count": null,
   "metadata": {},
   "outputs": [],
   "source": [
    "joblib.dump(model, '../data/best_model_ex02.pkl')"
   ]
  },
  {
   "cell_type": "markdown",
   "metadata": {},
   "source": [
    "## 6. Function"
   ]
  },
  {
   "cell_type": "markdown",
   "metadata": {},
   "source": [
    "1. Write a function that takes a list of different models and a corresponding list of parameters (dicts) and returns a dict that contains all the 4 metrics for each model."
   ]
  },
  {
   "cell_type": "code",
   "execution_count": 310,
   "metadata": {},
   "outputs": [],
   "source": [
    "def evaluate_models(models, params, X_train, X_test, y_train, y_test):\n",
    "    metrics = {}\n",
    "    for model, param in zip(models, params):\n",
    "        model.set_params(**param)\n",
    "        model.fit(X_train, y_train)\n",
    "        y_pred = model.predict(X_test)\n",
    "        y_score = model.predict_proba(X_test)\n",
    "        \n",
    "        metrics[model.__class__.__name__] = {\n",
    "            'accuracy is': accuracy_score(y_test, y_pred),\n",
    "            'precision is': precision_score(y_test, y_pred, average='weighted'),\n",
    "            'recall is': recall_score(y_test, y_pred, average='weighted'),\n",
    "            'roc_auc is': roc_auc_score(y_test, y_score, multi_class='ovo', average='weighted')\n",
    "        }\n",
    "    return metrics"
   ]
  },
  {
   "cell_type": "code",
   "execution_count": 312,
   "metadata": {},
   "outputs": [
    {
     "data": {
      "text/plain": [
       "{'SVC': {'accuracy is': 0.8875739644970414,\n",
       "  'precision is': 0.8926729169690374,\n",
       "  'recall is': 0.8875739644970414,\n",
       "  'roc_auc is': 0.9778575916571358},\n",
       " 'DecisionTreeClassifier': {'accuracy is': 0.893491124260355,\n",
       "  'precision is': 0.8961989934143335,\n",
       "  'recall is': 0.893491124260355,\n",
       "  'roc_auc is': 0.9355814781907797},\n",
       " 'RandomForestClassifier': {'accuracy is': 0.9289940828402367,\n",
       "  'precision is': 0.9309815254490661,\n",
       "  'recall is': 0.9289940828402367,\n",
       "  'roc_auc is': 0.9855725850159197}}"
      ]
     },
     "execution_count": 312,
     "metadata": {},
     "output_type": "execute_result"
    }
   ],
   "source": [
    "evaluate_models(\n",
    "    [SVC(), DecisionTreeClassifier(), RandomForestClassifier()],\n",
    "    [\n",
    "        {'C': 10, 'class_weight': None, 'gamma': 'auto', 'kernel': 'rbf', 'probability': True},\n",
    "        {'class_weight': 'balanced', 'criterion': 'gini', 'max_depth': 39, 'random_state': 21},\n",
    "        {'class_weight': 'balanced', 'criterion': 'gini', 'max_depth': 26, 'n_estimators': 50, 'random_state': 21}\n",
    "    ],\n",
    "    X_train, X_test, y_train, y_test\n",
    ")"
   ]
  }
 ],
 "metadata": {
  "kernelspec": {
   "display_name": "base",
   "language": "python",
   "name": "python3"
  },
  "language_info": {
   "codemirror_mode": {
    "name": "ipython",
    "version": 3
   },
   "file_extension": ".py",
   "mimetype": "text/x-python",
   "name": "python",
   "nbconvert_exporter": "python",
   "pygments_lexer": "ipython3",
   "version": "3.12.4"
  }
 },
 "nbformat": 4,
 "nbformat_minor": 4
}
